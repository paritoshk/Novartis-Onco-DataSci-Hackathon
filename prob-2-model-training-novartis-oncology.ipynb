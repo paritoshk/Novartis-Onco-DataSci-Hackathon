{
 "cells": [
  {
   "cell_type": "code",
   "execution_count": 1,
   "metadata": {
    "_cell_guid": "b1076dfc-b9ad-4769-8c92-a6c4dae69d19",
    "_uuid": "8f2839f25d086af736a60e9eeb907d3b93b6e0e5",
    "execution": {
     "iopub.execute_input": "2020-10-12T19:18:15.234770Z",
     "iopub.status.busy": "2020-10-12T19:18:15.233739Z",
     "iopub.status.idle": "2020-10-12T19:18:16.450441Z",
     "shell.execute_reply": "2020-10-12T19:18:16.451377Z"
    },
    "papermill": {
     "duration": 1.293969,
     "end_time": "2020-10-12T19:18:16.451701",
     "exception": false,
     "start_time": "2020-10-12T19:18:15.157732",
     "status": "completed"
    },
    "tags": []
   },
   "outputs": [
    {
     "name": "stdout",
     "output_type": "stream",
     "text": [
      "/kaggle/input/custom-novartis-oncology-hackathon-2020/merged_px_rx_outer.txt\n",
      "/kaggle/input/custom-novartis-oncology-hackathon-2020/PX.txt\n",
      "/kaggle/input/custom-novartis-oncology-hackathon-2020/all_data_grouped2.txt\n",
      "/kaggle/input/custom-novartis-oncology-hackathon-2020/DIAG_2l.txt\n",
      "/kaggle/input/custom-novartis-oncology-hackathon-2020/problem_2_grouped_data.txt\n",
      "/kaggle/input/custom-novartis-oncology-hackathon-2020/PX_2l.txt\n",
      "/kaggle/input/custom-novartis-oncology-hackathon-2020/RX.txt\n",
      "/kaggle/input/custom-novartis-oncology-hackathon-2020/PROCEDURE_reference_20200925.txt\n",
      "/kaggle/input/custom-novartis-oncology-hackathon-2020/RX_2l.txt\n",
      "/kaggle/input/custom-novartis-oncology-hackathon-2020/PRODUCT_reference_20200925.txt\n",
      "/kaggle/input/custom-novartis-oncology-hackathon-2020/all_data_proc_abbr.txt\n",
      "/kaggle/input/custom-novartis-oncology-hackathon-2020/problem_1_grouped_data.txt\n",
      "/kaggle/input/custom-novartis-oncology-hackathon-2020/all_data_new.txt\n",
      "/kaggle/input/custom-novartis-oncology-hackathon-2020/DIAG.txt\n",
      "/kaggle/input/custom-novartis-oncology-hackathon-2020/BC_SN ICD Code.xlsx\n",
      "/kaggle/input/custom-novartis-oncology-hackathon-2020/DIAGNOSIS_reference_20200925.txt\n"
     ]
    }
   ],
   "source": [
    "# This Python 3 environment comes with many helpful analytics libraries installed\n",
    "# It is defined by the kaggle/python Docker image: https://github.com/kaggle/docker-python\n",
    "# For example, here's several helpful packages to load\n",
    "\n",
    "import pandas as pd\n",
    "import matplotlib.pyplot as plt\n",
    "import seaborn as sns\n",
    "import numpy as np\n",
    "import datetime\n",
    "# Input data files are available in the read-only \"../input/\" directory\n",
    "# For example, running this (by clicking run or pressing Shift+Enter) will list all files under the input directory\n",
    "\n",
    "import os\n",
    "for dirname, _, filenames in os.walk('/kaggle/input'):\n",
    "    for filename in filenames:\n",
    "        print(os.path.join(dirname, filename))\n",
    "\n",
    "# You can write up to 5GB to the current directory (/kaggle/working/) that gets preserved as output when you create a version using \"Save & Run All\" \n",
    "# You can also write temporary files to /kaggle/temp/, but they won't be saved outside of the current session"
   ]
  },
  {
   "cell_type": "code",
   "execution_count": 2,
   "metadata": {
    "_cell_guid": "79c7e3d0-c299-4dcb-8224-4455121ee9b0",
    "_uuid": "d629ff2d2480ee46fbb7e2d37f6b5fab8052498a",
    "execution": {
     "iopub.execute_input": "2020-10-12T19:18:16.570769Z",
     "iopub.status.busy": "2020-10-12T19:18:16.569549Z",
     "iopub.status.idle": "2020-10-12T19:18:16.574226Z",
     "shell.execute_reply": "2020-10-12T19:18:16.573352Z"
    },
    "papermill": {
     "duration": 0.067327,
     "end_time": "2020-10-12T19:18:16.574376",
     "exception": false,
     "start_time": "2020-10-12T19:18:16.507049",
     "status": "completed"
    },
    "tags": []
   },
   "outputs": [],
   "source": [
    "%matplotlib inline"
   ]
  },
  {
   "cell_type": "code",
   "execution_count": 3,
   "metadata": {
    "execution": {
     "iopub.execute_input": "2020-10-12T19:18:16.689226Z",
     "iopub.status.busy": "2020-10-12T19:18:16.688390Z",
     "iopub.status.idle": "2020-10-12T19:18:17.143781Z",
     "shell.execute_reply": "2020-10-12T19:18:17.143096Z"
    },
    "papermill": {
     "duration": 0.515385,
     "end_time": "2020-10-12T19:18:17.143968",
     "exception": false,
     "start_time": "2020-10-12T19:18:16.628583",
     "status": "completed"
    },
    "tags": []
   },
   "outputs": [],
   "source": [
    "train = pd.read_csv(\"/kaggle/input/custom-novartis-oncology-hackathon-2020/problem_2_grouped_data.txt\", compression='gzip', sep='|')"
   ]
  },
  {
   "cell_type": "code",
   "execution_count": 4,
   "metadata": {
    "execution": {
     "iopub.execute_input": "2020-10-12T19:18:17.258741Z",
     "iopub.status.busy": "2020-10-12T19:18:17.257917Z",
     "iopub.status.idle": "2020-10-12T19:18:17.261427Z",
     "shell.execute_reply": "2020-10-12T19:18:17.260570Z"
    },
    "papermill": {
     "duration": 0.063014,
     "end_time": "2020-10-12T19:18:17.261583",
     "exception": false,
     "start_time": "2020-10-12T19:18:17.198569",
     "status": "completed"
    },
    "tags": []
   },
   "outputs": [],
   "source": [
    "# train2 = pd.read_csv(\"/kaggle/input/custom-novartis-oncology-hackathon-2020/all_data_grouped2.txt\",compression='gzip',sep='|')"
   ]
  },
  {
   "cell_type": "code",
   "execution_count": 5,
   "metadata": {
    "execution": {
     "iopub.execute_input": "2020-10-12T19:18:17.401207Z",
     "iopub.status.busy": "2020-10-12T19:18:17.388503Z",
     "iopub.status.idle": "2020-10-12T19:18:17.417939Z",
     "shell.execute_reply": "2020-10-12T19:18:17.417177Z"
    },
    "papermill": {
     "duration": 0.100416,
     "end_time": "2020-10-12T19:18:17.418084",
     "exception": false,
     "start_time": "2020-10-12T19:18:17.317668",
     "status": "completed"
    },
    "tags": []
   },
   "outputs": [
    {
     "data": {
      "text/html": [
       "<div>\n",
       "<style scoped>\n",
       "    .dataframe tbody tr th:only-of-type {\n",
       "        vertical-align: middle;\n",
       "    }\n",
       "\n",
       "    .dataframe tbody tr th {\n",
       "        vertical-align: top;\n",
       "    }\n",
       "\n",
       "    .dataframe thead th {\n",
       "        text-align: right;\n",
       "    }\n",
       "</style>\n",
       "<table border=\"1\" class=\"dataframe\">\n",
       "  <thead>\n",
       "    <tr style=\"text-align: right;\">\n",
       "      <th></th>\n",
       "      <th>PATIENT_ID</th>\n",
       "      <th>PROVIDER_BILLING_ID</th>\n",
       "      <th>PROVIDER_FACILITY_ID</th>\n",
       "      <th>PROVIDER_REFERRING_ID</th>\n",
       "      <th>PROVIDER_RENDERING_ID</th>\n",
       "      <th>PAYER_PLAN_ID</th>\n",
       "      <th>PROVIDER_ID</th>\n",
       "      <th>BOOL_FLEXIBLE_FLD</th>\n",
       "      <th>WEEK_ID</th>\n",
       "      <th>BOOL_PROC_MOD</th>\n",
       "      <th>...</th>\n",
       "      <th>BRAND_VER</th>\n",
       "      <th>BRAND_nan</th>\n",
       "      <th>DRUG_CLASS_AI</th>\n",
       "      <th>DRUG_CLASS_AM</th>\n",
       "      <th>DRUG_CLASS_KI</th>\n",
       "      <th>DRUG_CLASS_OTHERS</th>\n",
       "      <th>DRUG_CLASS_SERD</th>\n",
       "      <th>DRUG_CLASS_SERM</th>\n",
       "      <th>DRUG_CLASS_nan</th>\n",
       "      <th>TREATMENT_CHANGE</th>\n",
       "    </tr>\n",
       "  </thead>\n",
       "  <tbody>\n",
       "    <tr>\n",
       "      <th>0</th>\n",
       "      <td>29360529</td>\n",
       "      <td>3</td>\n",
       "      <td>1</td>\n",
       "      <td>2</td>\n",
       "      <td>5</td>\n",
       "      <td>5</td>\n",
       "      <td>1</td>\n",
       "      <td>22</td>\n",
       "      <td>11</td>\n",
       "      <td>4</td>\n",
       "      <td>...</td>\n",
       "      <td>0</td>\n",
       "      <td>40.0</td>\n",
       "      <td>1</td>\n",
       "      <td>0</td>\n",
       "      <td>0</td>\n",
       "      <td>0.0</td>\n",
       "      <td>0.0</td>\n",
       "      <td>6</td>\n",
       "      <td>40.0</td>\n",
       "      <td>1</td>\n",
       "    </tr>\n",
       "    <tr>\n",
       "      <th>1</th>\n",
       "      <td>29425424</td>\n",
       "      <td>16</td>\n",
       "      <td>1</td>\n",
       "      <td>14</td>\n",
       "      <td>27</td>\n",
       "      <td>6</td>\n",
       "      <td>3</td>\n",
       "      <td>443</td>\n",
       "      <td>76</td>\n",
       "      <td>58</td>\n",
       "      <td>...</td>\n",
       "      <td>0</td>\n",
       "      <td>450.0</td>\n",
       "      <td>18</td>\n",
       "      <td>0</td>\n",
       "      <td>1</td>\n",
       "      <td>0.0</td>\n",
       "      <td>0.0</td>\n",
       "      <td>0</td>\n",
       "      <td>450.0</td>\n",
       "      <td>1</td>\n",
       "    </tr>\n",
       "    <tr>\n",
       "      <th>2</th>\n",
       "      <td>29494927</td>\n",
       "      <td>4</td>\n",
       "      <td>1</td>\n",
       "      <td>4</td>\n",
       "      <td>8</td>\n",
       "      <td>8</td>\n",
       "      <td>3</td>\n",
       "      <td>361</td>\n",
       "      <td>160</td>\n",
       "      <td>58</td>\n",
       "      <td>...</td>\n",
       "      <td>0</td>\n",
       "      <td>123.0</td>\n",
       "      <td>3</td>\n",
       "      <td>0</td>\n",
       "      <td>0</td>\n",
       "      <td>382.0</td>\n",
       "      <td>0.0</td>\n",
       "      <td>0</td>\n",
       "      <td>123.0</td>\n",
       "      <td>0</td>\n",
       "    </tr>\n",
       "    <tr>\n",
       "      <th>3</th>\n",
       "      <td>29531186</td>\n",
       "      <td>5</td>\n",
       "      <td>1</td>\n",
       "      <td>8</td>\n",
       "      <td>38</td>\n",
       "      <td>10</td>\n",
       "      <td>1</td>\n",
       "      <td>1538</td>\n",
       "      <td>60</td>\n",
       "      <td>316</td>\n",
       "      <td>...</td>\n",
       "      <td>0</td>\n",
       "      <td>1289.0</td>\n",
       "      <td>3</td>\n",
       "      <td>0</td>\n",
       "      <td>0</td>\n",
       "      <td>291.0</td>\n",
       "      <td>0.0</td>\n",
       "      <td>0</td>\n",
       "      <td>1289.0</td>\n",
       "      <td>0</td>\n",
       "    </tr>\n",
       "    <tr>\n",
       "      <th>4</th>\n",
       "      <td>29537719</td>\n",
       "      <td>3</td>\n",
       "      <td>1</td>\n",
       "      <td>6</td>\n",
       "      <td>7</td>\n",
       "      <td>5</td>\n",
       "      <td>2</td>\n",
       "      <td>42</td>\n",
       "      <td>31</td>\n",
       "      <td>9</td>\n",
       "      <td>...</td>\n",
       "      <td>0</td>\n",
       "      <td>37.0</td>\n",
       "      <td>18</td>\n",
       "      <td>0</td>\n",
       "      <td>0</td>\n",
       "      <td>2.0</td>\n",
       "      <td>3.0</td>\n",
       "      <td>0</td>\n",
       "      <td>37.0</td>\n",
       "      <td>1</td>\n",
       "    </tr>\n",
       "  </tbody>\n",
       "</table>\n",
       "<p>5 rows × 117 columns</p>\n",
       "</div>"
      ],
      "text/plain": [
       "   PATIENT_ID  PROVIDER_BILLING_ID  PROVIDER_FACILITY_ID  \\\n",
       "0    29360529                    3                     1   \n",
       "1    29425424                   16                     1   \n",
       "2    29494927                    4                     1   \n",
       "3    29531186                    5                     1   \n",
       "4    29537719                    3                     1   \n",
       "\n",
       "   PROVIDER_REFERRING_ID  PROVIDER_RENDERING_ID  PAYER_PLAN_ID  PROVIDER_ID  \\\n",
       "0                      2                      5              5            1   \n",
       "1                     14                     27              6            3   \n",
       "2                      4                      8              8            3   \n",
       "3                      8                     38             10            1   \n",
       "4                      6                      7              5            2   \n",
       "\n",
       "   BOOL_FLEXIBLE_FLD  WEEK_ID  BOOL_PROC_MOD  ...  BRAND_VER  BRAND_nan  \\\n",
       "0                 22       11              4  ...          0       40.0   \n",
       "1                443       76             58  ...          0      450.0   \n",
       "2                361      160             58  ...          0      123.0   \n",
       "3               1538       60            316  ...          0     1289.0   \n",
       "4                 42       31              9  ...          0       37.0   \n",
       "\n",
       "   DRUG_CLASS_AI  DRUG_CLASS_AM  DRUG_CLASS_KI  DRUG_CLASS_OTHERS  \\\n",
       "0              1              0              0                0.0   \n",
       "1             18              0              1                0.0   \n",
       "2              3              0              0              382.0   \n",
       "3              3              0              0              291.0   \n",
       "4             18              0              0                2.0   \n",
       "\n",
       "   DRUG_CLASS_SERD  DRUG_CLASS_SERM  DRUG_CLASS_nan  TREATMENT_CHANGE  \n",
       "0              0.0                6            40.0                 1  \n",
       "1              0.0                0           450.0                 1  \n",
       "2              0.0                0           123.0                 0  \n",
       "3              0.0                0          1289.0                 0  \n",
       "4              3.0                0            37.0                 1  \n",
       "\n",
       "[5 rows x 117 columns]"
      ]
     },
     "execution_count": 5,
     "metadata": {},
     "output_type": "execute_result"
    }
   ],
   "source": [
    "train.head()"
   ]
  },
  {
   "cell_type": "code",
   "execution_count": 6,
   "metadata": {
    "execution": {
     "iopub.execute_input": "2020-10-12T19:18:17.534815Z",
     "iopub.status.busy": "2020-10-12T19:18:17.534003Z",
     "iopub.status.idle": "2020-10-12T19:18:17.537255Z",
     "shell.execute_reply": "2020-10-12T19:18:17.536557Z"
    },
    "papermill": {
     "duration": 0.063742,
     "end_time": "2020-10-12T19:18:17.537402",
     "exception": false,
     "start_time": "2020-10-12T19:18:17.473660",
     "status": "completed"
    },
    "tags": []
   },
   "outputs": [],
   "source": [
    "# train.info(verbose=True, null_counts=True)"
   ]
  },
  {
   "cell_type": "code",
   "execution_count": 7,
   "metadata": {
    "execution": {
     "iopub.execute_input": "2020-10-12T19:18:17.669756Z",
     "iopub.status.busy": "2020-10-12T19:18:17.668413Z",
     "iopub.status.idle": "2020-10-12T19:18:18.080210Z",
     "shell.execute_reply": "2020-10-12T19:18:18.081105Z"
    },
    "papermill": {
     "duration": 0.487011,
     "end_time": "2020-10-12T19:18:18.081386",
     "exception": false,
     "start_time": "2020-10-12T19:18:17.594375",
     "status": "completed"
    },
    "tags": []
   },
   "outputs": [
    {
     "data": {
      "text/html": [
       "<div>\n",
       "<style scoped>\n",
       "    .dataframe tbody tr th:only-of-type {\n",
       "        vertical-align: middle;\n",
       "    }\n",
       "\n",
       "    .dataframe tbody tr th {\n",
       "        vertical-align: top;\n",
       "    }\n",
       "\n",
       "    .dataframe thead th {\n",
       "        text-align: right;\n",
       "    }\n",
       "</style>\n",
       "<table border=\"1\" class=\"dataframe\">\n",
       "  <thead>\n",
       "    <tr style=\"text-align: right;\">\n",
       "      <th></th>\n",
       "      <th>PATIENT_ID</th>\n",
       "      <th>PROVIDER_BILLING_ID</th>\n",
       "      <th>PROVIDER_FACILITY_ID</th>\n",
       "      <th>PROVIDER_REFERRING_ID</th>\n",
       "      <th>PROVIDER_RENDERING_ID</th>\n",
       "      <th>PAYER_PLAN_ID</th>\n",
       "      <th>PROVIDER_ID</th>\n",
       "      <th>BOOL_FLEXIBLE_FLD</th>\n",
       "      <th>WEEK_ID</th>\n",
       "      <th>BOOL_PROC_MOD</th>\n",
       "      <th>...</th>\n",
       "      <th>BRAND_VER</th>\n",
       "      <th>BRAND_nan</th>\n",
       "      <th>DRUG_CLASS_AI</th>\n",
       "      <th>DRUG_CLASS_AM</th>\n",
       "      <th>DRUG_CLASS_KI</th>\n",
       "      <th>DRUG_CLASS_OTHERS</th>\n",
       "      <th>DRUG_CLASS_SERD</th>\n",
       "      <th>DRUG_CLASS_SERM</th>\n",
       "      <th>DRUG_CLASS_nan</th>\n",
       "      <th>TREATMENT_CHANGE</th>\n",
       "    </tr>\n",
       "  </thead>\n",
       "  <tbody>\n",
       "    <tr>\n",
       "      <th>count</th>\n",
       "      <td>1.996200e+04</td>\n",
       "      <td>19962.000000</td>\n",
       "      <td>19962.000000</td>\n",
       "      <td>19962.000000</td>\n",
       "      <td>19962.000000</td>\n",
       "      <td>19962.000000</td>\n",
       "      <td>19962.000000</td>\n",
       "      <td>19962.000000</td>\n",
       "      <td>19962.000000</td>\n",
       "      <td>19962.000000</td>\n",
       "      <td>...</td>\n",
       "      <td>19962.000000</td>\n",
       "      <td>19962.000000</td>\n",
       "      <td>19962.000000</td>\n",
       "      <td>19962.000000</td>\n",
       "      <td>19962.000000</td>\n",
       "      <td>19962.000000</td>\n",
       "      <td>19962.000000</td>\n",
       "      <td>19962.000000</td>\n",
       "      <td>19962.000000</td>\n",
       "      <td>19962.000000</td>\n",
       "    </tr>\n",
       "    <tr>\n",
       "      <th>mean</th>\n",
       "      <td>7.999345e+08</td>\n",
       "      <td>5.294610</td>\n",
       "      <td>1.061968</td>\n",
       "      <td>5.563471</td>\n",
       "      <td>12.685252</td>\n",
       "      <td>4.505160</td>\n",
       "      <td>2.857179</td>\n",
       "      <td>379.744515</td>\n",
       "      <td>45.735097</td>\n",
       "      <td>70.987677</td>\n",
       "      <td>...</td>\n",
       "      <td>0.100541</td>\n",
       "      <td>345.812043</td>\n",
       "      <td>8.783439</td>\n",
       "      <td>0.387085</td>\n",
       "      <td>0.492185</td>\n",
       "      <td>51.051598</td>\n",
       "      <td>1.566827</td>\n",
       "      <td>2.669472</td>\n",
       "      <td>345.812043</td>\n",
       "      <td>0.473550</td>\n",
       "    </tr>\n",
       "    <tr>\n",
       "      <th>std</th>\n",
       "      <td>5.041639e+08</td>\n",
       "      <td>4.089147</td>\n",
       "      <td>0.715343</td>\n",
       "      <td>4.250510</td>\n",
       "      <td>10.423836</td>\n",
       "      <td>2.561248</td>\n",
       "      <td>2.101262</td>\n",
       "      <td>471.729496</td>\n",
       "      <td>32.090731</td>\n",
       "      <td>127.990305</td>\n",
       "      <td>...</td>\n",
       "      <td>1.071541</td>\n",
       "      <td>431.705120</td>\n",
       "      <td>12.003767</td>\n",
       "      <td>3.304905</td>\n",
       "      <td>2.231720</td>\n",
       "      <td>114.904830</td>\n",
       "      <td>10.846353</td>\n",
       "      <td>7.612810</td>\n",
       "      <td>431.705120</td>\n",
       "      <td>0.499312</td>\n",
       "    </tr>\n",
       "    <tr>\n",
       "      <th>min</th>\n",
       "      <td>2.936053e+07</td>\n",
       "      <td>0.000000</td>\n",
       "      <td>0.000000</td>\n",
       "      <td>0.000000</td>\n",
       "      <td>0.000000</td>\n",
       "      <td>1.000000</td>\n",
       "      <td>0.000000</td>\n",
       "      <td>0.000000</td>\n",
       "      <td>1.000000</td>\n",
       "      <td>0.000000</td>\n",
       "      <td>...</td>\n",
       "      <td>0.000000</td>\n",
       "      <td>0.000000</td>\n",
       "      <td>0.000000</td>\n",
       "      <td>0.000000</td>\n",
       "      <td>0.000000</td>\n",
       "      <td>0.000000</td>\n",
       "      <td>0.000000</td>\n",
       "      <td>0.000000</td>\n",
       "      <td>0.000000</td>\n",
       "      <td>0.000000</td>\n",
       "    </tr>\n",
       "    <tr>\n",
       "      <th>25%</th>\n",
       "      <td>3.509969e+08</td>\n",
       "      <td>2.000000</td>\n",
       "      <td>1.000000</td>\n",
       "      <td>3.000000</td>\n",
       "      <td>5.000000</td>\n",
       "      <td>3.000000</td>\n",
       "      <td>1.000000</td>\n",
       "      <td>45.000000</td>\n",
       "      <td>22.000000</td>\n",
       "      <td>7.000000</td>\n",
       "      <td>...</td>\n",
       "      <td>0.000000</td>\n",
       "      <td>49.000000</td>\n",
       "      <td>1.000000</td>\n",
       "      <td>0.000000</td>\n",
       "      <td>0.000000</td>\n",
       "      <td>1.000000</td>\n",
       "      <td>0.000000</td>\n",
       "      <td>0.000000</td>\n",
       "      <td>49.000000</td>\n",
       "      <td>0.000000</td>\n",
       "    </tr>\n",
       "    <tr>\n",
       "      <th>50%</th>\n",
       "      <td>7.404408e+08</td>\n",
       "      <td>5.000000</td>\n",
       "      <td>1.000000</td>\n",
       "      <td>5.000000</td>\n",
       "      <td>11.000000</td>\n",
       "      <td>4.000000</td>\n",
       "      <td>2.000000</td>\n",
       "      <td>253.000000</td>\n",
       "      <td>41.000000</td>\n",
       "      <td>37.000000</td>\n",
       "      <td>...</td>\n",
       "      <td>0.000000</td>\n",
       "      <td>233.000000</td>\n",
       "      <td>4.000000</td>\n",
       "      <td>0.000000</td>\n",
       "      <td>0.000000</td>\n",
       "      <td>6.000000</td>\n",
       "      <td>0.000000</td>\n",
       "      <td>0.000000</td>\n",
       "      <td>233.000000</td>\n",
       "      <td>0.000000</td>\n",
       "    </tr>\n",
       "    <tr>\n",
       "      <th>75%</th>\n",
       "      <td>1.202524e+09</td>\n",
       "      <td>8.000000</td>\n",
       "      <td>1.000000</td>\n",
       "      <td>8.000000</td>\n",
       "      <td>18.000000</td>\n",
       "      <td>6.000000</td>\n",
       "      <td>4.000000</td>\n",
       "      <td>557.000000</td>\n",
       "      <td>62.000000</td>\n",
       "      <td>86.000000</td>\n",
       "      <td>...</td>\n",
       "      <td>0.000000</td>\n",
       "      <td>485.000000</td>\n",
       "      <td>13.000000</td>\n",
       "      <td>0.000000</td>\n",
       "      <td>0.000000</td>\n",
       "      <td>49.000000</td>\n",
       "      <td>0.000000</td>\n",
       "      <td>1.000000</td>\n",
       "      <td>485.000000</td>\n",
       "      <td>1.000000</td>\n",
       "    </tr>\n",
       "    <tr>\n",
       "      <th>max</th>\n",
       "      <td>5.236974e+09</td>\n",
       "      <td>35.000000</td>\n",
       "      <td>6.000000</td>\n",
       "      <td>44.000000</td>\n",
       "      <td>155.000000</td>\n",
       "      <td>28.000000</td>\n",
       "      <td>31.000000</td>\n",
       "      <td>7879.000000</td>\n",
       "      <td>293.000000</td>\n",
       "      <td>4537.000000</td>\n",
       "      <td>...</td>\n",
       "      <td>42.000000</td>\n",
       "      <td>7964.000000</td>\n",
       "      <td>95.000000</td>\n",
       "      <td>110.000000</td>\n",
       "      <td>43.000000</td>\n",
       "      <td>3765.000000</td>\n",
       "      <td>269.000000</td>\n",
       "      <td>77.000000</td>\n",
       "      <td>7964.000000</td>\n",
       "      <td>1.000000</td>\n",
       "    </tr>\n",
       "  </tbody>\n",
       "</table>\n",
       "<p>8 rows × 117 columns</p>\n",
       "</div>"
      ],
      "text/plain": [
       "         PATIENT_ID  PROVIDER_BILLING_ID  PROVIDER_FACILITY_ID  \\\n",
       "count  1.996200e+04         19962.000000          19962.000000   \n",
       "mean   7.999345e+08             5.294610              1.061968   \n",
       "std    5.041639e+08             4.089147              0.715343   \n",
       "min    2.936053e+07             0.000000              0.000000   \n",
       "25%    3.509969e+08             2.000000              1.000000   \n",
       "50%    7.404408e+08             5.000000              1.000000   \n",
       "75%    1.202524e+09             8.000000              1.000000   \n",
       "max    5.236974e+09            35.000000              6.000000   \n",
       "\n",
       "       PROVIDER_REFERRING_ID  PROVIDER_RENDERING_ID  PAYER_PLAN_ID  \\\n",
       "count           19962.000000           19962.000000   19962.000000   \n",
       "mean                5.563471              12.685252       4.505160   \n",
       "std                 4.250510              10.423836       2.561248   \n",
       "min                 0.000000               0.000000       1.000000   \n",
       "25%                 3.000000               5.000000       3.000000   \n",
       "50%                 5.000000              11.000000       4.000000   \n",
       "75%                 8.000000              18.000000       6.000000   \n",
       "max                44.000000             155.000000      28.000000   \n",
       "\n",
       "        PROVIDER_ID  BOOL_FLEXIBLE_FLD       WEEK_ID  BOOL_PROC_MOD  ...  \\\n",
       "count  19962.000000       19962.000000  19962.000000   19962.000000  ...   \n",
       "mean       2.857179         379.744515     45.735097      70.987677  ...   \n",
       "std        2.101262         471.729496     32.090731     127.990305  ...   \n",
       "min        0.000000           0.000000      1.000000       0.000000  ...   \n",
       "25%        1.000000          45.000000     22.000000       7.000000  ...   \n",
       "50%        2.000000         253.000000     41.000000      37.000000  ...   \n",
       "75%        4.000000         557.000000     62.000000      86.000000  ...   \n",
       "max       31.000000        7879.000000    293.000000    4537.000000  ...   \n",
       "\n",
       "          BRAND_VER     BRAND_nan  DRUG_CLASS_AI  DRUG_CLASS_AM  \\\n",
       "count  19962.000000  19962.000000   19962.000000   19962.000000   \n",
       "mean       0.100541    345.812043       8.783439       0.387085   \n",
       "std        1.071541    431.705120      12.003767       3.304905   \n",
       "min        0.000000      0.000000       0.000000       0.000000   \n",
       "25%        0.000000     49.000000       1.000000       0.000000   \n",
       "50%        0.000000    233.000000       4.000000       0.000000   \n",
       "75%        0.000000    485.000000      13.000000       0.000000   \n",
       "max       42.000000   7964.000000      95.000000     110.000000   \n",
       "\n",
       "       DRUG_CLASS_KI  DRUG_CLASS_OTHERS  DRUG_CLASS_SERD  DRUG_CLASS_SERM  \\\n",
       "count   19962.000000       19962.000000     19962.000000     19962.000000   \n",
       "mean        0.492185          51.051598         1.566827         2.669472   \n",
       "std         2.231720         114.904830        10.846353         7.612810   \n",
       "min         0.000000           0.000000         0.000000         0.000000   \n",
       "25%         0.000000           1.000000         0.000000         0.000000   \n",
       "50%         0.000000           6.000000         0.000000         0.000000   \n",
       "75%         0.000000          49.000000         0.000000         1.000000   \n",
       "max        43.000000        3765.000000       269.000000        77.000000   \n",
       "\n",
       "       DRUG_CLASS_nan  TREATMENT_CHANGE  \n",
       "count    19962.000000      19962.000000  \n",
       "mean       345.812043          0.473550  \n",
       "std        431.705120          0.499312  \n",
       "min          0.000000          0.000000  \n",
       "25%         49.000000          0.000000  \n",
       "50%        233.000000          0.000000  \n",
       "75%        485.000000          1.000000  \n",
       "max       7964.000000          1.000000  \n",
       "\n",
       "[8 rows x 117 columns]"
      ]
     },
     "execution_count": 7,
     "metadata": {},
     "output_type": "execute_result"
    }
   ],
   "source": [
    "train.describe()"
   ]
  },
  {
   "cell_type": "code",
   "execution_count": 8,
   "metadata": {
    "execution": {
     "iopub.execute_input": "2020-10-12T19:18:18.222693Z",
     "iopub.status.busy": "2020-10-12T19:18:18.221905Z",
     "iopub.status.idle": "2020-10-12T19:18:18.225608Z",
     "shell.execute_reply": "2020-10-12T19:18:18.224991Z"
    },
    "papermill": {
     "duration": 0.07269,
     "end_time": "2020-10-12T19:18:18.225767",
     "exception": false,
     "start_time": "2020-10-12T19:18:18.153077",
     "status": "completed"
    },
    "tags": []
   },
   "outputs": [],
   "source": [
    "target='TREATMENT_CHANGE'\n",
    "indexes = ['PATIENT_ID']\n",
    "categorical_columns = ['BOOL_FLEXIBLE_FLD', 'BOOL_PROC_MOD']\n",
    "numeric_columns = list(train.columns)\n",
    "numeric_columns.remove('PATIENT_ID')\n",
    "numeric_columns.remove(target)\n",
    "numeric_columns.remove(categorical_columns[0])\n",
    "numeric_columns.remove(categorical_columns[1])"
   ]
  },
  {
   "cell_type": "code",
   "execution_count": 9,
   "metadata": {
    "execution": {
     "iopub.execute_input": "2020-10-12T19:18:18.349001Z",
     "iopub.status.busy": "2020-10-12T19:18:18.347823Z",
     "iopub.status.idle": "2020-10-12T19:18:18.352278Z",
     "shell.execute_reply": "2020-10-12T19:18:18.351552Z"
    },
    "papermill": {
     "duration": 0.068667,
     "end_time": "2020-10-12T19:18:18.352441",
     "exception": false,
     "start_time": "2020-10-12T19:18:18.283774",
     "status": "completed"
    },
    "tags": []
   },
   "outputs": [],
   "source": [
    "all_cols = numeric_columns + categorical_columns"
   ]
  },
  {
   "cell_type": "code",
   "execution_count": 10,
   "metadata": {
    "execution": {
     "iopub.execute_input": "2020-10-12T19:18:18.474657Z",
     "iopub.status.busy": "2020-10-12T19:18:18.473545Z",
     "iopub.status.idle": "2020-10-12T19:18:18.476530Z",
     "shell.execute_reply": "2020-10-12T19:18:18.477113Z"
    },
    "papermill": {
     "duration": 0.067336,
     "end_time": "2020-10-12T19:18:18.477313",
     "exception": false,
     "start_time": "2020-10-12T19:18:18.409977",
     "status": "completed"
    },
    "tags": []
   },
   "outputs": [],
   "source": [
    "def convert_type(df):\n",
    "    for column in categorical_columns:\n",
    "        df[column] = df[column].astype('category')\n",
    "        \n",
    "#     for col in date_columns: \n",
    "#         df[col] = pd.to_datetime(df[col]) \n",
    "#         df[col] = df[col].apply(pd.datetime.toordinal)"
   ]
  },
  {
   "cell_type": "code",
   "execution_count": 11,
   "metadata": {
    "execution": {
     "iopub.execute_input": "2020-10-12T19:18:18.597747Z",
     "iopub.status.busy": "2020-10-12T19:18:18.596952Z",
     "iopub.status.idle": "2020-10-12T19:18:18.622386Z",
     "shell.execute_reply": "2020-10-12T19:18:18.622977Z"
    },
    "papermill": {
     "duration": 0.08866,
     "end_time": "2020-10-12T19:18:18.623162",
     "exception": false,
     "start_time": "2020-10-12T19:18:18.534502",
     "status": "completed"
    },
    "tags": []
   },
   "outputs": [],
   "source": [
    "convert_type(train)"
   ]
  },
  {
   "cell_type": "code",
   "execution_count": 12,
   "metadata": {
    "execution": {
     "iopub.execute_input": "2020-10-12T19:18:18.743152Z",
     "iopub.status.busy": "2020-10-12T19:18:18.742110Z",
     "iopub.status.idle": "2020-10-12T19:18:18.745728Z",
     "shell.execute_reply": "2020-10-12T19:18:18.745085Z"
    },
    "papermill": {
     "duration": 0.0656,
     "end_time": "2020-10-12T19:18:18.745884",
     "exception": false,
     "start_time": "2020-10-12T19:18:18.680284",
     "status": "completed"
    },
    "tags": []
   },
   "outputs": [],
   "source": [
    "# train_rows_all = set(train[indexes])"
   ]
  },
  {
   "cell_type": "code",
   "execution_count": 13,
   "metadata": {
    "execution": {
     "iopub.execute_input": "2020-10-12T19:18:18.878639Z",
     "iopub.status.busy": "2020-10-12T19:18:18.877622Z",
     "iopub.status.idle": "2020-10-12T19:18:18.883481Z",
     "shell.execute_reply": "2020-10-12T19:18:18.882607Z"
    },
    "papermill": {
     "duration": 0.078218,
     "end_time": "2020-10-12T19:18:18.883640",
     "exception": false,
     "start_time": "2020-10-12T19:18:18.805422",
     "status": "completed"
    },
    "tags": []
   },
   "outputs": [
    {
     "data": {
      "text/plain": [
       "(19962, 116)"
      ]
     },
     "execution_count": 13,
     "metadata": {},
     "output_type": "execute_result"
    }
   ],
   "source": [
    "train.drop(target,axis=1).shape"
   ]
  },
  {
   "cell_type": "code",
   "execution_count": 14,
   "metadata": {
    "execution": {
     "iopub.execute_input": "2020-10-12T19:18:19.011622Z",
     "iopub.status.busy": "2020-10-12T19:18:19.010469Z",
     "iopub.status.idle": "2020-10-12T19:18:19.014646Z",
     "shell.execute_reply": "2020-10-12T19:18:19.015548Z"
    },
    "papermill": {
     "duration": 0.074176,
     "end_time": "2020-10-12T19:18:19.015796",
     "exception": false,
     "start_time": "2020-10-12T19:18:18.941620",
     "status": "completed"
    },
    "tags": []
   },
   "outputs": [
    {
     "data": {
      "text/plain": [
       "(19962, 117)"
      ]
     },
     "execution_count": 14,
     "metadata": {},
     "output_type": "execute_result"
    }
   ],
   "source": [
    "train.shape"
   ]
  },
  {
   "cell_type": "code",
   "execution_count": null,
   "metadata": {
    "papermill": {
     "duration": 0.05923,
     "end_time": "2020-10-12T19:18:19.137328",
     "exception": false,
     "start_time": "2020-10-12T19:18:19.078098",
     "status": "completed"
    },
    "tags": []
   },
   "outputs": [],
   "source": []
  },
  {
   "cell_type": "code",
   "execution_count": 15,
   "metadata": {
    "execution": {
     "iopub.execute_input": "2020-10-12T19:18:19.261584Z",
     "iopub.status.busy": "2020-10-12T19:18:19.260489Z",
     "iopub.status.idle": "2020-10-12T19:18:19.264514Z",
     "shell.execute_reply": "2020-10-12T19:18:19.263924Z"
    },
    "papermill": {
     "duration": 0.06859,
     "end_time": "2020-10-12T19:18:19.264664",
     "exception": false,
     "start_time": "2020-10-12T19:18:19.196074",
     "status": "completed"
    },
    "tags": []
   },
   "outputs": [],
   "source": [
    "# from sklearn.preprocessing import LabelEncoder\n",
    "# le = LabelEncoder()\n",
    "\n",
    "# for i in categorical_columns:\n",
    "#     df_total[i]=le.fit_transform(df_total[i])\n",
    "\n",
    "# le = LabelEncoder()\n",
    "# for i in boolean_columns:\n",
    "#     df_total[i] = le.fit_transform(df_total[i])"
   ]
  },
  {
   "cell_type": "markdown",
   "metadata": {
    "papermill": {
     "duration": 0.059013,
     "end_time": "2020-10-12T19:18:19.383130",
     "exception": false,
     "start_time": "2020-10-12T19:18:19.324117",
     "status": "completed"
    },
    "tags": []
   },
   "source": [
    "## Binary categories"
   ]
  },
  {
   "cell_type": "code",
   "execution_count": 16,
   "metadata": {
    "execution": {
     "iopub.execute_input": "2020-10-12T19:18:19.506262Z",
     "iopub.status.busy": "2020-10-12T19:18:19.505423Z",
     "iopub.status.idle": "2020-10-12T19:18:19.509453Z",
     "shell.execute_reply": "2020-10-12T19:18:19.508657Z"
    },
    "papermill": {
     "duration": 0.067742,
     "end_time": "2020-10-12T19:18:19.509601",
     "exception": false,
     "start_time": "2020-10-12T19:18:19.441859",
     "status": "completed"
    },
    "tags": []
   },
   "outputs": [],
   "source": [
    "# import category_encoders as ce\n",
    "\n",
    "# ce_bin=ce.BinaryEncoder(cols=categorical_columns)\n",
    "# df_total_binary = ce_bin.fit_transform(df_total)"
   ]
  },
  {
   "cell_type": "markdown",
   "metadata": {
    "papermill": {
     "duration": 0.059801,
     "end_time": "2020-10-12T19:18:19.629195",
     "exception": false,
     "start_time": "2020-10-12T19:18:19.569394",
     "status": "completed"
    },
    "tags": []
   },
   "source": [
    "## Split Train and test"
   ]
  },
  {
   "cell_type": "code",
   "execution_count": 17,
   "metadata": {
    "execution": {
     "iopub.execute_input": "2020-10-12T19:18:19.761826Z",
     "iopub.status.busy": "2020-10-12T19:18:19.760913Z",
     "iopub.status.idle": "2020-10-12T19:18:19.764998Z",
     "shell.execute_reply": "2020-10-12T19:18:19.764155Z"
    },
    "papermill": {
     "duration": 0.076362,
     "end_time": "2020-10-12T19:18:19.765160",
     "exception": false,
     "start_time": "2020-10-12T19:18:19.688798",
     "status": "completed"
    },
    "tags": []
   },
   "outputs": [],
   "source": [
    "X= train[all_cols]\n",
    "y= train[[target]]"
   ]
  },
  {
   "cell_type": "code",
   "execution_count": 18,
   "metadata": {
    "execution": {
     "iopub.execute_input": "2020-10-12T19:18:19.891343Z",
     "iopub.status.busy": "2020-10-12T19:18:19.890559Z",
     "iopub.status.idle": "2020-10-12T19:18:20.078642Z",
     "shell.execute_reply": "2020-10-12T19:18:20.079315Z"
    },
    "papermill": {
     "duration": 0.25431,
     "end_time": "2020-10-12T19:18:20.079507",
     "exception": false,
     "start_time": "2020-10-12T19:18:19.825197",
     "status": "completed"
    },
    "tags": []
   },
   "outputs": [],
   "source": [
    "from sklearn.model_selection import train_test_split\n",
    "\n",
    "X_train, X_test, y_train, y_test = train_test_split(X, y, test_size=0.25, random_state=42)"
   ]
  },
  {
   "cell_type": "code",
   "execution_count": 19,
   "metadata": {
    "execution": {
     "iopub.execute_input": "2020-10-12T19:18:20.208239Z",
     "iopub.status.busy": "2020-10-12T19:18:20.207412Z",
     "iopub.status.idle": "2020-10-12T19:18:20.235044Z",
     "shell.execute_reply": "2020-10-12T19:18:20.234339Z"
    },
    "papermill": {
     "duration": 0.094228,
     "end_time": "2020-10-12T19:18:20.235203",
     "exception": false,
     "start_time": "2020-10-12T19:18:20.140975",
     "status": "completed"
    },
    "tags": []
   },
   "outputs": [
    {
     "name": "stdout",
     "output_type": "stream",
     "text": [
      "(9453, 117)\n",
      "(10509, 117)\n"
     ]
    }
   ],
   "source": [
    "print(train[train[target] == 1].shape)\n",
    "print(train[train[target] == 0].shape)"
   ]
  },
  {
   "cell_type": "code",
   "execution_count": 20,
   "metadata": {
    "execution": {
     "iopub.execute_input": "2020-10-12T19:18:20.366339Z",
     "iopub.status.busy": "2020-10-12T19:18:20.365237Z",
     "iopub.status.idle": "2020-10-12T19:18:20.373297Z",
     "shell.execute_reply": "2020-10-12T19:18:20.374280Z"
    },
    "papermill": {
     "duration": 0.078573,
     "end_time": "2020-10-12T19:18:20.374510",
     "exception": false,
     "start_time": "2020-10-12T19:18:20.295937",
     "status": "completed"
    },
    "tags": []
   },
   "outputs": [
    {
     "name": "stdout",
     "output_type": "stream",
     "text": [
      "(7120, 1)\n",
      "(7851, 1)\n"
     ]
    }
   ],
   "source": [
    "print(y_train[y_train[target] == 1].shape)\n",
    "print(y_train[y_train[target] == 0].shape)"
   ]
  },
  {
   "cell_type": "code",
   "execution_count": 21,
   "metadata": {
    "execution": {
     "iopub.execute_input": "2020-10-12T19:18:20.502695Z",
     "iopub.status.busy": "2020-10-12T19:18:20.501941Z",
     "iopub.status.idle": "2020-10-12T19:18:20.522475Z",
     "shell.execute_reply": "2020-10-12T19:18:20.521610Z"
    },
    "papermill": {
     "duration": 0.087322,
     "end_time": "2020-10-12T19:18:20.522628",
     "exception": false,
     "start_time": "2020-10-12T19:18:20.435306",
     "status": "completed"
    },
    "tags": []
   },
   "outputs": [],
   "source": [
    "temp_train = pd.concat([X_train,y_train],axis=1)"
   ]
  },
  {
   "cell_type": "code",
   "execution_count": 22,
   "metadata": {
    "execution": {
     "iopub.execute_input": "2020-10-12T19:18:20.653862Z",
     "iopub.status.busy": "2020-10-12T19:18:20.652518Z",
     "iopub.status.idle": "2020-10-12T19:18:20.696459Z",
     "shell.execute_reply": "2020-10-12T19:18:20.695455Z"
    },
    "papermill": {
     "duration": 0.112599,
     "end_time": "2020-10-12T19:18:20.696641",
     "exception": false,
     "start_time": "2020-10-12T19:18:20.584042",
     "status": "completed"
    },
    "tags": []
   },
   "outputs": [
    {
     "name": "stdout",
     "output_type": "stream",
     "text": [
      "(7120, 116)\n",
      "(7851, 116)\n"
     ]
    }
   ],
   "source": [
    "print(temp_train[temp_train[target] == 1].shape)\n",
    "print(temp_train[temp_train[target] == 0].shape)"
   ]
  },
  {
   "cell_type": "code",
   "execution_count": 23,
   "metadata": {
    "execution": {
     "iopub.execute_input": "2020-10-12T19:18:20.826711Z",
     "iopub.status.busy": "2020-10-12T19:18:20.825824Z",
     "iopub.status.idle": "2020-10-12T19:18:20.830593Z",
     "shell.execute_reply": "2020-10-12T19:18:20.829786Z"
    },
    "papermill": {
     "duration": 0.072254,
     "end_time": "2020-10-12T19:18:20.830740",
     "exception": false,
     "start_time": "2020-10-12T19:18:20.758486",
     "status": "completed"
    },
    "tags": []
   },
   "outputs": [
    {
     "data": {
      "text/plain": [
       "(14971, 116)"
      ]
     },
     "execution_count": 23,
     "metadata": {},
     "output_type": "execute_result"
    }
   ],
   "source": [
    "temp_train.shape"
   ]
  },
  {
   "cell_type": "markdown",
   "metadata": {
    "papermill": {
     "duration": 0.060919,
     "end_time": "2020-10-12T19:18:20.953201",
     "exception": false,
     "start_time": "2020-10-12T19:18:20.892282",
     "status": "completed"
    },
    "tags": []
   },
   "source": [
    "## Down Sampling"
   ]
  },
  {
   "cell_type": "markdown",
   "metadata": {
    "papermill": {
     "duration": 0.061093,
     "end_time": "2020-10-12T19:18:21.076372",
     "exception": false,
     "start_time": "2020-10-12T19:18:21.015279",
     "status": "completed"
    },
    "tags": []
   },
   "source": [
    "### Since both the categories are in equal amounts we dont need sampling"
   ]
  },
  {
   "cell_type": "code",
   "execution_count": 24,
   "metadata": {
    "execution": {
     "iopub.execute_input": "2020-10-12T19:18:21.207254Z",
     "iopub.status.busy": "2020-10-12T19:18:21.206147Z",
     "iopub.status.idle": "2020-10-12T19:18:21.209605Z",
     "shell.execute_reply": "2020-10-12T19:18:21.210179Z"
    },
    "papermill": {
     "duration": 0.071011,
     "end_time": "2020-10-12T19:18:21.210378",
     "exception": false,
     "start_time": "2020-10-12T19:18:21.139367",
     "status": "completed"
    },
    "tags": []
   },
   "outputs": [],
   "source": [
    "# from sklearn.utils import resample\n",
    "\n",
    "# #separating majority and minority classes\n",
    "# df_majority = temp_train[temp_train[target] == 0]\n",
    "# df_minority = temp_train[temp_train[target] == 1]\n",
    "\n",
    "# df_majority_downsampled = resample(df_majority,\n",
    "#                                    replace=False,\n",
    "#                                    n_samples=3018,\n",
    "#                                    random_state=42)\n",
    "\n",
    "# df_downsampled = pd.concat([df_minority,df_majority_downsampled],axis=0)\n",
    "\n",
    "# #splitting dependent and independent variables\n",
    "\n",
    "# df_downsampled_X = df_downsampled[numeric_columns]\n",
    "# df_downsampled_Y = df_downsampled[[target]]\n",
    "\n",
    "# print(df_downsampled_X.shape)\n",
    "# print(df_downsampled_Y.shape)"
   ]
  },
  {
   "cell_type": "code",
   "execution_count": 25,
   "metadata": {
    "execution": {
     "iopub.execute_input": "2020-10-12T19:18:21.351963Z",
     "iopub.status.busy": "2020-10-12T19:18:21.350877Z",
     "iopub.status.idle": "2020-10-12T19:18:21.355161Z",
     "shell.execute_reply": "2020-10-12T19:18:21.354242Z"
    },
    "papermill": {
     "duration": 0.074404,
     "end_time": "2020-10-12T19:18:21.355357",
     "exception": false,
     "start_time": "2020-10-12T19:18:21.280953",
     "status": "completed"
    },
    "tags": []
   },
   "outputs": [],
   "source": [
    "# df_downsampled.head()"
   ]
  },
  {
   "cell_type": "markdown",
   "metadata": {
    "papermill": {
     "duration": 0.061518,
     "end_time": "2020-10-12T19:18:21.479005",
     "exception": false,
     "start_time": "2020-10-12T19:18:21.417487",
     "status": "completed"
    },
    "tags": []
   },
   "source": [
    "## Up Sampling"
   ]
  },
  {
   "cell_type": "code",
   "execution_count": 26,
   "metadata": {
    "execution": {
     "iopub.execute_input": "2020-10-12T19:18:21.608355Z",
     "iopub.status.busy": "2020-10-12T19:18:21.607256Z",
     "iopub.status.idle": "2020-10-12T19:18:21.611081Z",
     "shell.execute_reply": "2020-10-12T19:18:21.610472Z"
    },
    "papermill": {
     "duration": 0.070698,
     "end_time": "2020-10-12T19:18:21.611260",
     "exception": false,
     "start_time": "2020-10-12T19:18:21.540562",
     "status": "completed"
    },
    "tags": []
   },
   "outputs": [],
   "source": [
    "# # from sklearn.utils import resample\n",
    "\n",
    "# #separating majority and minority classes\n",
    "# df_majority = temp_train[temp_train[target] == 0]\n",
    "# df_minority = temp_train[temp_train[target] == 1]\n",
    "\n",
    "# df_minority_upsampled = resample(df_minority,\n",
    "#                                    replace=True,\n",
    "#                                    n_samples=11982,\n",
    "#                                    random_state=42)\n",
    "\n",
    "# df_upsampled = pd.concat([df_majority,df_minority_upsampled],axis=0)\n",
    "\n",
    "# #splitting dependent and independent variables\n",
    "\n",
    "# df_upsampled_X = df_upsampled[numeric_columns]\n",
    "# df_upsampled_Y = df_upsampled[[target]]\n",
    "\n",
    "# print(df_upsampled_X.shape)\n",
    "# print(df_upsampled_Y.shape)"
   ]
  },
  {
   "cell_type": "code",
   "execution_count": 27,
   "metadata": {
    "execution": {
     "iopub.execute_input": "2020-10-12T19:18:21.743085Z",
     "iopub.status.busy": "2020-10-12T19:18:21.742141Z",
     "iopub.status.idle": "2020-10-12T19:18:21.746107Z",
     "shell.execute_reply": "2020-10-12T19:18:21.745327Z"
    },
    "papermill": {
     "duration": 0.072183,
     "end_time": "2020-10-12T19:18:21.746245",
     "exception": false,
     "start_time": "2020-10-12T19:18:21.674062",
     "status": "completed"
    },
    "tags": []
   },
   "outputs": [],
   "source": [
    "# df_upsampled.head(2)"
   ]
  },
  {
   "cell_type": "code",
   "execution_count": 28,
   "metadata": {
    "execution": {
     "iopub.execute_input": "2020-10-12T19:18:21.879144Z",
     "iopub.status.busy": "2020-10-12T19:18:21.878010Z",
     "iopub.status.idle": "2020-10-12T19:18:21.881776Z",
     "shell.execute_reply": "2020-10-12T19:18:21.881034Z"
    },
    "papermill": {
     "duration": 0.072613,
     "end_time": "2020-10-12T19:18:21.881935",
     "exception": false,
     "start_time": "2020-10-12T19:18:21.809322",
     "status": "completed"
    },
    "tags": []
   },
   "outputs": [],
   "source": [
    "# from sklearn.model_selection import train_test_split\n",
    "\n",
    "# X_train_up, X_test_up, y_train_up, y_test_up = train_test_split(df_upsampled_X, df_upsampled_Y, test_size=0.25, random_state=42)\n",
    "# X_train_down, X_test_down, y_train_down, y_test_down = train_test_split(df_downsampled_X, df_downsampled_Y, test_size=0.25, random_state=42)"
   ]
  },
  {
   "cell_type": "code",
   "execution_count": 29,
   "metadata": {
    "execution": {
     "iopub.execute_input": "2020-10-12T19:18:22.015181Z",
     "iopub.status.busy": "2020-10-12T19:18:22.014054Z",
     "iopub.status.idle": "2020-10-12T19:18:22.017914Z",
     "shell.execute_reply": "2020-10-12T19:18:22.017153Z"
    },
    "papermill": {
     "duration": 0.072735,
     "end_time": "2020-10-12T19:18:22.018054",
     "exception": false,
     "start_time": "2020-10-12T19:18:21.945319",
     "status": "completed"
    },
    "tags": []
   },
   "outputs": [],
   "source": [
    "# features_train_up=np.array(df_upsampled_X[numeric_columns])\n",
    "# target_train_up=np.array(df_upsampled_Y[target])\n",
    "\n",
    "# features_train_down=np.array(df_downsampled_X[numeric_columns])\n",
    "# target_train_down=np.array(df_downsampled_Y[target])\n",
    "# # actual_test=np.array(test[numeric_columns])"
   ]
  },
  {
   "cell_type": "markdown",
   "metadata": {
    "papermill": {
     "duration": 0.062644,
     "end_time": "2020-10-12T19:18:22.144927",
     "exception": false,
     "start_time": "2020-10-12T19:18:22.082283",
     "status": "completed"
    },
    "tags": []
   },
   "source": [
    "## feature Scaling"
   ]
  },
  {
   "cell_type": "code",
   "execution_count": 30,
   "metadata": {
    "execution": {
     "iopub.execute_input": "2020-10-12T19:18:22.278640Z",
     "iopub.status.busy": "2020-10-12T19:18:22.277607Z",
     "iopub.status.idle": "2020-10-12T19:18:22.281399Z",
     "shell.execute_reply": "2020-10-12T19:18:22.280700Z"
    },
    "papermill": {
     "duration": 0.073758,
     "end_time": "2020-10-12T19:18:22.281541",
     "exception": false,
     "start_time": "2020-10-12T19:18:22.207783",
     "status": "completed"
    },
    "tags": []
   },
   "outputs": [],
   "source": [
    "# features_train_up[0]"
   ]
  },
  {
   "cell_type": "code",
   "execution_count": 31,
   "metadata": {
    "execution": {
     "iopub.execute_input": "2020-10-12T19:18:22.467318Z",
     "iopub.status.busy": "2020-10-12T19:18:22.466218Z",
     "iopub.status.idle": "2020-10-12T19:18:22.469655Z",
     "shell.execute_reply": "2020-10-12T19:18:22.468974Z"
    },
    "papermill": {
     "duration": 0.07297,
     "end_time": "2020-10-12T19:18:22.469789",
     "exception": false,
     "start_time": "2020-10-12T19:18:22.396819",
     "status": "completed"
    },
    "tags": []
   },
   "outputs": [],
   "source": [
    "# #feature scaling\n",
    "# from sklearn.preprocessing import MinMaxScaler,PowerTransformer,StandardScaler\n",
    "# # scaler = MinMaxScaler()\n",
    "\n",
    "# scaler = StandardScaler()\n",
    "\n",
    "# features_train_up_scaled = scaler.fit_transform(features_train_up)\n",
    "# features_train_down_scaled = scaler.fit_transform(features_train_down)\n",
    "# # features_actual = scaler.transform(actual_test)"
   ]
  },
  {
   "cell_type": "code",
   "execution_count": 32,
   "metadata": {
    "execution": {
     "iopub.execute_input": "2020-10-12T19:18:22.602443Z",
     "iopub.status.busy": "2020-10-12T19:18:22.601543Z",
     "iopub.status.idle": "2020-10-12T19:18:22.605500Z",
     "shell.execute_reply": "2020-10-12T19:18:22.604736Z"
    },
    "papermill": {
     "duration": 0.072244,
     "end_time": "2020-10-12T19:18:22.605646",
     "exception": false,
     "start_time": "2020-10-12T19:18:22.533402",
     "status": "completed"
    },
    "tags": []
   },
   "outputs": [],
   "source": [
    "# def make_submission(prediction, sub_name):\n",
    "#     my_submission = pd.DataFrame({'PATIENT_ID':X_test['PATIENT_ID'],'MBC_PATIENT':prediction})\n",
    "#     my_submission.to_csv('{}.csv'.format(sub_name),index=False)\n",
    "#     print('A submission file has been made')"
   ]
  },
  {
   "cell_type": "markdown",
   "metadata": {
    "papermill": {
     "duration": 0.063426,
     "end_time": "2020-10-12T19:18:22.733410",
     "exception": false,
     "start_time": "2020-10-12T19:18:22.669984",
     "status": "completed"
    },
    "tags": []
   },
   "source": [
    "## CatBoost"
   ]
  },
  {
   "cell_type": "code",
   "execution_count": 33,
   "metadata": {
    "execution": {
     "iopub.execute_input": "2020-10-12T19:18:22.870225Z",
     "iopub.status.busy": "2020-10-12T19:18:22.869328Z",
     "iopub.status.idle": "2020-10-12T19:18:23.060475Z",
     "shell.execute_reply": "2020-10-12T19:18:23.059634Z"
    },
    "papermill": {
     "duration": 0.263137,
     "end_time": "2020-10-12T19:18:23.060620",
     "exception": false,
     "start_time": "2020-10-12T19:18:22.797483",
     "status": "completed"
    },
    "tags": []
   },
   "outputs": [],
   "source": [
    "from catboost import CatBoostClassifier\n",
    "CBC = CatBoostClassifier(learning_rate=0.15, n_estimators=500, subsample=0.70, max_depth=5, scale_pos_weight=2.5)\n"
   ]
  },
  {
   "cell_type": "code",
   "execution_count": 34,
   "metadata": {
    "execution": {
     "iopub.execute_input": "2020-10-12T19:18:23.195239Z",
     "iopub.status.busy": "2020-10-12T19:18:23.194292Z",
     "iopub.status.idle": "2020-10-12T19:18:23.197955Z",
     "shell.execute_reply": "2020-10-12T19:18:23.197314Z"
    },
    "papermill": {
     "duration": 0.073006,
     "end_time": "2020-10-12T19:18:23.198102",
     "exception": false,
     "start_time": "2020-10-12T19:18:23.125096",
     "status": "completed"
    },
    "tags": []
   },
   "outputs": [],
   "source": [
    "# CBC.fit(X_train_up[numeric_columns],y_train_up[target])\n",
    "# CBC_predict_up = CBC.predict(X_test_up[numeric_columns])"
   ]
  },
  {
   "cell_type": "code",
   "execution_count": 35,
   "metadata": {
    "execution": {
     "iopub.execute_input": "2020-10-12T19:18:23.332982Z",
     "iopub.status.busy": "2020-10-12T19:18:23.331882Z",
     "iopub.status.idle": "2020-10-12T19:18:23.336091Z",
     "shell.execute_reply": "2020-10-12T19:18:23.335366Z"
    },
    "papermill": {
     "duration": 0.07376,
     "end_time": "2020-10-12T19:18:23.336241",
     "exception": false,
     "start_time": "2020-10-12T19:18:23.262481",
     "status": "completed"
    },
    "tags": []
   },
   "outputs": [],
   "source": [
    "# CBC.fit(X_train_down[numeric_columns],y_train_down[target])\n",
    "# CBC_predict_down = CBC.predict(X_test_down[numeric_columns])\n"
   ]
  },
  {
   "cell_type": "code",
   "execution_count": 36,
   "metadata": {
    "execution": {
     "iopub.execute_input": "2020-10-12T19:18:23.510014Z",
     "iopub.status.busy": "2020-10-12T19:18:23.476967Z",
     "iopub.status.idle": "2020-10-12T19:18:36.317288Z",
     "shell.execute_reply": "2020-10-12T19:18:36.315669Z"
    },
    "papermill": {
     "duration": 12.917063,
     "end_time": "2020-10-12T19:18:36.317481",
     "exception": false,
     "start_time": "2020-10-12T19:18:23.400418",
     "status": "completed"
    },
    "tags": []
   },
   "outputs": [
    {
     "name": "stdout",
     "output_type": "stream",
     "text": [
      "0:\tlearn: 0.4534800\ttotal: 101ms\tremaining: 50.3s\n",
      "1:\tlearn: 0.3693085\ttotal: 130ms\tremaining: 32.4s\n",
      "2:\tlearn: 0.2325126\ttotal: 156ms\tremaining: 25.9s\n",
      "3:\tlearn: 0.1846156\ttotal: 185ms\tremaining: 22.9s\n",
      "4:\tlearn: 0.1635014\ttotal: 208ms\tremaining: 20.6s\n",
      "5:\tlearn: 0.1361549\ttotal: 237ms\tremaining: 19.5s\n",
      "6:\tlearn: 0.1295094\ttotal: 262ms\tremaining: 18.4s\n",
      "7:\tlearn: 0.1203401\ttotal: 289ms\tremaining: 17.8s\n",
      "8:\tlearn: 0.1139749\ttotal: 318ms\tremaining: 17.4s\n",
      "9:\tlearn: 0.1101891\ttotal: 345ms\tremaining: 16.9s\n",
      "10:\tlearn: 0.1076260\ttotal: 371ms\tremaining: 16.5s\n",
      "11:\tlearn: 0.1059994\ttotal: 399ms\tremaining: 16.2s\n",
      "12:\tlearn: 0.0996154\ttotal: 425ms\tremaining: 15.9s\n",
      "13:\tlearn: 0.0975437\ttotal: 451ms\tremaining: 15.7s\n",
      "14:\tlearn: 0.0947755\ttotal: 477ms\tremaining: 15.4s\n",
      "15:\tlearn: 0.0899174\ttotal: 503ms\tremaining: 15.2s\n",
      "16:\tlearn: 0.0870072\ttotal: 533ms\tremaining: 15.1s\n",
      "17:\tlearn: 0.0843065\ttotal: 558ms\tremaining: 15s\n",
      "18:\tlearn: 0.0762476\ttotal: 584ms\tremaining: 14.8s\n",
      "19:\tlearn: 0.0747168\ttotal: 611ms\tremaining: 14.7s\n",
      "20:\tlearn: 0.0741344\ttotal: 637ms\tremaining: 14.5s\n",
      "21:\tlearn: 0.0728084\ttotal: 663ms\tremaining: 14.4s\n",
      "22:\tlearn: 0.0723220\ttotal: 688ms\tremaining: 14.3s\n",
      "23:\tlearn: 0.0716265\ttotal: 715ms\tremaining: 14.2s\n",
      "24:\tlearn: 0.0709363\ttotal: 745ms\tremaining: 14.1s\n",
      "25:\tlearn: 0.0702158\ttotal: 770ms\tremaining: 14s\n",
      "26:\tlearn: 0.0695946\ttotal: 795ms\tremaining: 13.9s\n",
      "27:\tlearn: 0.0689356\ttotal: 822ms\tremaining: 13.9s\n",
      "28:\tlearn: 0.0685060\ttotal: 850ms\tremaining: 13.8s\n",
      "29:\tlearn: 0.0666672\ttotal: 877ms\tremaining: 13.7s\n",
      "30:\tlearn: 0.0647408\ttotal: 903ms\tremaining: 13.7s\n",
      "31:\tlearn: 0.0634218\ttotal: 928ms\tremaining: 13.6s\n",
      "32:\tlearn: 0.0630476\ttotal: 957ms\tremaining: 13.5s\n",
      "33:\tlearn: 0.0628949\ttotal: 981ms\tremaining: 13.5s\n",
      "34:\tlearn: 0.0619209\ttotal: 1.01s\tremaining: 13.4s\n",
      "35:\tlearn: 0.0618085\ttotal: 1.03s\tremaining: 13.3s\n",
      "36:\tlearn: 0.0616419\ttotal: 1.06s\tremaining: 13.2s\n",
      "37:\tlearn: 0.0612569\ttotal: 1.08s\tremaining: 13.2s\n",
      "38:\tlearn: 0.0609671\ttotal: 1.11s\tremaining: 13.1s\n",
      "39:\tlearn: 0.0609109\ttotal: 1.14s\tremaining: 13.1s\n",
      "40:\tlearn: 0.0606613\ttotal: 1.17s\tremaining: 13.1s\n",
      "41:\tlearn: 0.0605377\ttotal: 1.19s\tremaining: 13s\n",
      "42:\tlearn: 0.0605178\ttotal: 1.22s\tremaining: 12.9s\n",
      "43:\tlearn: 0.0602578\ttotal: 1.24s\tremaining: 12.9s\n",
      "44:\tlearn: 0.0599769\ttotal: 1.27s\tremaining: 12.8s\n",
      "45:\tlearn: 0.0599769\ttotal: 1.29s\tremaining: 12.7s\n",
      "46:\tlearn: 0.0599099\ttotal: 1.31s\tremaining: 12.6s\n",
      "47:\tlearn: 0.0597491\ttotal: 1.33s\tremaining: 12.6s\n",
      "48:\tlearn: 0.0594134\ttotal: 1.36s\tremaining: 12.5s\n",
      "49:\tlearn: 0.0592199\ttotal: 1.39s\tremaining: 12.5s\n",
      "50:\tlearn: 0.0586775\ttotal: 1.42s\tremaining: 12.5s\n",
      "51:\tlearn: 0.0586595\ttotal: 1.44s\tremaining: 12.4s\n",
      "52:\tlearn: 0.0585292\ttotal: 1.47s\tremaining: 12.4s\n",
      "53:\tlearn: 0.0583300\ttotal: 1.49s\tremaining: 12.3s\n",
      "54:\tlearn: 0.0579097\ttotal: 1.52s\tremaining: 12.3s\n",
      "55:\tlearn: 0.0578889\ttotal: 1.54s\tremaining: 12.2s\n",
      "56:\tlearn: 0.0577125\ttotal: 1.58s\tremaining: 12.3s\n",
      "57:\tlearn: 0.0574720\ttotal: 1.61s\tremaining: 12.3s\n",
      "58:\tlearn: 0.0571300\ttotal: 1.63s\tremaining: 12.2s\n",
      "59:\tlearn: 0.0571152\ttotal: 1.66s\tremaining: 12.2s\n",
      "60:\tlearn: 0.0569127\ttotal: 1.68s\tremaining: 12.1s\n",
      "61:\tlearn: 0.0568904\ttotal: 1.71s\tremaining: 12.1s\n",
      "62:\tlearn: 0.0562864\ttotal: 1.73s\tremaining: 12s\n",
      "63:\tlearn: 0.0559582\ttotal: 1.76s\tremaining: 12s\n",
      "64:\tlearn: 0.0557081\ttotal: 1.78s\tremaining: 11.9s\n",
      "65:\tlearn: 0.0556838\ttotal: 1.81s\tremaining: 11.9s\n",
      "66:\tlearn: 0.0540804\ttotal: 1.84s\tremaining: 11.9s\n",
      "67:\tlearn: 0.0540798\ttotal: 1.85s\tremaining: 11.8s\n",
      "68:\tlearn: 0.0537016\ttotal: 1.88s\tremaining: 11.8s\n",
      "69:\tlearn: 0.0531933\ttotal: 1.91s\tremaining: 11.7s\n",
      "70:\tlearn: 0.0531585\ttotal: 1.93s\tremaining: 11.7s\n",
      "71:\tlearn: 0.0531585\ttotal: 1.95s\tremaining: 11.6s\n",
      "72:\tlearn: 0.0531158\ttotal: 1.98s\tremaining: 11.6s\n",
      "73:\tlearn: 0.0529772\ttotal: 2s\tremaining: 11.5s\n",
      "74:\tlearn: 0.0527511\ttotal: 2.03s\tremaining: 11.5s\n",
      "75:\tlearn: 0.0527354\ttotal: 2.06s\tremaining: 11.5s\n",
      "76:\tlearn: 0.0525595\ttotal: 2.08s\tremaining: 11.4s\n",
      "77:\tlearn: 0.0525315\ttotal: 2.1s\tremaining: 11.4s\n",
      "78:\tlearn: 0.0523864\ttotal: 2.13s\tremaining: 11.3s\n",
      "79:\tlearn: 0.0523776\ttotal: 2.15s\tremaining: 11.3s\n",
      "80:\tlearn: 0.0521094\ttotal: 2.18s\tremaining: 11.3s\n",
      "81:\tlearn: 0.0520659\ttotal: 2.2s\tremaining: 11.2s\n",
      "82:\tlearn: 0.0517983\ttotal: 2.23s\tremaining: 11.2s\n",
      "83:\tlearn: 0.0517914\ttotal: 2.25s\tremaining: 11.2s\n",
      "84:\tlearn: 0.0517843\ttotal: 2.28s\tremaining: 11.1s\n",
      "85:\tlearn: 0.0515992\ttotal: 2.3s\tremaining: 11.1s\n",
      "86:\tlearn: 0.0515533\ttotal: 2.33s\tremaining: 11s\n",
      "87:\tlearn: 0.0515053\ttotal: 2.35s\tremaining: 11s\n",
      "88:\tlearn: 0.0514893\ttotal: 2.38s\tremaining: 11s\n",
      "89:\tlearn: 0.0514761\ttotal: 2.4s\tremaining: 10.9s\n",
      "90:\tlearn: 0.0512038\ttotal: 2.43s\tremaining: 10.9s\n",
      "91:\tlearn: 0.0507528\ttotal: 2.45s\tremaining: 10.9s\n",
      "92:\tlearn: 0.0505101\ttotal: 2.48s\tremaining: 10.9s\n",
      "93:\tlearn: 0.0504994\ttotal: 2.5s\tremaining: 10.8s\n",
      "94:\tlearn: 0.0504257\ttotal: 2.53s\tremaining: 10.8s\n",
      "95:\tlearn: 0.0502437\ttotal: 2.55s\tremaining: 10.7s\n",
      "96:\tlearn: 0.0501878\ttotal: 2.58s\tremaining: 10.7s\n",
      "97:\tlearn: 0.0501625\ttotal: 2.6s\tremaining: 10.7s\n",
      "98:\tlearn: 0.0501338\ttotal: 2.62s\tremaining: 10.6s\n",
      "99:\tlearn: 0.0501248\ttotal: 2.65s\tremaining: 10.6s\n",
      "100:\tlearn: 0.0500114\ttotal: 2.67s\tremaining: 10.6s\n",
      "101:\tlearn: 0.0498437\ttotal: 2.7s\tremaining: 10.5s\n",
      "102:\tlearn: 0.0495506\ttotal: 2.73s\tremaining: 10.5s\n",
      "103:\tlearn: 0.0495378\ttotal: 2.75s\tremaining: 10.5s\n",
      "104:\tlearn: 0.0494325\ttotal: 2.77s\tremaining: 10.4s\n",
      "105:\tlearn: 0.0491399\ttotal: 2.8s\tremaining: 10.4s\n",
      "106:\tlearn: 0.0488970\ttotal: 2.83s\tremaining: 10.4s\n",
      "107:\tlearn: 0.0488969\ttotal: 2.85s\tremaining: 10.3s\n",
      "108:\tlearn: 0.0487650\ttotal: 2.87s\tremaining: 10.3s\n",
      "109:\tlearn: 0.0487459\ttotal: 2.89s\tremaining: 10.3s\n",
      "110:\tlearn: 0.0487055\ttotal: 2.92s\tremaining: 10.2s\n",
      "111:\tlearn: 0.0485139\ttotal: 2.95s\tremaining: 10.2s\n",
      "112:\tlearn: 0.0485031\ttotal: 2.97s\tremaining: 10.2s\n",
      "113:\tlearn: 0.0482969\ttotal: 3s\tremaining: 10.1s\n",
      "114:\tlearn: 0.0482892\ttotal: 3.02s\tremaining: 10.1s\n",
      "115:\tlearn: 0.0479063\ttotal: 3.04s\tremaining: 10.1s\n",
      "116:\tlearn: 0.0478255\ttotal: 3.07s\tremaining: 10s\n",
      "117:\tlearn: 0.0477867\ttotal: 3.09s\tremaining: 10s\n",
      "118:\tlearn: 0.0476074\ttotal: 3.12s\tremaining: 9.98s\n",
      "119:\tlearn: 0.0473516\ttotal: 3.15s\tremaining: 9.97s\n",
      "120:\tlearn: 0.0471481\ttotal: 3.17s\tremaining: 9.94s\n",
      "121:\tlearn: 0.0469157\ttotal: 3.2s\tremaining: 9.92s\n",
      "122:\tlearn: 0.0467740\ttotal: 3.23s\tremaining: 9.89s\n",
      "123:\tlearn: 0.0464946\ttotal: 3.25s\tremaining: 9.87s\n",
      "124:\tlearn: 0.0463087\ttotal: 3.28s\tremaining: 9.84s\n",
      "125:\tlearn: 0.0462286\ttotal: 3.31s\tremaining: 9.81s\n",
      "126:\tlearn: 0.0461507\ttotal: 3.33s\tremaining: 9.78s\n",
      "127:\tlearn: 0.0459730\ttotal: 3.36s\tremaining: 9.77s\n",
      "128:\tlearn: 0.0459371\ttotal: 3.39s\tremaining: 9.74s\n",
      "129:\tlearn: 0.0457714\ttotal: 3.41s\tremaining: 9.71s\n",
      "130:\tlearn: 0.0457714\ttotal: 3.43s\tremaining: 9.66s\n",
      "131:\tlearn: 0.0452833\ttotal: 3.46s\tremaining: 9.64s\n",
      "132:\tlearn: 0.0452443\ttotal: 3.48s\tremaining: 9.61s\n",
      "133:\tlearn: 0.0450281\ttotal: 3.51s\tremaining: 9.58s\n",
      "134:\tlearn: 0.0449106\ttotal: 3.53s\tremaining: 9.55s\n",
      "135:\tlearn: 0.0446302\ttotal: 3.56s\tremaining: 9.53s\n",
      "136:\tlearn: 0.0444810\ttotal: 3.59s\tremaining: 9.51s\n",
      "137:\tlearn: 0.0441782\ttotal: 3.62s\tremaining: 9.48s\n",
      "138:\tlearn: 0.0441730\ttotal: 3.63s\tremaining: 9.44s\n",
      "139:\tlearn: 0.0441153\ttotal: 3.66s\tremaining: 9.41s\n",
      "140:\tlearn: 0.0438517\ttotal: 3.69s\tremaining: 9.38s\n",
      "141:\tlearn: 0.0438405\ttotal: 3.71s\tremaining: 9.36s\n",
      "142:\tlearn: 0.0437632\ttotal: 3.73s\tremaining: 9.32s\n",
      "143:\tlearn: 0.0437023\ttotal: 3.76s\tremaining: 9.3s\n",
      "144:\tlearn: 0.0435601\ttotal: 3.79s\tremaining: 9.27s\n",
      "145:\tlearn: 0.0434124\ttotal: 3.81s\tremaining: 9.25s\n",
      "146:\tlearn: 0.0431818\ttotal: 3.84s\tremaining: 9.23s\n",
      "147:\tlearn: 0.0430295\ttotal: 3.87s\tremaining: 9.2s\n",
      "148:\tlearn: 0.0427870\ttotal: 3.9s\tremaining: 9.18s\n",
      "149:\tlearn: 0.0426075\ttotal: 3.92s\tremaining: 9.15s\n",
      "150:\tlearn: 0.0422642\ttotal: 3.95s\tremaining: 9.12s\n",
      "151:\tlearn: 0.0422313\ttotal: 3.97s\tremaining: 9.09s\n",
      "152:\tlearn: 0.0421819\ttotal: 3.99s\tremaining: 9.06s\n",
      "153:\tlearn: 0.0421817\ttotal: 4.01s\tremaining: 9.02s\n",
      "154:\tlearn: 0.0421262\ttotal: 4.04s\tremaining: 9s\n",
      "155:\tlearn: 0.0421070\ttotal: 4.07s\tremaining: 8.97s\n",
      "156:\tlearn: 0.0419127\ttotal: 4.09s\tremaining: 8.94s\n",
      "157:\tlearn: 0.0418998\ttotal: 4.12s\tremaining: 8.91s\n",
      "158:\tlearn: 0.0418061\ttotal: 4.14s\tremaining: 8.88s\n",
      "159:\tlearn: 0.0417588\ttotal: 4.17s\tremaining: 8.86s\n",
      "160:\tlearn: 0.0415776\ttotal: 4.19s\tremaining: 8.83s\n",
      "161:\tlearn: 0.0415179\ttotal: 4.22s\tremaining: 8.8s\n",
      "162:\tlearn: 0.0415067\ttotal: 4.24s\tremaining: 8.77s\n",
      "163:\tlearn: 0.0413744\ttotal: 4.27s\tremaining: 8.75s\n",
      "164:\tlearn: 0.0413408\ttotal: 4.3s\tremaining: 8.72s\n",
      "165:\tlearn: 0.0411530\ttotal: 4.33s\tremaining: 8.71s\n",
      "166:\tlearn: 0.0410746\ttotal: 4.36s\tremaining: 8.68s\n",
      "167:\tlearn: 0.0410466\ttotal: 4.38s\tremaining: 8.66s\n",
      "168:\tlearn: 0.0409827\ttotal: 4.41s\tremaining: 8.63s\n",
      "169:\tlearn: 0.0409242\ttotal: 4.43s\tremaining: 8.6s\n",
      "170:\tlearn: 0.0407986\ttotal: 4.46s\tremaining: 8.58s\n",
      "171:\tlearn: 0.0407986\ttotal: 4.48s\tremaining: 8.55s\n",
      "172:\tlearn: 0.0407594\ttotal: 4.51s\tremaining: 8.52s\n",
      "173:\tlearn: 0.0406966\ttotal: 4.53s\tremaining: 8.49s\n",
      "174:\tlearn: 0.0406935\ttotal: 4.56s\tremaining: 8.46s\n",
      "175:\tlearn: 0.0405286\ttotal: 4.58s\tremaining: 8.44s\n",
      "176:\tlearn: 0.0402984\ttotal: 4.61s\tremaining: 8.41s\n",
      "177:\tlearn: 0.0402871\ttotal: 4.63s\tremaining: 8.38s\n",
      "178:\tlearn: 0.0401609\ttotal: 4.66s\tremaining: 8.35s\n",
      "179:\tlearn: 0.0401284\ttotal: 4.68s\tremaining: 8.33s\n",
      "180:\tlearn: 0.0399445\ttotal: 4.71s\tremaining: 8.3s\n",
      "181:\tlearn: 0.0397657\ttotal: 4.74s\tremaining: 8.27s\n",
      "182:\tlearn: 0.0397435\ttotal: 4.76s\tremaining: 8.24s\n",
      "183:\tlearn: 0.0395446\ttotal: 4.79s\tremaining: 8.22s\n",
      "184:\tlearn: 0.0395411\ttotal: 4.81s\tremaining: 8.18s\n",
      "185:\tlearn: 0.0394945\ttotal: 4.83s\tremaining: 8.15s\n",
      "186:\tlearn: 0.0393954\ttotal: 4.86s\tremaining: 8.13s\n",
      "187:\tlearn: 0.0392041\ttotal: 4.88s\tremaining: 8.1s\n",
      "188:\tlearn: 0.0391078\ttotal: 4.91s\tremaining: 8.08s\n",
      "189:\tlearn: 0.0391071\ttotal: 4.93s\tremaining: 8.04s\n",
      "190:\tlearn: 0.0391071\ttotal: 4.95s\tremaining: 8.01s\n",
      "191:\tlearn: 0.0391069\ttotal: 4.97s\tremaining: 7.97s\n",
      "192:\tlearn: 0.0390205\ttotal: 4.99s\tremaining: 7.94s\n",
      "193:\tlearn: 0.0390112\ttotal: 5.02s\tremaining: 7.92s\n",
      "194:\tlearn: 0.0389735\ttotal: 5.04s\tremaining: 7.89s\n",
      "195:\tlearn: 0.0389189\ttotal: 5.07s\tremaining: 7.87s\n",
      "196:\tlearn: 0.0386607\ttotal: 5.1s\tremaining: 7.84s\n",
      "197:\tlearn: 0.0384706\ttotal: 5.13s\tremaining: 7.82s\n",
      "198:\tlearn: 0.0383744\ttotal: 5.16s\tremaining: 7.81s\n",
      "199:\tlearn: 0.0383183\ttotal: 5.19s\tremaining: 7.78s\n",
      "200:\tlearn: 0.0382622\ttotal: 5.21s\tremaining: 7.75s\n",
      "201:\tlearn: 0.0381732\ttotal: 5.24s\tremaining: 7.73s\n",
      "202:\tlearn: 0.0381482\ttotal: 5.26s\tremaining: 7.7s\n",
      "203:\tlearn: 0.0380393\ttotal: 5.29s\tremaining: 7.67s\n",
      "204:\tlearn: 0.0377691\ttotal: 5.32s\tremaining: 7.65s\n",
      "205:\tlearn: 0.0377691\ttotal: 5.34s\tremaining: 7.62s\n",
      "206:\tlearn: 0.0377366\ttotal: 5.38s\tremaining: 7.61s\n",
      "207:\tlearn: 0.0375984\ttotal: 5.42s\tremaining: 7.61s\n",
      "208:\tlearn: 0.0374326\ttotal: 5.47s\tremaining: 7.61s\n",
      "209:\tlearn: 0.0374115\ttotal: 5.51s\tremaining: 7.61s\n",
      "210:\tlearn: 0.0372007\ttotal: 5.55s\tremaining: 7.6s\n",
      "211:\tlearn: 0.0371104\ttotal: 5.58s\tremaining: 7.58s\n",
      "212:\tlearn: 0.0371103\ttotal: 5.6s\tremaining: 7.54s\n",
      "213:\tlearn: 0.0370929\ttotal: 5.62s\tremaining: 7.52s\n",
      "214:\tlearn: 0.0369776\ttotal: 5.65s\tremaining: 7.5s\n",
      "215:\tlearn: 0.0368460\ttotal: 5.69s\tremaining: 7.48s\n",
      "216:\tlearn: 0.0368425\ttotal: 5.71s\tremaining: 7.44s\n",
      "217:\tlearn: 0.0366495\ttotal: 5.73s\tremaining: 7.41s\n",
      "218:\tlearn: 0.0366495\ttotal: 5.75s\tremaining: 7.38s\n",
      "219:\tlearn: 0.0366227\ttotal: 5.78s\tremaining: 7.35s\n",
      "220:\tlearn: 0.0366211\ttotal: 5.8s\tremaining: 7.32s\n",
      "221:\tlearn: 0.0365419\ttotal: 5.82s\tremaining: 7.29s\n",
      "222:\tlearn: 0.0365113\ttotal: 5.85s\tremaining: 7.26s\n",
      "223:\tlearn: 0.0364400\ttotal: 5.87s\tremaining: 7.23s\n",
      "224:\tlearn: 0.0363507\ttotal: 5.9s\tremaining: 7.21s\n",
      "225:\tlearn: 0.0360467\ttotal: 5.92s\tremaining: 7.18s\n",
      "226:\tlearn: 0.0359551\ttotal: 5.95s\tremaining: 7.15s\n",
      "227:\tlearn: 0.0359121\ttotal: 5.98s\tremaining: 7.13s\n",
      "228:\tlearn: 0.0358908\ttotal: 6s\tremaining: 7.1s\n",
      "229:\tlearn: 0.0357487\ttotal: 6.03s\tremaining: 7.08s\n",
      "230:\tlearn: 0.0357168\ttotal: 6.05s\tremaining: 7.05s\n",
      "231:\tlearn: 0.0351930\ttotal: 6.08s\tremaining: 7.02s\n",
      "232:\tlearn: 0.0351813\ttotal: 6.1s\tremaining: 6.99s\n",
      "233:\tlearn: 0.0351303\ttotal: 6.13s\tremaining: 6.96s\n",
      "234:\tlearn: 0.0350697\ttotal: 6.15s\tremaining: 6.94s\n",
      "235:\tlearn: 0.0349550\ttotal: 6.18s\tremaining: 6.91s\n",
      "236:\tlearn: 0.0349423\ttotal: 6.2s\tremaining: 6.88s\n",
      "237:\tlearn: 0.0347011\ttotal: 6.23s\tremaining: 6.86s\n",
      "238:\tlearn: 0.0347008\ttotal: 6.25s\tremaining: 6.83s\n",
      "239:\tlearn: 0.0345730\ttotal: 6.28s\tremaining: 6.8s\n",
      "240:\tlearn: 0.0345645\ttotal: 6.3s\tremaining: 6.77s\n",
      "241:\tlearn: 0.0344641\ttotal: 6.33s\tremaining: 6.75s\n",
      "242:\tlearn: 0.0344297\ttotal: 6.35s\tremaining: 6.72s\n",
      "243:\tlearn: 0.0343415\ttotal: 6.38s\tremaining: 6.69s\n",
      "244:\tlearn: 0.0343415\ttotal: 6.4s\tremaining: 6.66s\n",
      "245:\tlearn: 0.0343415\ttotal: 6.42s\tremaining: 6.63s\n",
      "246:\tlearn: 0.0343412\ttotal: 6.44s\tremaining: 6.59s\n",
      "247:\tlearn: 0.0343339\ttotal: 6.46s\tremaining: 6.57s\n",
      "248:\tlearn: 0.0342319\ttotal: 6.49s\tremaining: 6.54s\n",
      "249:\tlearn: 0.0342318\ttotal: 6.51s\tremaining: 6.51s\n",
      "250:\tlearn: 0.0342317\ttotal: 6.53s\tremaining: 6.47s\n",
      "251:\tlearn: 0.0341020\ttotal: 6.55s\tremaining: 6.45s\n",
      "252:\tlearn: 0.0340511\ttotal: 6.58s\tremaining: 6.42s\n",
      "253:\tlearn: 0.0340243\ttotal: 6.6s\tremaining: 6.39s\n",
      "254:\tlearn: 0.0339269\ttotal: 6.63s\tremaining: 6.37s\n",
      "255:\tlearn: 0.0338958\ttotal: 6.65s\tremaining: 6.34s\n",
      "256:\tlearn: 0.0338647\ttotal: 6.68s\tremaining: 6.32s\n",
      "257:\tlearn: 0.0338022\ttotal: 6.71s\tremaining: 6.29s\n",
      "258:\tlearn: 0.0337618\ttotal: 6.73s\tremaining: 6.26s\n",
      "259:\tlearn: 0.0337618\ttotal: 6.75s\tremaining: 6.23s\n",
      "260:\tlearn: 0.0337075\ttotal: 6.77s\tremaining: 6.2s\n",
      "261:\tlearn: 0.0335263\ttotal: 6.8s\tremaining: 6.17s\n",
      "262:\tlearn: 0.0334789\ttotal: 6.83s\tremaining: 6.15s\n",
      "263:\tlearn: 0.0334788\ttotal: 6.85s\tremaining: 6.12s\n",
      "264:\tlearn: 0.0334496\ttotal: 6.87s\tremaining: 6.09s\n",
      "265:\tlearn: 0.0334414\ttotal: 6.9s\tremaining: 6.07s\n",
      "266:\tlearn: 0.0333919\ttotal: 6.92s\tremaining: 6.04s\n",
      "267:\tlearn: 0.0333847\ttotal: 6.95s\tremaining: 6.01s\n",
      "268:\tlearn: 0.0332657\ttotal: 6.97s\tremaining: 5.99s\n",
      "269:\tlearn: 0.0331214\ttotal: 7s\tremaining: 5.96s\n",
      "270:\tlearn: 0.0330258\ttotal: 7.02s\tremaining: 5.93s\n",
      "271:\tlearn: 0.0330258\ttotal: 7.04s\tremaining: 5.9s\n",
      "272:\tlearn: 0.0328887\ttotal: 7.07s\tremaining: 5.88s\n",
      "273:\tlearn: 0.0328355\ttotal: 7.09s\tremaining: 5.85s\n",
      "274:\tlearn: 0.0327040\ttotal: 7.12s\tremaining: 5.82s\n",
      "275:\tlearn: 0.0326854\ttotal: 7.14s\tremaining: 5.79s\n",
      "276:\tlearn: 0.0326528\ttotal: 7.16s\tremaining: 5.77s\n",
      "277:\tlearn: 0.0326007\ttotal: 7.19s\tremaining: 5.74s\n",
      "278:\tlearn: 0.0324420\ttotal: 7.22s\tremaining: 5.72s\n",
      "279:\tlearn: 0.0323513\ttotal: 7.25s\tremaining: 5.7s\n",
      "280:\tlearn: 0.0323322\ttotal: 7.27s\tremaining: 5.67s\n",
      "281:\tlearn: 0.0322751\ttotal: 7.3s\tremaining: 5.64s\n",
      "282:\tlearn: 0.0322520\ttotal: 7.32s\tremaining: 5.62s\n",
      "283:\tlearn: 0.0322498\ttotal: 7.34s\tremaining: 5.59s\n",
      "284:\tlearn: 0.0322437\ttotal: 7.37s\tremaining: 5.56s\n",
      "285:\tlearn: 0.0321804\ttotal: 7.39s\tremaining: 5.53s\n",
      "286:\tlearn: 0.0321802\ttotal: 7.41s\tremaining: 5.5s\n",
      "287:\tlearn: 0.0320761\ttotal: 7.44s\tremaining: 5.47s\n",
      "288:\tlearn: 0.0319610\ttotal: 7.47s\tremaining: 5.45s\n",
      "289:\tlearn: 0.0319608\ttotal: 7.49s\tremaining: 5.42s\n",
      "290:\tlearn: 0.0319222\ttotal: 7.51s\tremaining: 5.4s\n",
      "291:\tlearn: 0.0318586\ttotal: 7.54s\tremaining: 5.37s\n",
      "292:\tlearn: 0.0318507\ttotal: 7.56s\tremaining: 5.34s\n",
      "293:\tlearn: 0.0318507\ttotal: 7.58s\tremaining: 5.31s\n",
      "294:\tlearn: 0.0318485\ttotal: 7.6s\tremaining: 5.28s\n",
      "295:\tlearn: 0.0318484\ttotal: 7.62s\tremaining: 5.25s\n",
      "296:\tlearn: 0.0317971\ttotal: 7.65s\tremaining: 5.23s\n",
      "297:\tlearn: 0.0316989\ttotal: 7.68s\tremaining: 5.21s\n",
      "298:\tlearn: 0.0316872\ttotal: 7.7s\tremaining: 5.18s\n",
      "299:\tlearn: 0.0316871\ttotal: 7.72s\tremaining: 5.15s\n",
      "300:\tlearn: 0.0316029\ttotal: 7.75s\tremaining: 5.12s\n",
      "301:\tlearn: 0.0315360\ttotal: 7.77s\tremaining: 5.09s\n",
      "302:\tlearn: 0.0315205\ttotal: 7.8s\tremaining: 5.07s\n",
      "303:\tlearn: 0.0314943\ttotal: 7.82s\tremaining: 5.04s\n",
      "304:\tlearn: 0.0313956\ttotal: 7.85s\tremaining: 5.02s\n",
      "305:\tlearn: 0.0313555\ttotal: 7.88s\tremaining: 4.99s\n",
      "306:\tlearn: 0.0313555\ttotal: 7.9s\tremaining: 4.96s\n",
      "307:\tlearn: 0.0312510\ttotal: 7.92s\tremaining: 4.94s\n",
      "308:\tlearn: 0.0311724\ttotal: 7.95s\tremaining: 4.91s\n",
      "309:\tlearn: 0.0311724\ttotal: 7.97s\tremaining: 4.88s\n",
      "310:\tlearn: 0.0311511\ttotal: 7.99s\tremaining: 4.86s\n",
      "311:\tlearn: 0.0311360\ttotal: 8.02s\tremaining: 4.83s\n",
      "312:\tlearn: 0.0310890\ttotal: 8.04s\tremaining: 4.8s\n",
      "313:\tlearn: 0.0310247\ttotal: 8.07s\tremaining: 4.78s\n",
      "314:\tlearn: 0.0309851\ttotal: 8.09s\tremaining: 4.75s\n",
      "315:\tlearn: 0.0309471\ttotal: 8.12s\tremaining: 4.73s\n",
      "316:\tlearn: 0.0309470\ttotal: 8.14s\tremaining: 4.7s\n",
      "317:\tlearn: 0.0309359\ttotal: 8.17s\tremaining: 4.67s\n",
      "318:\tlearn: 0.0308411\ttotal: 8.2s\tremaining: 4.65s\n",
      "319:\tlearn: 0.0308410\ttotal: 8.22s\tremaining: 4.62s\n",
      "320:\tlearn: 0.0307333\ttotal: 8.24s\tremaining: 4.6s\n",
      "321:\tlearn: 0.0306807\ttotal: 8.27s\tremaining: 4.57s\n",
      "322:\tlearn: 0.0306390\ttotal: 8.29s\tremaining: 4.54s\n",
      "323:\tlearn: 0.0306102\ttotal: 8.32s\tremaining: 4.52s\n",
      "324:\tlearn: 0.0305973\ttotal: 8.35s\tremaining: 4.49s\n",
      "325:\tlearn: 0.0305229\ttotal: 8.37s\tremaining: 4.47s\n",
      "326:\tlearn: 0.0305228\ttotal: 8.39s\tremaining: 4.44s\n",
      "327:\tlearn: 0.0304856\ttotal: 8.42s\tremaining: 4.41s\n",
      "328:\tlearn: 0.0303920\ttotal: 8.44s\tremaining: 4.39s\n",
      "329:\tlearn: 0.0303034\ttotal: 8.47s\tremaining: 4.36s\n",
      "330:\tlearn: 0.0303032\ttotal: 8.49s\tremaining: 4.33s\n",
      "331:\tlearn: 0.0302296\ttotal: 8.51s\tremaining: 4.31s\n",
      "332:\tlearn: 0.0301723\ttotal: 8.54s\tremaining: 4.28s\n",
      "333:\tlearn: 0.0300884\ttotal: 8.57s\tremaining: 4.26s\n",
      "334:\tlearn: 0.0300504\ttotal: 8.6s\tremaining: 4.23s\n",
      "335:\tlearn: 0.0299393\ttotal: 8.62s\tremaining: 4.21s\n",
      "336:\tlearn: 0.0298730\ttotal: 8.65s\tremaining: 4.18s\n",
      "337:\tlearn: 0.0298730\ttotal: 8.67s\tremaining: 4.15s\n",
      "338:\tlearn: 0.0298729\ttotal: 8.69s\tremaining: 4.12s\n",
      "339:\tlearn: 0.0297845\ttotal: 8.71s\tremaining: 4.1s\n",
      "340:\tlearn: 0.0297826\ttotal: 8.73s\tremaining: 4.07s\n",
      "341:\tlearn: 0.0297825\ttotal: 8.75s\tremaining: 4.04s\n",
      "342:\tlearn: 0.0297706\ttotal: 8.78s\tremaining: 4.02s\n",
      "343:\tlearn: 0.0297344\ttotal: 8.81s\tremaining: 3.99s\n",
      "344:\tlearn: 0.0297343\ttotal: 8.82s\tremaining: 3.96s\n",
      "345:\tlearn: 0.0297343\ttotal: 8.84s\tremaining: 3.94s\n",
      "346:\tlearn: 0.0296355\ttotal: 8.87s\tremaining: 3.91s\n",
      "347:\tlearn: 0.0296071\ttotal: 8.89s\tremaining: 3.88s\n",
      "348:\tlearn: 0.0295700\ttotal: 8.92s\tremaining: 3.86s\n",
      "349:\tlearn: 0.0295574\ttotal: 8.94s\tremaining: 3.83s\n",
      "350:\tlearn: 0.0295475\ttotal: 8.97s\tremaining: 3.81s\n",
      "351:\tlearn: 0.0295089\ttotal: 9s\tremaining: 3.78s\n",
      "352:\tlearn: 0.0294519\ttotal: 9.02s\tremaining: 3.76s\n",
      "353:\tlearn: 0.0293458\ttotal: 9.05s\tremaining: 3.73s\n",
      "354:\tlearn: 0.0293328\ttotal: 9.07s\tremaining: 3.71s\n",
      "355:\tlearn: 0.0292348\ttotal: 9.1s\tremaining: 3.68s\n",
      "356:\tlearn: 0.0291342\ttotal: 9.12s\tremaining: 3.65s\n",
      "357:\tlearn: 0.0291342\ttotal: 9.14s\tremaining: 3.63s\n",
      "358:\tlearn: 0.0291340\ttotal: 9.16s\tremaining: 3.6s\n",
      "359:\tlearn: 0.0291064\ttotal: 9.19s\tremaining: 3.57s\n",
      "360:\tlearn: 0.0289869\ttotal: 9.21s\tremaining: 3.55s\n",
      "361:\tlearn: 0.0289735\ttotal: 9.24s\tremaining: 3.52s\n",
      "362:\tlearn: 0.0288550\ttotal: 9.27s\tremaining: 3.5s\n",
      "363:\tlearn: 0.0288089\ttotal: 9.29s\tremaining: 3.47s\n",
      "364:\tlearn: 0.0286912\ttotal: 9.32s\tremaining: 3.45s\n",
      "365:\tlearn: 0.0286912\ttotal: 9.34s\tremaining: 3.42s\n",
      "366:\tlearn: 0.0286912\ttotal: 9.36s\tremaining: 3.39s\n",
      "367:\tlearn: 0.0286188\ttotal: 9.39s\tremaining: 3.37s\n",
      "368:\tlearn: 0.0286108\ttotal: 9.41s\tremaining: 3.34s\n",
      "369:\tlearn: 0.0286108\ttotal: 9.43s\tremaining: 3.31s\n",
      "370:\tlearn: 0.0286108\ttotal: 9.44s\tremaining: 3.28s\n",
      "371:\tlearn: 0.0285893\ttotal: 9.46s\tremaining: 3.26s\n",
      "372:\tlearn: 0.0285893\ttotal: 9.48s\tremaining: 3.23s\n",
      "373:\tlearn: 0.0284187\ttotal: 9.51s\tremaining: 3.2s\n",
      "374:\tlearn: 0.0283959\ttotal: 9.54s\tremaining: 3.18s\n",
      "375:\tlearn: 0.0283959\ttotal: 9.56s\tremaining: 3.15s\n",
      "376:\tlearn: 0.0283852\ttotal: 9.58s\tremaining: 3.13s\n",
      "377:\tlearn: 0.0283638\ttotal: 9.61s\tremaining: 3.1s\n",
      "378:\tlearn: 0.0283274\ttotal: 9.63s\tremaining: 3.08s\n",
      "379:\tlearn: 0.0282580\ttotal: 9.66s\tremaining: 3.05s\n",
      "380:\tlearn: 0.0282580\ttotal: 9.68s\tremaining: 3.02s\n",
      "381:\tlearn: 0.0282225\ttotal: 9.71s\tremaining: 3s\n",
      "382:\tlearn: 0.0281699\ttotal: 9.73s\tremaining: 2.97s\n",
      "383:\tlearn: 0.0281699\ttotal: 9.75s\tremaining: 2.94s\n",
      "384:\tlearn: 0.0280594\ttotal: 9.78s\tremaining: 2.92s\n",
      "385:\tlearn: 0.0280593\ttotal: 9.79s\tremaining: 2.89s\n",
      "386:\tlearn: 0.0280593\ttotal: 9.81s\tremaining: 2.87s\n",
      "387:\tlearn: 0.0279877\ttotal: 9.84s\tremaining: 2.84s\n",
      "388:\tlearn: 0.0279877\ttotal: 9.86s\tremaining: 2.81s\n",
      "389:\tlearn: 0.0279877\ttotal: 9.88s\tremaining: 2.79s\n",
      "390:\tlearn: 0.0279877\ttotal: 9.89s\tremaining: 2.76s\n",
      "391:\tlearn: 0.0279877\ttotal: 9.91s\tremaining: 2.73s\n",
      "392:\tlearn: 0.0279834\ttotal: 9.93s\tremaining: 2.7s\n",
      "393:\tlearn: 0.0278833\ttotal: 9.96s\tremaining: 2.68s\n",
      "394:\tlearn: 0.0278708\ttotal: 9.98s\tremaining: 2.65s\n",
      "395:\tlearn: 0.0278706\ttotal: 10s\tremaining: 2.63s\n",
      "396:\tlearn: 0.0277974\ttotal: 10s\tremaining: 2.6s\n",
      "397:\tlearn: 0.0277667\ttotal: 10.1s\tremaining: 2.58s\n",
      "398:\tlearn: 0.0274410\ttotal: 10.1s\tremaining: 2.56s\n",
      "399:\tlearn: 0.0274268\ttotal: 10.1s\tremaining: 2.53s\n",
      "400:\tlearn: 0.0273963\ttotal: 10.2s\tremaining: 2.51s\n",
      "401:\tlearn: 0.0273589\ttotal: 10.2s\tremaining: 2.48s\n",
      "402:\tlearn: 0.0273025\ttotal: 10.2s\tremaining: 2.46s\n",
      "403:\tlearn: 0.0272388\ttotal: 10.2s\tremaining: 2.43s\n",
      "404:\tlearn: 0.0271702\ttotal: 10.3s\tremaining: 2.41s\n",
      "405:\tlearn: 0.0271552\ttotal: 10.3s\tremaining: 2.38s\n",
      "406:\tlearn: 0.0270892\ttotal: 10.3s\tremaining: 2.36s\n",
      "407:\tlearn: 0.0270890\ttotal: 10.3s\tremaining: 2.33s\n",
      "408:\tlearn: 0.0270889\ttotal: 10.4s\tremaining: 2.31s\n",
      "409:\tlearn: 0.0270832\ttotal: 10.4s\tremaining: 2.28s\n",
      "410:\tlearn: 0.0270150\ttotal: 10.4s\tremaining: 2.25s\n",
      "411:\tlearn: 0.0269872\ttotal: 10.4s\tremaining: 2.23s\n",
      "412:\tlearn: 0.0269010\ttotal: 10.5s\tremaining: 2.2s\n",
      "413:\tlearn: 0.0269008\ttotal: 10.5s\tremaining: 2.18s\n",
      "414:\tlearn: 0.0268902\ttotal: 10.5s\tremaining: 2.15s\n",
      "415:\tlearn: 0.0268842\ttotal: 10.5s\tremaining: 2.13s\n",
      "416:\tlearn: 0.0268151\ttotal: 10.6s\tremaining: 2.1s\n",
      "417:\tlearn: 0.0267573\ttotal: 10.6s\tremaining: 2.08s\n",
      "418:\tlearn: 0.0267573\ttotal: 10.6s\tremaining: 2.05s\n",
      "419:\tlearn: 0.0266951\ttotal: 10.6s\tremaining: 2.02s\n",
      "420:\tlearn: 0.0266950\ttotal: 10.6s\tremaining: 2s\n",
      "421:\tlearn: 0.0266746\ttotal: 10.7s\tremaining: 1.97s\n",
      "422:\tlearn: 0.0266740\ttotal: 10.7s\tremaining: 1.95s\n",
      "423:\tlearn: 0.0266736\ttotal: 10.7s\tremaining: 1.92s\n",
      "424:\tlearn: 0.0266735\ttotal: 10.7s\tremaining: 1.89s\n",
      "425:\tlearn: 0.0266484\ttotal: 10.8s\tremaining: 1.87s\n",
      "426:\tlearn: 0.0266484\ttotal: 10.8s\tremaining: 1.84s\n",
      "427:\tlearn: 0.0265893\ttotal: 10.8s\tremaining: 1.82s\n",
      "428:\tlearn: 0.0265599\ttotal: 10.8s\tremaining: 1.79s\n",
      "429:\tlearn: 0.0265296\ttotal: 10.9s\tremaining: 1.77s\n",
      "430:\tlearn: 0.0264861\ttotal: 10.9s\tremaining: 1.74s\n",
      "431:\tlearn: 0.0263103\ttotal: 10.9s\tremaining: 1.72s\n",
      "432:\tlearn: 0.0263103\ttotal: 10.9s\tremaining: 1.69s\n",
      "433:\tlearn: 0.0263024\ttotal: 11s\tremaining: 1.67s\n",
      "434:\tlearn: 0.0263024\ttotal: 11s\tremaining: 1.64s\n",
      "435:\tlearn: 0.0263024\ttotal: 11s\tremaining: 1.61s\n",
      "436:\tlearn: 0.0263023\ttotal: 11s\tremaining: 1.59s\n",
      "437:\tlearn: 0.0263012\ttotal: 11s\tremaining: 1.56s\n",
      "438:\tlearn: 0.0263012\ttotal: 11s\tremaining: 1.53s\n",
      "439:\tlearn: 0.0263011\ttotal: 11.1s\tremaining: 1.51s\n",
      "440:\tlearn: 0.0263010\ttotal: 11.1s\tremaining: 1.48s\n",
      "441:\tlearn: 0.0262594\ttotal: 11.1s\tremaining: 1.46s\n",
      "442:\tlearn: 0.0261685\ttotal: 11.1s\tremaining: 1.43s\n",
      "443:\tlearn: 0.0261663\ttotal: 11.2s\tremaining: 1.41s\n",
      "444:\tlearn: 0.0260805\ttotal: 11.2s\tremaining: 1.38s\n",
      "445:\tlearn: 0.0260805\ttotal: 11.2s\tremaining: 1.36s\n",
      "446:\tlearn: 0.0260805\ttotal: 11.2s\tremaining: 1.33s\n",
      "447:\tlearn: 0.0260707\ttotal: 11.3s\tremaining: 1.3s\n",
      "448:\tlearn: 0.0260660\ttotal: 11.3s\tremaining: 1.28s\n",
      "449:\tlearn: 0.0260517\ttotal: 11.3s\tremaining: 1.25s\n",
      "450:\tlearn: 0.0259844\ttotal: 11.3s\tremaining: 1.23s\n",
      "451:\tlearn: 0.0259844\ttotal: 11.3s\tremaining: 1.2s\n",
      "452:\tlearn: 0.0259279\ttotal: 11.4s\tremaining: 1.18s\n",
      "453:\tlearn: 0.0259278\ttotal: 11.4s\tremaining: 1.15s\n",
      "454:\tlearn: 0.0259278\ttotal: 11.4s\tremaining: 1.13s\n",
      "455:\tlearn: 0.0259063\ttotal: 11.4s\tremaining: 1.1s\n",
      "456:\tlearn: 0.0259063\ttotal: 11.5s\tremaining: 1.08s\n",
      "457:\tlearn: 0.0259060\ttotal: 11.5s\tremaining: 1.05s\n",
      "458:\tlearn: 0.0258503\ttotal: 11.5s\tremaining: 1.03s\n",
      "459:\tlearn: 0.0257735\ttotal: 11.5s\tremaining: 1s\n",
      "460:\tlearn: 0.0257685\ttotal: 11.6s\tremaining: 977ms\n",
      "461:\tlearn: 0.0257603\ttotal: 11.6s\tremaining: 952ms\n",
      "462:\tlearn: 0.0257479\ttotal: 11.6s\tremaining: 927ms\n",
      "463:\tlearn: 0.0257469\ttotal: 11.6s\tremaining: 902ms\n",
      "464:\tlearn: 0.0257415\ttotal: 11.6s\tremaining: 876ms\n",
      "465:\tlearn: 0.0257415\ttotal: 11.7s\tremaining: 851ms\n",
      "466:\tlearn: 0.0257223\ttotal: 11.7s\tremaining: 825ms\n",
      "467:\tlearn: 0.0257140\ttotal: 11.7s\tremaining: 800ms\n",
      "468:\tlearn: 0.0257140\ttotal: 11.7s\tremaining: 775ms\n",
      "469:\tlearn: 0.0257138\ttotal: 11.7s\tremaining: 750ms\n",
      "470:\tlearn: 0.0256914\ttotal: 11.8s\tremaining: 725ms\n",
      "471:\tlearn: 0.0256672\ttotal: 11.8s\tremaining: 700ms\n",
      "472:\tlearn: 0.0256667\ttotal: 11.8s\tremaining: 674ms\n",
      "473:\tlearn: 0.0255535\ttotal: 11.8s\tremaining: 650ms\n",
      "474:\tlearn: 0.0255535\ttotal: 11.9s\tremaining: 624ms\n",
      "475:\tlearn: 0.0255535\ttotal: 11.9s\tremaining: 599ms\n",
      "476:\tlearn: 0.0255535\ttotal: 11.9s\tremaining: 574ms\n",
      "477:\tlearn: 0.0255535\ttotal: 11.9s\tremaining: 549ms\n",
      "478:\tlearn: 0.0255534\ttotal: 11.9s\tremaining: 523ms\n",
      "479:\tlearn: 0.0255234\ttotal: 12s\tremaining: 498ms\n",
      "480:\tlearn: 0.0254573\ttotal: 12s\tremaining: 474ms\n",
      "481:\tlearn: 0.0254573\ttotal: 12s\tremaining: 449ms\n",
      "482:\tlearn: 0.0254061\ttotal: 12s\tremaining: 424ms\n",
      "483:\tlearn: 0.0254061\ttotal: 12.1s\tremaining: 399ms\n",
      "484:\tlearn: 0.0253891\ttotal: 12.1s\tremaining: 374ms\n",
      "485:\tlearn: 0.0253636\ttotal: 12.1s\tremaining: 349ms\n",
      "486:\tlearn: 0.0252920\ttotal: 12.1s\tremaining: 324ms\n",
      "487:\tlearn: 0.0251860\ttotal: 12.2s\tremaining: 299ms\n",
      "488:\tlearn: 0.0251643\ttotal: 12.2s\tremaining: 274ms\n",
      "489:\tlearn: 0.0250925\ttotal: 12.2s\tremaining: 249ms\n",
      "490:\tlearn: 0.0250752\ttotal: 12.2s\tremaining: 225ms\n",
      "491:\tlearn: 0.0249996\ttotal: 12.3s\tremaining: 200ms\n",
      "492:\tlearn: 0.0249544\ttotal: 12.3s\tremaining: 175ms\n",
      "493:\tlearn: 0.0249542\ttotal: 12.3s\tremaining: 150ms\n",
      "494:\tlearn: 0.0249041\ttotal: 12.3s\tremaining: 125ms\n",
      "495:\tlearn: 0.0249040\ttotal: 12.4s\tremaining: 99.7ms\n",
      "496:\tlearn: 0.0248507\ttotal: 12.4s\tremaining: 74.8ms\n",
      "497:\tlearn: 0.0248112\ttotal: 12.4s\tremaining: 49.9ms\n",
      "498:\tlearn: 0.0248112\ttotal: 12.4s\tremaining: 24.9ms\n",
      "499:\tlearn: 0.0247554\ttotal: 12.5s\tremaining: 0us\n"
     ]
    }
   ],
   "source": [
    "CBC.fit(X_train[all_cols],y_train[target],cat_features=categorical_columns)\n",
    "CBC_predict = CBC.predict(X_test[all_cols])"
   ]
  },
  {
   "cell_type": "code",
   "execution_count": 37,
   "metadata": {
    "execution": {
     "iopub.execute_input": "2020-10-12T19:18:36.502034Z",
     "iopub.status.busy": "2020-10-12T19:18:36.501285Z",
     "iopub.status.idle": "2020-10-12T19:18:36.504331Z",
     "shell.execute_reply": "2020-10-12T19:18:36.503589Z"
    },
    "papermill": {
     "duration": 0.09752,
     "end_time": "2020-10-12T19:18:36.504478",
     "exception": false,
     "start_time": "2020-10-12T19:18:36.406958",
     "status": "completed"
    },
    "tags": []
   },
   "outputs": [],
   "source": [
    "from sklearn.metrics import roc_auc_score, accuracy_score, precision_score, recall_score, f1_score"
   ]
  },
  {
   "cell_type": "code",
   "execution_count": 38,
   "metadata": {
    "execution": {
     "iopub.execute_input": "2020-10-12T19:18:36.686922Z",
     "iopub.status.busy": "2020-10-12T19:18:36.686146Z",
     "iopub.status.idle": "2020-10-12T19:18:36.689141Z",
     "shell.execute_reply": "2020-10-12T19:18:36.688379Z"
    },
    "papermill": {
     "duration": 0.096725,
     "end_time": "2020-10-12T19:18:36.689273",
     "exception": false,
     "start_time": "2020-10-12T19:18:36.592548",
     "status": "completed"
    },
    "tags": []
   },
   "outputs": [],
   "source": [
    "# accuracy_score(CBC_predict_down,y_test_down)"
   ]
  },
  {
   "cell_type": "code",
   "execution_count": 39,
   "metadata": {
    "execution": {
     "iopub.execute_input": "2020-10-12T19:18:36.871711Z",
     "iopub.status.busy": "2020-10-12T19:18:36.870872Z",
     "iopub.status.idle": "2020-10-12T19:18:36.873722Z",
     "shell.execute_reply": "2020-10-12T19:18:36.873107Z"
    },
    "papermill": {
     "duration": 0.097006,
     "end_time": "2020-10-12T19:18:36.873872",
     "exception": false,
     "start_time": "2020-10-12T19:18:36.776866",
     "status": "completed"
    },
    "tags": []
   },
   "outputs": [],
   "source": [
    "# accuracy_score(CBC_predict_up,y_test_up)"
   ]
  },
  {
   "cell_type": "code",
   "execution_count": 40,
   "metadata": {
    "execution": {
     "iopub.execute_input": "2020-10-12T19:18:37.063813Z",
     "iopub.status.busy": "2020-10-12T19:18:37.062990Z",
     "iopub.status.idle": "2020-10-12T19:18:37.088671Z",
     "shell.execute_reply": "2020-10-12T19:18:37.087861Z"
    },
    "papermill": {
     "duration": 0.126798,
     "end_time": "2020-10-12T19:18:37.088823",
     "exception": false,
     "start_time": "2020-10-12T19:18:36.962025",
     "status": "completed"
    },
    "tags": []
   },
   "outputs": [
    {
     "name": "stdout",
     "output_type": "stream",
     "text": [
      "Accuracy: 0.971749148467241\n",
      "Precision: 0.9837119588512645\n",
      "Recall/Sevsitivity: 0.9570475396163469\n",
      "Specificity: 0.9612490594431904\n"
     ]
    }
   ],
   "source": [
    "from sklearn.metrics import confusion_matrix\n",
    "CBC_CM = confusion_matrix(y_test, CBC_predict)\n",
    "print(\"Accuracy:\",accuracy_score(CBC_predict,y_test))\n",
    "print(\"Precision:\",precision_score(CBC_predict,y_test))\n",
    "print(\"Recall/Sevsitivity:\",recall_score(CBC_predict,y_test))\n",
    "CBC_specificity = CBC_CM[0][0]/(CBC_CM[0][0]+CBC_CM[0][1])\n",
    "print(\"Specificity:\",CBC_specificity)"
   ]
  },
  {
   "cell_type": "code",
   "execution_count": null,
   "metadata": {
    "papermill": {
     "duration": 0.090419,
     "end_time": "2020-10-12T19:18:37.268472",
     "exception": false,
     "start_time": "2020-10-12T19:18:37.178053",
     "status": "completed"
    },
    "tags": []
   },
   "outputs": [],
   "source": []
  },
  {
   "cell_type": "code",
   "execution_count": 41,
   "metadata": {
    "execution": {
     "iopub.execute_input": "2020-10-12T19:18:37.453538Z",
     "iopub.status.busy": "2020-10-12T19:18:37.452737Z",
     "iopub.status.idle": "2020-10-12T19:18:37.455945Z",
     "shell.execute_reply": "2020-10-12T19:18:37.455200Z"
    },
    "papermill": {
     "duration": 0.097118,
     "end_time": "2020-10-12T19:18:37.456084",
     "exception": false,
     "start_time": "2020-10-12T19:18:37.358966",
     "status": "completed"
    },
    "tags": []
   },
   "outputs": [],
   "source": [
    "\n",
    "# make_submission(CBC_predict_dummy_down,\"CBC_predict_dummy_down\")\n",
    "# make_submission(CBC_predict_dummy_up,\"CBC_predict_dummy_up\")\n",
    "# make_submission(CBC_predict_binary_down,\"CBC_predict_binary_down\")\n",
    "# make_submission(CBC_predict_binary_up,\"CBC_predict_binary_up\")\n"
   ]
  },
  {
   "cell_type": "markdown",
   "metadata": {
    "papermill": {
     "duration": 0.090091,
     "end_time": "2020-10-12T19:18:37.635668",
     "exception": false,
     "start_time": "2020-10-12T19:18:37.545577",
     "status": "completed"
    },
    "tags": []
   },
   "source": [
    "# Model Training"
   ]
  },
  {
   "cell_type": "code",
   "execution_count": 42,
   "metadata": {
    "execution": {
     "iopub.execute_input": "2020-10-12T19:18:37.826578Z",
     "iopub.status.busy": "2020-10-12T19:18:37.825696Z",
     "iopub.status.idle": "2020-10-12T19:18:38.171268Z",
     "shell.execute_reply": "2020-10-12T19:18:38.170507Z"
    },
    "papermill": {
     "duration": 0.446082,
     "end_time": "2020-10-12T19:18:38.171420",
     "exception": false,
     "start_time": "2020-10-12T19:18:37.725338",
     "status": "completed"
    },
    "tags": []
   },
   "outputs": [],
   "source": [
    "from sklearn.metrics import roc_auc_score, accuracy_score, precision_score, recall_score, f1_score\n",
    "from sklearn.linear_model import LogisticRegression\n",
    "from sklearn.tree import DecisionTreeClassifier\n",
    "from sklearn.svm import SVC\n",
    "from sklearn.ensemble import RandomForestClassifier\n",
    "from sklearn.discriminant_analysis import LinearDiscriminantAnalysis, QuadraticDiscriminantAnalysis\n",
    "from sklearn.cluster import KMeans\n",
    "from sklearn.neighbors import KNeighborsClassifier\n",
    "from sklearn.naive_bayes import GaussianNB\n",
    "from sklearn.metrics import precision_recall_fscore_support\n",
    "from sklearn.metrics import mean_squared_error as mse\n",
    "from sklearn.preprocessing import StandardScaler\n",
    "from sklearn.model_selection import cross_validate\n",
    "from sklearn.model_selection import train_test_split\n",
    "from sklearn.ensemble import ExtraTreesClassifier\n",
    "from sklearn.feature_selection import SelectFromModel\n",
    "from sklearn.svm import LinearSVC\n",
    "from sklearn.ensemble import VotingClassifier\n",
    "from sklearn.feature_selection import RFECV\n",
    "from sklearn.metrics import confusion_matrix"
   ]
  },
  {
   "cell_type": "markdown",
   "metadata": {
    "papermill": {
     "duration": 0.089357,
     "end_time": "2020-10-12T19:18:38.350067",
     "exception": false,
     "start_time": "2020-10-12T19:18:38.260710",
     "status": "completed"
    },
    "tags": []
   },
   "source": [
    "# Submission File"
   ]
  },
  {
   "cell_type": "code",
   "execution_count": 43,
   "metadata": {
    "execution": {
     "iopub.execute_input": "2020-10-12T19:18:38.535457Z",
     "iopub.status.busy": "2020-10-12T19:18:38.534696Z",
     "iopub.status.idle": "2020-10-12T19:18:38.538062Z",
     "shell.execute_reply": "2020-10-12T19:18:38.537338Z"
    },
    "papermill": {
     "duration": 0.098503,
     "end_time": "2020-10-12T19:18:38.538191",
     "exception": false,
     "start_time": "2020-10-12T19:18:38.439688",
     "status": "completed"
    },
    "tags": []
   },
   "outputs": [],
   "source": [
    "train_cols = all_cols"
   ]
  },
  {
   "cell_type": "code",
   "execution_count": 44,
   "metadata": {
    "execution": {
     "iopub.execute_input": "2020-10-12T19:18:38.724599Z",
     "iopub.status.busy": "2020-10-12T19:18:38.723793Z",
     "iopub.status.idle": "2020-10-12T19:18:38.726548Z",
     "shell.execute_reply": "2020-10-12T19:18:38.727261Z"
    },
    "papermill": {
     "duration": 0.098958,
     "end_time": "2020-10-12T19:18:38.727429",
     "exception": false,
     "start_time": "2020-10-12T19:18:38.628471",
     "status": "completed"
    },
    "tags": []
   },
   "outputs": [],
   "source": [
    "# df_upsampled_X[train_cols]"
   ]
  },
  {
   "cell_type": "code",
   "execution_count": null,
   "metadata": {
    "papermill": {
     "duration": 0.089995,
     "end_time": "2020-10-12T19:18:38.906555",
     "exception": false,
     "start_time": "2020-10-12T19:18:38.816560",
     "status": "completed"
    },
    "tags": []
   },
   "outputs": [],
   "source": []
  },
  {
   "cell_type": "code",
   "execution_count": 45,
   "metadata": {
    "execution": {
     "iopub.execute_input": "2020-10-12T19:18:39.111806Z",
     "iopub.status.busy": "2020-10-12T19:18:39.110968Z",
     "iopub.status.idle": "2020-10-12T19:18:53.897502Z",
     "shell.execute_reply": "2020-10-12T19:18:53.895219Z"
    },
    "papermill": {
     "duration": 14.901191,
     "end_time": "2020-10-12T19:18:53.897716",
     "exception": false,
     "start_time": "2020-10-12T19:18:38.996525",
     "status": "completed"
    },
    "tags": []
   },
   "outputs": [
    {
     "name": "stderr",
     "output_type": "stream",
     "text": [
      "/opt/conda/lib/python3.7/site-packages/sklearn/linear_model/_logistic.py:764: ConvergenceWarning: lbfgs failed to converge (status=1):\n",
      "STOP: TOTAL NO. of ITERATIONS REACHED LIMIT.\n",
      "\n",
      "Increase the number of iterations (max_iter) or scale the data as shown in:\n",
      "    https://scikit-learn.org/stable/modules/preprocessing.html\n",
      "Please also refer to the documentation for alternative solver options:\n",
      "    https://scikit-learn.org/stable/modules/linear_model.html#logistic-regression\n",
      "  extra_warning_msg=_LOGISTIC_SOLVER_CONVERGENCE_MSG)\n",
      "/opt/conda/lib/python3.7/site-packages/sklearn/linear_model/_logistic.py:764: ConvergenceWarning: lbfgs failed to converge (status=1):\n",
      "STOP: TOTAL NO. of ITERATIONS REACHED LIMIT.\n",
      "\n",
      "Increase the number of iterations (max_iter) or scale the data as shown in:\n",
      "    https://scikit-learn.org/stable/modules/preprocessing.html\n",
      "Please also refer to the documentation for alternative solver options:\n",
      "    https://scikit-learn.org/stable/modules/linear_model.html#logistic-regression\n",
      "  extra_warning_msg=_LOGISTIC_SOLVER_CONVERGENCE_MSG)\n",
      "/opt/conda/lib/python3.7/site-packages/sklearn/linear_model/_logistic.py:764: ConvergenceWarning: lbfgs failed to converge (status=1):\n",
      "STOP: TOTAL NO. of ITERATIONS REACHED LIMIT.\n",
      "\n",
      "Increase the number of iterations (max_iter) or scale the data as shown in:\n",
      "    https://scikit-learn.org/stable/modules/preprocessing.html\n",
      "Please also refer to the documentation for alternative solver options:\n",
      "    https://scikit-learn.org/stable/modules/linear_model.html#logistic-regression\n",
      "  extra_warning_msg=_LOGISTIC_SOLVER_CONVERGENCE_MSG)\n",
      "/opt/conda/lib/python3.7/site-packages/sklearn/linear_model/_logistic.py:764: ConvergenceWarning: lbfgs failed to converge (status=1):\n",
      "STOP: TOTAL NO. of ITERATIONS REACHED LIMIT.\n",
      "\n",
      "Increase the number of iterations (max_iter) or scale the data as shown in:\n",
      "    https://scikit-learn.org/stable/modules/preprocessing.html\n",
      "Please also refer to the documentation for alternative solver options:\n",
      "    https://scikit-learn.org/stable/modules/linear_model.html#logistic-regression\n",
      "  extra_warning_msg=_LOGISTIC_SOLVER_CONVERGENCE_MSG)\n",
      "/opt/conda/lib/python3.7/site-packages/sklearn/linear_model/_logistic.py:764: ConvergenceWarning: lbfgs failed to converge (status=1):\n",
      "STOP: TOTAL NO. of ITERATIONS REACHED LIMIT.\n",
      "\n",
      "Increase the number of iterations (max_iter) or scale the data as shown in:\n",
      "    https://scikit-learn.org/stable/modules/preprocessing.html\n",
      "Please also refer to the documentation for alternative solver options:\n",
      "    https://scikit-learn.org/stable/modules/linear_model.html#logistic-regression\n",
      "  extra_warning_msg=_LOGISTIC_SOLVER_CONVERGENCE_MSG)\n",
      "/opt/conda/lib/python3.7/site-packages/sklearn/linear_model/_logistic.py:764: ConvergenceWarning: lbfgs failed to converge (status=1):\n",
      "STOP: TOTAL NO. of ITERATIONS REACHED LIMIT.\n",
      "\n",
      "Increase the number of iterations (max_iter) or scale the data as shown in:\n",
      "    https://scikit-learn.org/stable/modules/preprocessing.html\n",
      "Please also refer to the documentation for alternative solver options:\n",
      "    https://scikit-learn.org/stable/modules/linear_model.html#logistic-regression\n",
      "  extra_warning_msg=_LOGISTIC_SOLVER_CONVERGENCE_MSG)\n",
      "/opt/conda/lib/python3.7/site-packages/sklearn/linear_model/_logistic.py:764: ConvergenceWarning: lbfgs failed to converge (status=1):\n",
      "STOP: TOTAL NO. of ITERATIONS REACHED LIMIT.\n",
      "\n",
      "Increase the number of iterations (max_iter) or scale the data as shown in:\n",
      "    https://scikit-learn.org/stable/modules/preprocessing.html\n",
      "Please also refer to the documentation for alternative solver options:\n",
      "    https://scikit-learn.org/stable/modules/linear_model.html#logistic-regression\n",
      "  extra_warning_msg=_LOGISTIC_SOLVER_CONVERGENCE_MSG)\n",
      "/opt/conda/lib/python3.7/site-packages/sklearn/linear_model/_logistic.py:764: ConvergenceWarning: lbfgs failed to converge (status=1):\n",
      "STOP: TOTAL NO. of ITERATIONS REACHED LIMIT.\n",
      "\n",
      "Increase the number of iterations (max_iter) or scale the data as shown in:\n",
      "    https://scikit-learn.org/stable/modules/preprocessing.html\n",
      "Please also refer to the documentation for alternative solver options:\n",
      "    https://scikit-learn.org/stable/modules/linear_model.html#logistic-regression\n",
      "  extra_warning_msg=_LOGISTIC_SOLVER_CONVERGENCE_MSG)\n",
      "/opt/conda/lib/python3.7/site-packages/sklearn/linear_model/_logistic.py:764: ConvergenceWarning: lbfgs failed to converge (status=1):\n",
      "STOP: TOTAL NO. of ITERATIONS REACHED LIMIT.\n",
      "\n",
      "Increase the number of iterations (max_iter) or scale the data as shown in:\n",
      "    https://scikit-learn.org/stable/modules/preprocessing.html\n",
      "Please also refer to the documentation for alternative solver options:\n",
      "    https://scikit-learn.org/stable/modules/linear_model.html#logistic-regression\n",
      "  extra_warning_msg=_LOGISTIC_SOLVER_CONVERGENCE_MSG)\n",
      "/opt/conda/lib/python3.7/site-packages/sklearn/linear_model/_logistic.py:764: ConvergenceWarning: lbfgs failed to converge (status=1):\n",
      "STOP: TOTAL NO. of ITERATIONS REACHED LIMIT.\n",
      "\n",
      "Increase the number of iterations (max_iter) or scale the data as shown in:\n",
      "    https://scikit-learn.org/stable/modules/preprocessing.html\n",
      "Please also refer to the documentation for alternative solver options:\n",
      "    https://scikit-learn.org/stable/modules/linear_model.html#logistic-regression\n",
      "  extra_warning_msg=_LOGISTIC_SOLVER_CONVERGENCE_MSG)\n",
      "/opt/conda/lib/python3.7/site-packages/sklearn/linear_model/_logistic.py:764: ConvergenceWarning: lbfgs failed to converge (status=1):\n",
      "STOP: TOTAL NO. of ITERATIONS REACHED LIMIT.\n",
      "\n",
      "Increase the number of iterations (max_iter) or scale the data as shown in:\n",
      "    https://scikit-learn.org/stable/modules/preprocessing.html\n",
      "Please also refer to the documentation for alternative solver options:\n",
      "    https://scikit-learn.org/stable/modules/linear_model.html#logistic-regression\n",
      "  extra_warning_msg=_LOGISTIC_SOLVER_CONVERGENCE_MSG)\n",
      "/opt/conda/lib/python3.7/site-packages/sklearn/linear_model/_logistic.py:764: ConvergenceWarning: lbfgs failed to converge (status=1):\n",
      "STOP: TOTAL NO. of ITERATIONS REACHED LIMIT.\n",
      "\n",
      "Increase the number of iterations (max_iter) or scale the data as shown in:\n",
      "    https://scikit-learn.org/stable/modules/preprocessing.html\n",
      "Please also refer to the documentation for alternative solver options:\n",
      "    https://scikit-learn.org/stable/modules/linear_model.html#logistic-regression\n",
      "  extra_warning_msg=_LOGISTIC_SOLVER_CONVERGENCE_MSG)\n",
      "/opt/conda/lib/python3.7/site-packages/sklearn/linear_model/_logistic.py:764: ConvergenceWarning: lbfgs failed to converge (status=1):\n",
      "STOP: TOTAL NO. of ITERATIONS REACHED LIMIT.\n",
      "\n",
      "Increase the number of iterations (max_iter) or scale the data as shown in:\n",
      "    https://scikit-learn.org/stable/modules/preprocessing.html\n",
      "Please also refer to the documentation for alternative solver options:\n",
      "    https://scikit-learn.org/stable/modules/linear_model.html#logistic-regression\n",
      "  extra_warning_msg=_LOGISTIC_SOLVER_CONVERGENCE_MSG)\n",
      "/opt/conda/lib/python3.7/site-packages/sklearn/linear_model/_logistic.py:764: ConvergenceWarning: lbfgs failed to converge (status=1):\n",
      "STOP: TOTAL NO. of ITERATIONS REACHED LIMIT.\n",
      "\n",
      "Increase the number of iterations (max_iter) or scale the data as shown in:\n",
      "    https://scikit-learn.org/stable/modules/preprocessing.html\n",
      "Please also refer to the documentation for alternative solver options:\n",
      "    https://scikit-learn.org/stable/modules/linear_model.html#logistic-regression\n",
      "  extra_warning_msg=_LOGISTIC_SOLVER_CONVERGENCE_MSG)\n",
      "/opt/conda/lib/python3.7/site-packages/sklearn/linear_model/_logistic.py:764: ConvergenceWarning: lbfgs failed to converge (status=1):\n",
      "STOP: TOTAL NO. of ITERATIONS REACHED LIMIT.\n",
      "\n",
      "Increase the number of iterations (max_iter) or scale the data as shown in:\n",
      "    https://scikit-learn.org/stable/modules/preprocessing.html\n",
      "Please also refer to the documentation for alternative solver options:\n",
      "    https://scikit-learn.org/stable/modules/linear_model.html#logistic-regression\n",
      "  extra_warning_msg=_LOGISTIC_SOLVER_CONVERGENCE_MSG)\n",
      "/opt/conda/lib/python3.7/site-packages/sklearn/linear_model/_logistic.py:764: ConvergenceWarning: lbfgs failed to converge (status=1):\n",
      "STOP: TOTAL NO. of ITERATIONS REACHED LIMIT.\n",
      "\n",
      "Increase the number of iterations (max_iter) or scale the data as shown in:\n",
      "    https://scikit-learn.org/stable/modules/preprocessing.html\n",
      "Please also refer to the documentation for alternative solver options:\n",
      "    https://scikit-learn.org/stable/modules/linear_model.html#logistic-regression\n",
      "  extra_warning_msg=_LOGISTIC_SOLVER_CONVERGENCE_MSG)\n",
      "/opt/conda/lib/python3.7/site-packages/sklearn/linear_model/_logistic.py:764: ConvergenceWarning: lbfgs failed to converge (status=1):\n",
      "STOP: TOTAL NO. of ITERATIONS REACHED LIMIT.\n",
      "\n",
      "Increase the number of iterations (max_iter) or scale the data as shown in:\n",
      "    https://scikit-learn.org/stable/modules/preprocessing.html\n",
      "Please also refer to the documentation for alternative solver options:\n",
      "    https://scikit-learn.org/stable/modules/linear_model.html#logistic-regression\n",
      "  extra_warning_msg=_LOGISTIC_SOLVER_CONVERGENCE_MSG)\n",
      "/opt/conda/lib/python3.7/site-packages/sklearn/linear_model/_logistic.py:764: ConvergenceWarning: lbfgs failed to converge (status=1):\n",
      "STOP: TOTAL NO. of ITERATIONS REACHED LIMIT.\n",
      "\n",
      "Increase the number of iterations (max_iter) or scale the data as shown in:\n",
      "    https://scikit-learn.org/stable/modules/preprocessing.html\n",
      "Please also refer to the documentation for alternative solver options:\n",
      "    https://scikit-learn.org/stable/modules/linear_model.html#logistic-regression\n",
      "  extra_warning_msg=_LOGISTIC_SOLVER_CONVERGENCE_MSG)\n",
      "/opt/conda/lib/python3.7/site-packages/sklearn/linear_model/_logistic.py:764: ConvergenceWarning: lbfgs failed to converge (status=1):\n",
      "STOP: TOTAL NO. of ITERATIONS REACHED LIMIT.\n",
      "\n",
      "Increase the number of iterations (max_iter) or scale the data as shown in:\n",
      "    https://scikit-learn.org/stable/modules/preprocessing.html\n",
      "Please also refer to the documentation for alternative solver options:\n",
      "    https://scikit-learn.org/stable/modules/linear_model.html#logistic-regression\n",
      "  extra_warning_msg=_LOGISTIC_SOLVER_CONVERGENCE_MSG)\n",
      "/opt/conda/lib/python3.7/site-packages/sklearn/linear_model/_logistic.py:764: ConvergenceWarning: lbfgs failed to converge (status=1):\n",
      "STOP: TOTAL NO. of ITERATIONS REACHED LIMIT.\n",
      "\n",
      "Increase the number of iterations (max_iter) or scale the data as shown in:\n",
      "    https://scikit-learn.org/stable/modules/preprocessing.html\n",
      "Please also refer to the documentation for alternative solver options:\n",
      "    https://scikit-learn.org/stable/modules/linear_model.html#logistic-regression\n",
      "  extra_warning_msg=_LOGISTIC_SOLVER_CONVERGENCE_MSG)\n",
      "/opt/conda/lib/python3.7/site-packages/sklearn/linear_model/_logistic.py:764: ConvergenceWarning: lbfgs failed to converge (status=1):\n",
      "STOP: TOTAL NO. of ITERATIONS REACHED LIMIT.\n",
      "\n",
      "Increase the number of iterations (max_iter) or scale the data as shown in:\n",
      "    https://scikit-learn.org/stable/modules/preprocessing.html\n",
      "Please also refer to the documentation for alternative solver options:\n",
      "    https://scikit-learn.org/stable/modules/linear_model.html#logistic-regression\n",
      "  extra_warning_msg=_LOGISTIC_SOLVER_CONVERGENCE_MSG)\n"
     ]
    }
   ],
   "source": [
    "\n",
    "#Logistic Regression\n",
    "\n",
    "LR = LogisticRegression()\n",
    "scoring = ['accuracy', 'precision_macro', 'recall_macro' , 'f1_weighted', 'roc_auc']\n",
    "scores = cross_validate(LR, X_train[train_cols], y_train[target], scoring=scoring, cv=20)\n",
    "sorted(scores.keys())\n",
    "LR_fit_time = scores['fit_time'].mean()\n",
    "LR_score_time = scores['score_time'].mean()\n",
    "LR_accuracy = scores['test_accuracy'].mean()\n",
    "LR_precision = scores['test_precision_macro'].mean()\n",
    "LR_recall = scores['test_recall_macro'].mean()\n",
    "LR_f1 = scores['test_f1_weighted'].mean()\n",
    "LR_roc = scores['test_roc_auc'].mean()\n",
    "LR.fit(X_train[train_cols],y_train[target])\n",
    "LR_predict = LR.predict(X_test[train_cols])"
   ]
  },
  {
   "cell_type": "code",
   "execution_count": 46,
   "metadata": {
    "execution": {
     "iopub.execute_input": "2020-10-12T19:18:54.107002Z",
     "iopub.status.busy": "2020-10-12T19:18:54.105880Z",
     "iopub.status.idle": "2020-10-12T19:18:54.111418Z",
     "shell.execute_reply": "2020-10-12T19:18:54.110619Z"
    },
    "papermill": {
     "duration": 0.112443,
     "end_time": "2020-10-12T19:18:54.111559",
     "exception": false,
     "start_time": "2020-10-12T19:18:53.999116",
     "status": "completed"
    },
    "tags": []
   },
   "outputs": [
    {
     "data": {
      "text/plain": [
       "0.6704261653684414"
      ]
     },
     "execution_count": 46,
     "metadata": {},
     "output_type": "execute_result"
    }
   ],
   "source": [
    "LR_accuracy"
   ]
  },
  {
   "cell_type": "code",
   "execution_count": 47,
   "metadata": {
    "execution": {
     "iopub.execute_input": "2020-10-12T19:18:54.482885Z",
     "iopub.status.busy": "2020-10-12T19:18:54.330653Z",
     "iopub.status.idle": "2020-10-12T19:19:57.583588Z",
     "shell.execute_reply": "2020-10-12T19:19:57.584251Z"
    },
    "papermill": {
     "duration": 63.372794,
     "end_time": "2020-10-12T19:19:57.584450",
     "exception": false,
     "start_time": "2020-10-12T19:18:54.211656",
     "status": "completed"
    },
    "tags": []
   },
   "outputs": [
    {
     "name": "stderr",
     "output_type": "stream",
     "text": [
      "/opt/conda/lib/python3.7/site-packages/sklearn/linear_model/_logistic.py:764: ConvergenceWarning: lbfgs failed to converge (status=1):\n",
      "STOP: TOTAL NO. of ITERATIONS REACHED LIMIT.\n",
      "\n",
      "Increase the number of iterations (max_iter) or scale the data as shown in:\n",
      "    https://scikit-learn.org/stable/modules/preprocessing.html\n",
      "Please also refer to the documentation for alternative solver options:\n",
      "    https://scikit-learn.org/stable/modules/linear_model.html#logistic-regression\n",
      "  extra_warning_msg=_LOGISTIC_SOLVER_CONVERGENCE_MSG)\n",
      "/opt/conda/lib/python3.7/site-packages/sklearn/linear_model/_logistic.py:764: ConvergenceWarning: lbfgs failed to converge (status=1):\n",
      "STOP: TOTAL NO. of ITERATIONS REACHED LIMIT.\n",
      "\n",
      "Increase the number of iterations (max_iter) or scale the data as shown in:\n",
      "    https://scikit-learn.org/stable/modules/preprocessing.html\n",
      "Please also refer to the documentation for alternative solver options:\n",
      "    https://scikit-learn.org/stable/modules/linear_model.html#logistic-regression\n",
      "  extra_warning_msg=_LOGISTIC_SOLVER_CONVERGENCE_MSG)\n",
      "/opt/conda/lib/python3.7/site-packages/sklearn/linear_model/_logistic.py:764: ConvergenceWarning: lbfgs failed to converge (status=1):\n",
      "STOP: TOTAL NO. of ITERATIONS REACHED LIMIT.\n",
      "\n",
      "Increase the number of iterations (max_iter) or scale the data as shown in:\n",
      "    https://scikit-learn.org/stable/modules/preprocessing.html\n",
      "Please also refer to the documentation for alternative solver options:\n",
      "    https://scikit-learn.org/stable/modules/linear_model.html#logistic-regression\n",
      "  extra_warning_msg=_LOGISTIC_SOLVER_CONVERGENCE_MSG)\n",
      "/opt/conda/lib/python3.7/site-packages/sklearn/linear_model/_logistic.py:764: ConvergenceWarning: lbfgs failed to converge (status=1):\n",
      "STOP: TOTAL NO. of ITERATIONS REACHED LIMIT.\n",
      "\n",
      "Increase the number of iterations (max_iter) or scale the data as shown in:\n",
      "    https://scikit-learn.org/stable/modules/preprocessing.html\n",
      "Please also refer to the documentation for alternative solver options:\n",
      "    https://scikit-learn.org/stable/modules/linear_model.html#logistic-regression\n",
      "  extra_warning_msg=_LOGISTIC_SOLVER_CONVERGENCE_MSG)\n",
      "/opt/conda/lib/python3.7/site-packages/sklearn/linear_model/_logistic.py:764: ConvergenceWarning: lbfgs failed to converge (status=1):\n",
      "STOP: TOTAL NO. of ITERATIONS REACHED LIMIT.\n",
      "\n",
      "Increase the number of iterations (max_iter) or scale the data as shown in:\n",
      "    https://scikit-learn.org/stable/modules/preprocessing.html\n",
      "Please also refer to the documentation for alternative solver options:\n",
      "    https://scikit-learn.org/stable/modules/linear_model.html#logistic-regression\n",
      "  extra_warning_msg=_LOGISTIC_SOLVER_CONVERGENCE_MSG)\n",
      "/opt/conda/lib/python3.7/site-packages/sklearn/linear_model/_logistic.py:764: ConvergenceWarning: lbfgs failed to converge (status=1):\n",
      "STOP: TOTAL NO. of ITERATIONS REACHED LIMIT.\n",
      "\n",
      "Increase the number of iterations (max_iter) or scale the data as shown in:\n",
      "    https://scikit-learn.org/stable/modules/preprocessing.html\n",
      "Please also refer to the documentation for alternative solver options:\n",
      "    https://scikit-learn.org/stable/modules/linear_model.html#logistic-regression\n",
      "  extra_warning_msg=_LOGISTIC_SOLVER_CONVERGENCE_MSG)\n",
      "/opt/conda/lib/python3.7/site-packages/sklearn/discriminant_analysis.py:715: UserWarning: Variables are collinear\n",
      "  warnings.warn(\"Variables are collinear\")\n",
      "/opt/conda/lib/python3.7/site-packages/sklearn/discriminant_analysis.py:715: UserWarning: Variables are collinear\n",
      "  warnings.warn(\"Variables are collinear\")\n",
      "/opt/conda/lib/python3.7/site-packages/sklearn/discriminant_analysis.py:715: UserWarning: Variables are collinear\n",
      "  warnings.warn(\"Variables are collinear\")\n",
      "/opt/conda/lib/python3.7/site-packages/sklearn/discriminant_analysis.py:715: UserWarning: Variables are collinear\n",
      "  warnings.warn(\"Variables are collinear\")\n",
      "/opt/conda/lib/python3.7/site-packages/sklearn/discriminant_analysis.py:715: UserWarning: Variables are collinear\n",
      "  warnings.warn(\"Variables are collinear\")\n",
      "/opt/conda/lib/python3.7/site-packages/sklearn/discriminant_analysis.py:715: UserWarning: Variables are collinear\n",
      "  warnings.warn(\"Variables are collinear\")\n"
     ]
    },
    {
     "data": {
      "text/html": [
       "<div>\n",
       "<style scoped>\n",
       "    .dataframe tbody tr th:only-of-type {\n",
       "        vertical-align: middle;\n",
       "    }\n",
       "\n",
       "    .dataframe tbody tr th {\n",
       "        vertical-align: top;\n",
       "    }\n",
       "\n",
       "    .dataframe thead th {\n",
       "        text-align: right;\n",
       "    }\n",
       "</style>\n",
       "<table border=\"1\" class=\"dataframe\">\n",
       "  <thead>\n",
       "    <tr style=\"text-align: right;\">\n",
       "      <th></th>\n",
       "      <th>Model</th>\n",
       "      <th>Fitting time</th>\n",
       "      <th>Scoring time</th>\n",
       "      <th>Accuracy</th>\n",
       "      <th>Precision</th>\n",
       "      <th>Recall/Sensitivity</th>\n",
       "      <th>Specificity</th>\n",
       "      <th>F1_score</th>\n",
       "      <th>AUC_ROC</th>\n",
       "    </tr>\n",
       "  </thead>\n",
       "  <tbody>\n",
       "    <tr>\n",
       "      <th>1</th>\n",
       "      <td>Decision Tree</td>\n",
       "      <td>0.439348</td>\n",
       "      <td>0.105262</td>\n",
       "      <td>0.961859</td>\n",
       "      <td>0.961856</td>\n",
       "      <td>0.961693</td>\n",
       "      <td>0.962002</td>\n",
       "      <td>0.961856</td>\n",
       "      <td>0.962391</td>\n",
       "    </tr>\n",
       "    <tr>\n",
       "      <th>4</th>\n",
       "      <td>Random Forest</td>\n",
       "      <td>3.946086</td>\n",
       "      <td>0.249337</td>\n",
       "      <td>0.954979</td>\n",
       "      <td>0.954749</td>\n",
       "      <td>0.955715</td>\n",
       "      <td>0.945824</td>\n",
       "      <td>0.955003</td>\n",
       "      <td>0.989667</td>\n",
       "    </tr>\n",
       "    <tr>\n",
       "      <th>2</th>\n",
       "      <td>Linear Discriminant Analysis</td>\n",
       "      <td>0.454104</td>\n",
       "      <td>0.108361</td>\n",
       "      <td>0.688999</td>\n",
       "      <td>0.688904</td>\n",
       "      <td>0.689242</td>\n",
       "      <td>0.680963</td>\n",
       "      <td>0.689138</td>\n",
       "      <td>0.736073</td>\n",
       "    </tr>\n",
       "    <tr>\n",
       "      <th>5</th>\n",
       "      <td>K-Nearest Neighbors</td>\n",
       "      <td>0.414548</td>\n",
       "      <td>3.129230</td>\n",
       "      <td>0.678512</td>\n",
       "      <td>0.678210</td>\n",
       "      <td>0.675929</td>\n",
       "      <td>0.737773</td>\n",
       "      <td>0.677464</td>\n",
       "      <td>0.720021</td>\n",
       "    </tr>\n",
       "    <tr>\n",
       "      <th>0</th>\n",
       "      <td>Logistic Regression</td>\n",
       "      <td>0.521568</td>\n",
       "      <td>0.107575</td>\n",
       "      <td>0.669026</td>\n",
       "      <td>0.669043</td>\n",
       "      <td>0.669252</td>\n",
       "      <td>0.647479</td>\n",
       "      <td>0.669127</td>\n",
       "      <td>0.728146</td>\n",
       "    </tr>\n",
       "    <tr>\n",
       "      <th>6</th>\n",
       "      <td>Bayes</td>\n",
       "      <td>0.221773</td>\n",
       "      <td>0.113127</td>\n",
       "      <td>0.582593</td>\n",
       "      <td>0.613367</td>\n",
       "      <td>0.593087</td>\n",
       "      <td>0.398044</td>\n",
       "      <td>0.562974</td>\n",
       "      <td>0.655229</td>\n",
       "    </tr>\n",
       "    <tr>\n",
       "      <th>3</th>\n",
       "      <td>Quadratic Discriminant Analysis</td>\n",
       "      <td>0.276116</td>\n",
       "      <td>0.118614</td>\n",
       "      <td>0.540978</td>\n",
       "      <td>0.582248</td>\n",
       "      <td>0.541007</td>\n",
       "      <td>0.895786</td>\n",
       "      <td>0.457329</td>\n",
       "      <td>0.642296</td>\n",
       "    </tr>\n",
       "  </tbody>\n",
       "</table>\n",
       "</div>"
      ],
      "text/plain": [
       "                             Model  Fitting time  Scoring time  Accuracy  \\\n",
       "1                    Decision Tree      0.439348      0.105262  0.961859   \n",
       "4                    Random Forest      3.946086      0.249337  0.954979   \n",
       "2     Linear Discriminant Analysis      0.454104      0.108361  0.688999   \n",
       "5              K-Nearest Neighbors      0.414548      3.129230  0.678512   \n",
       "0              Logistic Regression      0.521568      0.107575  0.669026   \n",
       "6                            Bayes      0.221773      0.113127  0.582593   \n",
       "3  Quadratic Discriminant Analysis      0.276116      0.118614  0.540978   \n",
       "\n",
       "   Precision  Recall/Sensitivity  Specificity  F1_score   AUC_ROC  \n",
       "1   0.961856            0.961693     0.962002  0.961856  0.962391  \n",
       "4   0.954749            0.955715     0.945824  0.955003  0.989667  \n",
       "2   0.688904            0.689242     0.680963  0.689138  0.736073  \n",
       "5   0.678210            0.675929     0.737773  0.677464  0.720021  \n",
       "0   0.669043            0.669252     0.647479  0.669127  0.728146  \n",
       "6   0.613367            0.593087     0.398044  0.562974  0.655229  \n",
       "3   0.582248            0.541007     0.895786  0.457329  0.642296  "
      ]
     },
     "execution_count": 47,
     "metadata": {},
     "output_type": "execute_result"
    }
   ],
   "source": [
    "#Logistic Regression\n",
    "\n",
    "LR = LogisticRegression()\n",
    "scoring = ['accuracy', 'precision_macro', 'recall_macro' , 'f1_weighted', 'roc_auc']\n",
    "scores = cross_validate(LR, X_train[train_cols], y_train[target], scoring=scoring, cv=5)\n",
    "sorted(scores.keys())\n",
    "LR_fit_time = scores['fit_time'].mean()\n",
    "LR_score_time = scores['score_time'].mean()\n",
    "LR_accuracy = scores['test_accuracy'].mean()\n",
    "LR_precision = scores['test_precision_macro'].mean()\n",
    "LR_recall = scores['test_recall_macro'].mean()\n",
    "LR_f1 = scores['test_f1_weighted'].mean()\n",
    "LR_roc = scores['test_roc_auc'].mean()\n",
    "LR.fit(X_train[train_cols],y_train[target])\n",
    "LR_predict = LR.predict(X_test[train_cols])\n",
    "LR_CM = confusion_matrix(y_test, LR_predict)\n",
    "LR_specificity = LR_CM[0][0]/(LR_CM[0][0]+LR_CM[0][1])\n",
    "\n",
    "\n",
    "#Decision Tree\n",
    "\n",
    "decision_tree = DecisionTreeClassifier()\n",
    "scoring = ['accuracy', 'precision_macro', 'recall_macro' , 'f1_weighted', 'roc_auc']\n",
    "scores = cross_validate(decision_tree, X_train[train_cols], y_train[target], scoring=scoring, cv=5)\n",
    "sorted(scores.keys())\n",
    "dtree_fit_time = scores['fit_time'].mean()\n",
    "dtree_score_time = scores['score_time'].mean()\n",
    "dtree_accuracy = scores['test_accuracy'].mean()\n",
    "dtree_precision = scores['test_precision_macro'].mean()\n",
    "dtree_recall = scores['test_recall_macro'].mean()\n",
    "dtree_f1 = scores['test_f1_weighted'].mean()\n",
    "dtree_roc = scores['test_roc_auc'].mean()\n",
    "decision_tree.fit(X_train[train_cols],y_train[target])\n",
    "dtree_predict = decision_tree.predict(X_test[train_cols])\n",
    "dtree_CM = confusion_matrix(y_test, dtree_predict)\n",
    "dtree_specificity = dtree_CM[0][0]/(dtree_CM[0][0]+dtree_CM[0][1])\n",
    "\n",
    "\n",
    "#Support Vector Machine\n",
    "\n",
    "#SVM = SVC(probability = True)\n",
    "#scoring = ['accuracy','precision_macro', 'recall_macro' , 'f1_weighted', 'roc_auc']\n",
    "#scores = cross_validate(SVM, X_train[train_cols], y_train[target], scoring=scoring, cv=5)\n",
    "#sorted(scores.keys())\n",
    "#SVM_fit_time = scores['fit_time'].mean()\n",
    "#SVM_score_time = scores['score_time'].mean()\n",
    "#SVM_accuracy = scores['test_accuracy'].mean()\n",
    "#SVM_precision = scores['test_precision_macro'].mean()\n",
    "#SVM_recall = scores['test_recall_macro'].mean()\n",
    "#SVM_f1 = scores['test_f1_weighted'].mean()\n",
    "#SVM_roc = scores['test_roc_auc'].mean()\n",
    "#SVM.fit(X_train[train_cols],y_train[target])\n",
    "#SVM_predict = SVM.predict(X_test[train_cols])\n",
    "#SVM_CM = confusion_matrix(y_test, SVM_predict)\n",
    "#SVM_specificity = SVM_CM[0][0]/(SVM_CM[0][0]+SVM_CM[0][1])\n",
    "\n",
    "#Linear Discriminant Analysis\n",
    "\n",
    "LDA = LinearDiscriminantAnalysis()\n",
    "scoring = ['accuracy', 'precision_macro', 'recall_macro' , 'f1_weighted', 'roc_auc']\n",
    "scores = cross_validate(LDA, X_train[train_cols], y_train[target], scoring=scoring, cv=5)\n",
    "sorted(scores.keys())\n",
    "LDA_fit_time = scores['fit_time'].mean()\n",
    "LDA_score_time = scores['score_time'].mean()\n",
    "LDA_accuracy = scores['test_accuracy'].mean()\n",
    "LDA_precision = scores['test_precision_macro'].mean()\n",
    "LDA_recall = scores['test_recall_macro'].mean()\n",
    "LDA_f1 = scores['test_f1_weighted'].mean()\n",
    "LDA_roc = scores['test_roc_auc'].mean()\n",
    "LDA.fit(X_train[train_cols],y_train[target])\n",
    "LDA_predict = LDA.predict(X_test[train_cols])\n",
    "LDA_CM = confusion_matrix(y_test, LDA_predict)\n",
    "LDA_specificity = LDA_CM[0][0]/(LDA_CM[0][0]+LDA_CM[0][1])\n",
    "\n",
    "#Quadratic Discriminant Analysis\n",
    "\n",
    "QDA = QuadraticDiscriminantAnalysis()\n",
    "scoring = ['accuracy', 'precision_macro', 'recall_macro' , 'f1_weighted', 'roc_auc']\n",
    "scores = cross_validate(QDA, X_train[train_cols], y_train[target], scoring=scoring, cv=5)\n",
    "sorted(scores.keys())\n",
    "QDA_fit_time = scores['fit_time'].mean()\n",
    "QDA_score_time = scores['score_time'].mean()\n",
    "QDA_accuracy = scores['test_accuracy'].mean()\n",
    "QDA_precision = scores['test_precision_macro'].mean()\n",
    "QDA_recall = scores['test_recall_macro'].mean()\n",
    "QDA_f1 = scores['test_f1_weighted'].mean()\n",
    "QDA_roc = scores['test_roc_auc'].mean()\n",
    "QDA.fit(X_train[train_cols],y_train[target])\n",
    "QDA_predict = QDA.predict(X_test[train_cols])\n",
    "QDA_CM = confusion_matrix(y_test, QDA_predict)\n",
    "QDA_specificity = QDA_CM[0][0]/(QDA_CM[0][0]+QDA_CM[0][1])\n",
    "\n",
    "#Random Forest Classifier\n",
    "\n",
    "random_forest = RandomForestClassifier()\n",
    "scoring = ['accuracy', 'precision_macro', 'recall_macro' , 'f1_weighted', 'roc_auc']\n",
    "scores = cross_validate(random_forest, X_train[train_cols], y_train[target], scoring=scoring, cv=5)\n",
    "sorted(scores.keys())\n",
    "forest_fit_time = scores['fit_time'].mean()\n",
    "forest_score_time = scores['score_time'].mean()\n",
    "forest_accuracy = scores['test_accuracy'].mean()\n",
    "forest_precision = scores['test_precision_macro'].mean()\n",
    "forest_recall = scores['test_recall_macro'].mean()\n",
    "forest_f1 = scores['test_f1_weighted'].mean()\n",
    "forest_roc = scores['test_roc_auc'].mean()\n",
    "random_forest.fit(X_train[train_cols],y_train[target])\n",
    "forest_predict = random_forest.predict(X_test[train_cols])\n",
    "forest_CM = confusion_matrix(y_test, forest_predict)\n",
    "forest_specificity = forest_CM[0][0]/(forest_CM[0][0]+forest_CM[0][1])\n",
    "\n",
    "#K-Nearest Neighbors\n",
    "\n",
    "KNN = KNeighborsClassifier()\n",
    "scoring = ['accuracy', 'precision_macro', 'recall_macro' , 'f1_weighted', 'roc_auc']\n",
    "scores = cross_validate(KNN, X_train[train_cols], y_train[target], scoring=scoring, cv=5)\n",
    "sorted(scores.keys())\n",
    "KNN_fit_time = scores['fit_time'].mean()\n",
    "KNN_score_time = scores['score_time'].mean()\n",
    "KNN_accuracy = scores['test_accuracy'].mean()\n",
    "KNN_precision = scores['test_precision_macro'].mean()\n",
    "KNN_recall = scores['test_recall_macro'].mean()\n",
    "KNN_f1 = scores['test_f1_weighted'].mean()\n",
    "KNN_roc = scores['test_roc_auc'].mean()\n",
    "KNN.fit(X_train[train_cols],y_train[target])\n",
    "KNN_predict = KNN.predict(X_test[train_cols])\n",
    "KNN_CM = confusion_matrix(y_test, KNN_predict)\n",
    "KNN_specificity = KNN_CM[0][0]/(KNN_CM[0][0]+KNN_CM[0][1])\n",
    "\n",
    "#Naive Bayes\n",
    "\n",
    "scoring\n",
    "bayes = GaussianNB()\n",
    "scoring = ['accuracy', 'precision_macro', 'recall_macro' , 'f1_weighted', 'roc_auc']\n",
    "scores = cross_validate(bayes, X_train[train_cols], y_train[target], scoring=scoring, cv=5)\n",
    "sorted(scores.keys())\n",
    "bayes_fit_time = scores['fit_time'].mean()\n",
    "bayes_score_time = scores['score_time'].mean()\n",
    "bayes_accuracy = scores['test_accuracy'].mean()\n",
    "bayes_precision = scores['test_precision_macro'].mean()\n",
    "bayes_recall = scores['test_recall_macro'].mean()\n",
    "bayes_f1 = scores['test_f1_weighted'].mean()\n",
    "bayes_roc = scores['test_roc_auc'].mean()\n",
    "bayes.fit(X_train[train_cols],y_train[target])\n",
    "bayes_predict = bayes.predict(X_test[train_cols])\n",
    "bayes_CM = confusion_matrix(y_test, bayes_predict)\n",
    "bayes_specificity = bayes_CM[0][0]/(bayes_CM[0][0]+bayes_CM[0][1])\n",
    "\n",
    "\n",
    "## Comparison\n",
    "\n",
    "models_tree = pd.DataFrame({\n",
    "    'Model'       : ['Logistic Regression', 'Decision Tree', 'Linear Discriminant Analysis', 'Quadratic Discriminant Analysis', 'Random Forest', 'K-Nearest Neighbors', 'Bayes'],\n",
    "    'Fitting time': [LR_fit_time, dtree_fit_time, LDA_fit_time, QDA_fit_time, forest_fit_time, KNN_fit_time, bayes_fit_time],\n",
    "    'Scoring time': [LR_score_time, dtree_score_time, LDA_score_time, QDA_score_time, forest_score_time, KNN_score_time, bayes_score_time],\n",
    "    'Accuracy'    : [LR_accuracy, dtree_accuracy, LDA_accuracy, QDA_accuracy, forest_accuracy, KNN_accuracy, bayes_accuracy],\n",
    "    'Precision'   : [LR_precision, dtree_precision, LDA_precision, QDA_precision, forest_precision, KNN_precision, bayes_precision],\n",
    "    'Recall/Sensitivity' : [LR_recall, dtree_recall, LDA_recall, QDA_recall, forest_recall, KNN_recall, bayes_recall],\n",
    "    'Specificity' : [LR_specificity, dtree_specificity, LDA_specificity, QDA_specificity, forest_specificity, KNN_specificity, bayes_specificity],\n",
    "    'F1_score'    : [LR_f1, dtree_f1, LDA_f1, QDA_f1, forest_f1, KNN_f1, bayes_f1],\n",
    "    'AUC_ROC'     : [LR_roc, dtree_roc, LDA_roc, QDA_roc, forest_roc, KNN_roc, bayes_roc],\n",
    "    }, columns = ['Model', 'Fitting time', 'Scoring time', 'Accuracy', 'Precision', 'Recall/Sensitivity', 'Specificity', 'F1_score', 'AUC_ROC'])\n",
    "models_tree.sort_values(by='Accuracy', ascending=False)"
   ]
  },
  {
   "cell_type": "code",
   "execution_count": 48,
   "metadata": {
    "execution": {
     "iopub.execute_input": "2020-10-12T19:19:57.828456Z",
     "iopub.status.busy": "2020-10-12T19:19:57.827345Z",
     "iopub.status.idle": "2020-10-12T19:19:57.833895Z",
     "shell.execute_reply": "2020-10-12T19:19:57.833026Z"
    },
    "papermill": {
     "duration": 0.14406,
     "end_time": "2020-10-12T19:19:57.834044",
     "exception": false,
     "start_time": "2020-10-12T19:19:57.689984",
     "status": "completed"
    },
    "tags": []
   },
   "outputs": [
    {
     "data": {
      "text/html": [
       "<div>\n",
       "<style scoped>\n",
       "    .dataframe tbody tr th:only-of-type {\n",
       "        vertical-align: middle;\n",
       "    }\n",
       "\n",
       "    .dataframe tbody tr th {\n",
       "        vertical-align: top;\n",
       "    }\n",
       "\n",
       "    .dataframe thead th {\n",
       "        text-align: right;\n",
       "    }\n",
       "</style>\n",
       "<table border=\"1\" class=\"dataframe\">\n",
       "  <thead>\n",
       "    <tr style=\"text-align: right;\">\n",
       "      <th></th>\n",
       "      <th>Model</th>\n",
       "      <th>Fitting time</th>\n",
       "      <th>Scoring time</th>\n",
       "      <th>Accuracy</th>\n",
       "      <th>Precision</th>\n",
       "      <th>Recall/Sensitivity</th>\n",
       "      <th>Specificity</th>\n",
       "      <th>F1_score</th>\n",
       "      <th>AUC_ROC</th>\n",
       "    </tr>\n",
       "  </thead>\n",
       "  <tbody>\n",
       "    <tr>\n",
       "      <th>1</th>\n",
       "      <td>Decision Tree</td>\n",
       "      <td>0.439348</td>\n",
       "      <td>0.105262</td>\n",
       "      <td>0.961859</td>\n",
       "      <td>0.961856</td>\n",
       "      <td>0.961693</td>\n",
       "      <td>0.962002</td>\n",
       "      <td>0.961856</td>\n",
       "      <td>0.962391</td>\n",
       "    </tr>\n",
       "    <tr>\n",
       "      <th>4</th>\n",
       "      <td>Random Forest</td>\n",
       "      <td>3.946086</td>\n",
       "      <td>0.249337</td>\n",
       "      <td>0.954979</td>\n",
       "      <td>0.954749</td>\n",
       "      <td>0.955715</td>\n",
       "      <td>0.945824</td>\n",
       "      <td>0.955003</td>\n",
       "      <td>0.989667</td>\n",
       "    </tr>\n",
       "    <tr>\n",
       "      <th>2</th>\n",
       "      <td>Linear Discriminant Analysis</td>\n",
       "      <td>0.454104</td>\n",
       "      <td>0.108361</td>\n",
       "      <td>0.688999</td>\n",
       "      <td>0.688904</td>\n",
       "      <td>0.689242</td>\n",
       "      <td>0.680963</td>\n",
       "      <td>0.689138</td>\n",
       "      <td>0.736073</td>\n",
       "    </tr>\n",
       "    <tr>\n",
       "      <th>5</th>\n",
       "      <td>K-Nearest Neighbors</td>\n",
       "      <td>0.414548</td>\n",
       "      <td>3.129230</td>\n",
       "      <td>0.678512</td>\n",
       "      <td>0.678210</td>\n",
       "      <td>0.675929</td>\n",
       "      <td>0.737773</td>\n",
       "      <td>0.677464</td>\n",
       "      <td>0.720021</td>\n",
       "    </tr>\n",
       "    <tr>\n",
       "      <th>0</th>\n",
       "      <td>Logistic Regression</td>\n",
       "      <td>0.521568</td>\n",
       "      <td>0.107575</td>\n",
       "      <td>0.669026</td>\n",
       "      <td>0.669043</td>\n",
       "      <td>0.669252</td>\n",
       "      <td>0.647479</td>\n",
       "      <td>0.669127</td>\n",
       "      <td>0.728146</td>\n",
       "    </tr>\n",
       "    <tr>\n",
       "      <th>6</th>\n",
       "      <td>Bayes</td>\n",
       "      <td>0.221773</td>\n",
       "      <td>0.113127</td>\n",
       "      <td>0.582593</td>\n",
       "      <td>0.613367</td>\n",
       "      <td>0.593087</td>\n",
       "      <td>0.398044</td>\n",
       "      <td>0.562974</td>\n",
       "      <td>0.655229</td>\n",
       "    </tr>\n",
       "    <tr>\n",
       "      <th>3</th>\n",
       "      <td>Quadratic Discriminant Analysis</td>\n",
       "      <td>0.276116</td>\n",
       "      <td>0.118614</td>\n",
       "      <td>0.540978</td>\n",
       "      <td>0.582248</td>\n",
       "      <td>0.541007</td>\n",
       "      <td>0.895786</td>\n",
       "      <td>0.457329</td>\n",
       "      <td>0.642296</td>\n",
       "    </tr>\n",
       "  </tbody>\n",
       "</table>\n",
       "</div>"
      ],
      "text/plain": [
       "                             Model  Fitting time  Scoring time  Accuracy  \\\n",
       "1                    Decision Tree      0.439348      0.105262  0.961859   \n",
       "4                    Random Forest      3.946086      0.249337  0.954979   \n",
       "2     Linear Discriminant Analysis      0.454104      0.108361  0.688999   \n",
       "5              K-Nearest Neighbors      0.414548      3.129230  0.678512   \n",
       "0              Logistic Regression      0.521568      0.107575  0.669026   \n",
       "6                            Bayes      0.221773      0.113127  0.582593   \n",
       "3  Quadratic Discriminant Analysis      0.276116      0.118614  0.540978   \n",
       "\n",
       "   Precision  Recall/Sensitivity  Specificity  F1_score   AUC_ROC  \n",
       "1   0.961856            0.961693     0.962002  0.961856  0.962391  \n",
       "4   0.954749            0.955715     0.945824  0.955003  0.989667  \n",
       "2   0.688904            0.689242     0.680963  0.689138  0.736073  \n",
       "5   0.678210            0.675929     0.737773  0.677464  0.720021  \n",
       "0   0.669043            0.669252     0.647479  0.669127  0.728146  \n",
       "6   0.613367            0.593087     0.398044  0.562974  0.655229  \n",
       "3   0.582248            0.541007     0.895786  0.457329  0.642296  "
      ]
     },
     "execution_count": 48,
     "metadata": {},
     "output_type": "execute_result"
    }
   ],
   "source": [
    "models_tree = pd.DataFrame({\n",
    "    'Model'       : ['Logistic Regression', 'Decision Tree', 'Linear Discriminant Analysis', 'Quadratic Discriminant Analysis', 'Random Forest', 'K-Nearest Neighbors', 'Bayes'],\n",
    "    'Fitting time': [LR_fit_time, dtree_fit_time, LDA_fit_time, QDA_fit_time, forest_fit_time, KNN_fit_time, bayes_fit_time],\n",
    "    'Scoring time': [LR_score_time, dtree_score_time, LDA_score_time, QDA_score_time, forest_score_time, KNN_score_time, bayes_score_time],\n",
    "    'Accuracy'    : [LR_accuracy, dtree_accuracy, LDA_accuracy, QDA_accuracy, forest_accuracy, KNN_accuracy, bayes_accuracy],\n",
    "    'Precision'   : [LR_precision, dtree_precision, LDA_precision, QDA_precision, forest_precision, KNN_precision, bayes_precision],\n",
    "    'Recall/Sensitivity' : [LR_recall, dtree_recall, LDA_recall, QDA_recall, forest_recall, KNN_recall, bayes_recall],\n",
    "    'Specificity' : [LR_specificity, dtree_specificity, LDA_specificity, QDA_specificity, forest_specificity, KNN_specificity, bayes_specificity],\n",
    "    'F1_score'    : [LR_f1, dtree_f1, LDA_f1, QDA_f1, forest_f1, KNN_f1, bayes_f1],\n",
    "    'AUC_ROC'     : [LR_roc, dtree_roc, LDA_roc, QDA_roc, forest_roc, KNN_roc, bayes_roc],\n",
    "    }, columns = ['Model', 'Fitting time', 'Scoring time', 'Accuracy', 'Precision', 'Recall/Sensitivity', 'Specificity', 'F1_score', 'AUC_ROC'])\n",
    "models_tree.sort_values(by='Accuracy', ascending=False)"
   ]
  },
  {
   "cell_type": "code",
   "execution_count": 49,
   "metadata": {
    "execution": {
     "iopub.execute_input": "2020-10-12T19:19:58.058866Z",
     "iopub.status.busy": "2020-10-12T19:19:58.058024Z",
     "iopub.status.idle": "2020-10-12T19:19:58.412011Z",
     "shell.execute_reply": "2020-10-12T19:19:58.411269Z"
    },
    "papermill": {
     "duration": 0.469907,
     "end_time": "2020-10-12T19:19:58.412167",
     "exception": false,
     "start_time": "2020-10-12T19:19:57.942260",
     "status": "completed"
    },
    "tags": []
   },
   "outputs": [
    {
     "data": {
      "text/plain": [
       "Text(0, 0.5, 'Feature Importance Score')"
      ]
     },
     "execution_count": 49,
     "metadata": {},
     "output_type": "execute_result"
    },
    {
     "data": {
      "image/png": "[encoded data removed]",
      "text/plain": [
       "<Figure size 432x288 with 1 Axes>"
      ]
     },
     "metadata": {
      "needs_background": "light"
     },
     "output_type": "display_data"
    }
   ],
   "source": [
    "feat_imp = pd.Series(random_forest.feature_importances_, index=train_cols)\n",
    "feat_imp.sort_values(ascending=True).iloc[:20].plot(kind='barh', title='Feature Importances')\n",
    "plt.ylabel('Feature Importance Score')"
   ]
  },
  {
   "cell_type": "code",
   "execution_count": 50,
   "metadata": {
    "execution": {
     "iopub.execute_input": "2020-10-12T19:19:58.636284Z",
     "iopub.status.busy": "2020-10-12T19:19:58.635134Z",
     "iopub.status.idle": "2020-10-12T19:19:58.639387Z",
     "shell.execute_reply": "2020-10-12T19:19:58.638700Z"
    },
    "papermill": {
     "duration": 0.118166,
     "end_time": "2020-10-12T19:19:58.639534",
     "exception": false,
     "start_time": "2020-10-12T19:19:58.521368",
     "status": "completed"
    },
    "tags": []
   },
   "outputs": [],
   "source": [
    "# from sklearn.metrics import classification_report\n",
    "\n",
    "# print(classification_report(y_test_up, forest_predict_up, target_names=['MBC_PATIENT','NON-MBC_PATIENT']))"
   ]
  },
  {
   "cell_type": "code",
   "execution_count": 51,
   "metadata": {
    "execution": {
     "iopub.execute_input": "2020-10-12T19:19:58.865236Z",
     "iopub.status.busy": "2020-10-12T19:19:58.864152Z",
     "iopub.status.idle": "2020-10-12T19:19:58.867687Z",
     "shell.execute_reply": "2020-10-12T19:19:58.868274Z"
    },
    "papermill": {
     "duration": 0.118843,
     "end_time": "2020-10-12T19:19:58.868476",
     "exception": false,
     "start_time": "2020-10-12T19:19:58.749633",
     "status": "completed"
    },
    "tags": []
   },
   "outputs": [],
   "source": [
    "# from sklearn.metrics import confusion_matrix\n",
    "# forest_CM = confusion_matrix(y_test_up, forest_predict_up)"
   ]
  },
  {
   "cell_type": "code",
   "execution_count": 52,
   "metadata": {
    "execution": {
     "iopub.execute_input": "2020-10-12T19:19:59.099236Z",
     "iopub.status.busy": "2020-10-12T19:19:59.098082Z",
     "iopub.status.idle": "2020-10-12T19:19:59.102263Z",
     "shell.execute_reply": "2020-10-12T19:19:59.101464Z"
    },
    "papermill": {
     "duration": 0.120302,
     "end_time": "2020-10-12T19:19:59.102407",
     "exception": false,
     "start_time": "2020-10-12T19:19:58.982105",
     "status": "completed"
    },
    "tags": []
   },
   "outputs": [],
   "source": [
    "# print(TN,FN,TP,FP)"
   ]
  },
  {
   "cell_type": "code",
   "execution_count": 53,
   "metadata": {
    "execution": {
     "iopub.execute_input": "2020-10-12T19:19:59.331874Z",
     "iopub.status.busy": "2020-10-12T19:19:59.330886Z",
     "iopub.status.idle": "2020-10-12T19:19:59.334147Z",
     "shell.execute_reply": "2020-10-12T19:19:59.334707Z"
    },
    "papermill": {
     "duration": 0.121998,
     "end_time": "2020-10-12T19:19:59.334953",
     "exception": false,
     "start_time": "2020-10-12T19:19:59.212955",
     "status": "completed"
    },
    "tags": []
   },
   "outputs": [],
   "source": [
    "# print(\"Accuracy\", (forest_CM[1][1]+forest_CM[0][0])/(forest_CM[1][1]+forest_CM[0][0]+forest_CM[0][1]+forest_CM[1][0]))\n",
    "# print(\"Sensitivity\", forest_CM[1][1]/(forest_CM[1][1]+forest_CM[1][0]))\n",
    "# print(\"Specificity\", forest_CM[0][0]/(forest_CM[0][0]+forest_CM[0][1]))"
   ]
  },
  {
   "cell_type": "code",
   "execution_count": 54,
   "metadata": {
    "execution": {
     "iopub.execute_input": "2020-10-12T19:19:59.560894Z",
     "iopub.status.busy": "2020-10-12T19:19:59.560112Z",
     "iopub.status.idle": "2020-10-12T19:19:59.564193Z",
     "shell.execute_reply": "2020-10-12T19:19:59.563450Z"
    },
    "papermill": {
     "duration": 0.119132,
     "end_time": "2020-10-12T19:19:59.564342",
     "exception": false,
     "start_time": "2020-10-12T19:19:59.445210",
     "status": "completed"
    },
    "tags": []
   },
   "outputs": [],
   "source": [
    "# print(\"Accuracy\", (TP+TN)/(TP+TN+FP+FN))"
   ]
  },
  {
   "cell_type": "code",
   "execution_count": 55,
   "metadata": {
    "execution": {
     "iopub.execute_input": "2020-10-12T19:19:59.796458Z",
     "iopub.status.busy": "2020-10-12T19:19:59.795482Z",
     "iopub.status.idle": "2020-10-12T19:19:59.798959Z",
     "shell.execute_reply": "2020-10-12T19:19:59.799725Z"
    },
    "papermill": {
     "duration": 0.125179,
     "end_time": "2020-10-12T19:19:59.799954",
     "exception": false,
     "start_time": "2020-10-12T19:19:59.674775",
     "status": "completed"
    },
    "tags": []
   },
   "outputs": [],
   "source": [
    "# #Logistic Regression\n",
    "\n",
    "# LR = LogisticRegression()\n",
    "# scoring = ['accuracy', 'precision_macro', 'recall_macro' , 'f1_weighted', 'roc_auc']\n",
    "# scores = cross_validate(LR, X_train_down[train_cols], y_train_down[target], scoring=scoring, cv=5)\n",
    "# sorted(scores.keys())\n",
    "# LR_fit_time = scores['fit_time'].mean()\n",
    "# LR_score_time = scores['score_time'].mean()\n",
    "# LR_accuracy = scores['test_accuracy'].mean()\n",
    "# LR_precision = scores['test_precision_macro'].mean()\n",
    "# LR_recall = scores['test_recall_macro'].mean()\n",
    "# LR_f1 = scores['test_f1_weighted'].mean()\n",
    "# LR_roc = scores['test_roc_auc'].mean()\n",
    "# LR.fit(X_train_down[train_cols],y_train_down[target])\n",
    "# LR_predict_down = LR.predict(X_test_down[train_cols])\n",
    "# LR_CM = confusion_matrix(y_test_down, LR_predict_down)\n",
    "# LR_specificity = LR_CM[0][0]/(LR_CM[0][0]+LR_CM[0][1])\n",
    "\n",
    "\n",
    "# #Decision Tree\n",
    "\n",
    "# decision_tree = DecisionTreeClassifier()\n",
    "# scoring = ['accuracy', 'precision_macro', 'recall_macro' , 'f1_weighted', 'roc_auc']\n",
    "# scores = cross_validate(decision_tree, X_train_down[train_cols], y_train_down[target], scoring=scoring, cv=5)\n",
    "# sorted(scores.keys())\n",
    "# dtree_fit_time = scores['fit_time'].mean()\n",
    "# dtree_score_time = scores['score_time'].mean()\n",
    "# dtree_accuracy = scores['test_accuracy'].mean()\n",
    "# dtree_precision = scores['test_precision_macro'].mean()\n",
    "# dtree_recall = scores['test_recall_macro'].mean()\n",
    "# dtree_f1 = scores['test_f1_weighted'].mean()\n",
    "# dtree_roc = scores['test_roc_auc'].mean()\n",
    "# decision_tree.fit(X_train_down[train_cols],y_train_down[target])\n",
    "# dtree_predict_down = decision_tree.predict(X_test_down[train_cols])\n",
    "# dtree_CM = confusion_matrix(y_test_down, dtree_predict_down)\n",
    "# dtree_specificity = dtree_CM[0][0]/(dtree_CM[0][0]+dtree_CM[0][1])\n",
    "\n",
    "\n",
    "# #Support Vector Machine\n",
    "\n",
    "# #SVM = SVC(probability = True)\n",
    "# #scoring = ['accuracy','precision_macro', 'recall_macro' , 'f1_weighted', 'roc_auc']\n",
    "# #scores = cross_validate(SVM, X_train_down[train_cols], y_train_down[target], scoring=scoring, cv=5)\n",
    "# #sorted(scores.keys())\n",
    "# #SVM_fit_time = scores['fit_time'].mean()\n",
    "# #SVM_score_time = scores['score_time'].mean()\n",
    "# #SVM_accuracy = scores['test_accuracy'].mean()\n",
    "# #SVM_precision = scores['test_precision_macro'].mean()\n",
    "# #SVM_recall = scores['test_recall_macro'].mean()\n",
    "# #SVM_f1 = scores['test_f1_weighted'].mean()\n",
    "# #SVM_roc = scores['test_roc_auc'].mean()\n",
    "# #SVM.fit(X_train_down[train_cols],y_train_down[target])\n",
    "# #SVM_predict_down = SVM.predict(X_test_down[train_cols])\n",
    "# #SVM_CM = confusion_matrix(y_test_down, SVM_predict_down)\n",
    "# #SVM_specificity = SVM_CM[0][0]/(SVM_CM[0][0]+SVM_CM[0][1])\n",
    "\n",
    "# #Linear Discriminant Analysis\n",
    "\n",
    "# LDA = LinearDiscriminantAnalysis()\n",
    "# scoring = ['accuracy', 'precision_macro', 'recall_macro' , 'f1_weighted', 'roc_auc']\n",
    "# scores = cross_validate(LDA, X_train_down[train_cols], y_train_down[target], scoring=scoring, cv=5)\n",
    "# sorted(scores.keys())\n",
    "# LDA_fit_time = scores['fit_time'].mean()\n",
    "# LDA_score_time = scores['score_time'].mean()\n",
    "# LDA_accuracy = scores['test_accuracy'].mean()\n",
    "# LDA_precision = scores['test_precision_macro'].mean()\n",
    "# LDA_recall = scores['test_recall_macro'].mean()\n",
    "# LDA_f1 = scores['test_f1_weighted'].mean()\n",
    "# LDA_roc = scores['test_roc_auc'].mean()\n",
    "# LDA.fit(X_train_down[train_cols],y_train_down[target])\n",
    "# LDA_predict_down = LDA.predict(X_test_down[train_cols])\n",
    "# LDA_CM = confusion_matrix(y_test_down, LDA_predict_down)\n",
    "# LDA_specificity = LDA_CM[0][0]/(LDA_CM[0][0]+LDA_CM[0][1])\n",
    "\n",
    "# #Quadratic Discriminant Analysis\n",
    "\n",
    "# QDA = QuadraticDiscriminantAnalysis()\n",
    "# scoring = ['accuracy', 'precision_macro', 'recall_macro' , 'f1_weighted', 'roc_auc']\n",
    "# scores = cross_validate(QDA, X_train_down[train_cols], y_train_down[target], scoring=scoring, cv=5)\n",
    "# sorted(scores.keys())\n",
    "# QDA_fit_time = scores['fit_time'].mean()\n",
    "# QDA_score_time = scores['score_time'].mean()\n",
    "# QDA_accuracy = scores['test_accuracy'].mean()\n",
    "# QDA_precision = scores['test_precision_macro'].mean()\n",
    "# QDA_recall = scores['test_recall_macro'].mean()\n",
    "# QDA_f1 = scores['test_f1_weighted'].mean()\n",
    "# QDA_roc = scores['test_roc_auc'].mean()\n",
    "# QDA.fit(X_train_down[train_cols],y_train_down[target])\n",
    "# QDA_predict_down = QDA.predict(X_test_down[train_cols])\n",
    "# QDA_CM = confusion_matrix(y_test_down, QDA_predict_down)\n",
    "# QDA_specificity = QDA_CM[0][0]/(QDA_CM[0][0]+QDA_CM[0][1])\n",
    "\n",
    "# #Random Forest Classifier\n",
    "\n",
    "# random_forest = RandomForestClassifier()\n",
    "# scoring = ['accuracy', 'precision_macro', 'recall_macro' , 'f1_weighted', 'roc_auc']\n",
    "# scores = cross_validate(random_forest, X_train_down[train_cols], y_train_down[target], scoring=scoring, cv=5)\n",
    "# sorted(scores.keys())\n",
    "# forest_fit_time = scores['fit_time'].mean()\n",
    "# forest_score_time = scores['score_time'].mean()\n",
    "# forest_accuracy = scores['test_accuracy'].mean()\n",
    "# forest_precision = scores['test_precision_macro'].mean()\n",
    "# forest_recall = scores['test_recall_macro'].mean()\n",
    "# forest_f1 = scores['test_f1_weighted'].mean()\n",
    "# forest_roc = scores['test_roc_auc'].mean()\n",
    "# random_forest.fit(X_train_down[train_cols],y_train_down[target])\n",
    "# forest_predict_down = random_forest.predict(X_test_down[train_cols])\n",
    "# forest_CM = confusion_matrix(y_test_down, forest_predict_down)\n",
    "# forest_specificity = forest_CM[0][0]/(forest_CM[0][0]+forest_CM[0][1])\n",
    "\n",
    "# #K-Nearest Neighbors\n",
    "\n",
    "# KNN = KNeighborsClassifier()\n",
    "# scoring = ['accuracy', 'precision_macro', 'recall_macro' , 'f1_weighted', 'roc_auc']\n",
    "# scores = cross_validate(KNN, X_train_down[train_cols], y_train_down[target], scoring=scoring, cv=5)\n",
    "# sorted(scores.keys())\n",
    "# KNN_fit_time = scores['fit_time'].mean()\n",
    "# KNN_score_time = scores['score_time'].mean()\n",
    "# KNN_accuracy = scores['test_accuracy'].mean()\n",
    "# KNN_precision = scores['test_precision_macro'].mean()\n",
    "# KNN_recall = scores['test_recall_macro'].mean()\n",
    "# KNN_f1 = scores['test_f1_weighted'].mean()\n",
    "# KNN_roc = scores['test_roc_auc'].mean()\n",
    "# KNN.fit(X_train_down[train_cols],y_train_down[target])\n",
    "# KNN_predict_down = KNN.predict(X_test_down[train_cols])\n",
    "# KNN_CM = confusion_matrix(y_test_down, KNN_predict_down)\n",
    "# KNN_specificity = KNN_CM[0][0]/(KNN_CM[0][0]+KNN_CM[0][1])\n",
    "\n",
    "# #Naive Bayes\n",
    "\n",
    "# scoring\n",
    "# bayes = GaussianNB()\n",
    "# scoring = ['accuracy', 'precision_macro', 'recall_macro' , 'f1_weighted', 'roc_auc']\n",
    "# scores = cross_validate(bayes, X_train_down[train_cols], y_train_down[target], scoring=scoring, cv=5)\n",
    "# sorted(scores.keys())\n",
    "# bayes_fit_time = scores['fit_time'].mean()\n",
    "# bayes_score_time = scores['score_time'].mean()\n",
    "# bayes_accuracy = scores['test_accuracy'].mean()\n",
    "# bayes_precision = scores['test_precision_macro'].mean()\n",
    "# bayes_recall = scores['test_recall_macro'].mean()\n",
    "# bayes_f1 = scores['test_f1_weighted'].mean()\n",
    "# bayes_roc = scores['test_roc_auc'].mean()\n",
    "# bayes.fit(X_train_down[train_cols],y_train_down[target])\n",
    "# bayes_predict_down = bayes.predict(X_test_down[train_cols])\n",
    "# bayes_CM = confusion_matrix(y_test_down, bayes_predict_down)\n",
    "# bayes_specificity = bayes_CM[0][0]/(bayes_CM[0][0]+bayes_CM[0][1])\n",
    "\n",
    "\n",
    "# ## Comparison\n",
    "\n",
    "# models_tree = pd.DataFrame({\n",
    "#     'Model'       : ['Logistic Regression', 'Decision Tree', 'Linear Discriminant Analysis', 'Quadratic Discriminant Analysis', 'Random Forest', 'K-Nearest Neighbors', 'Bayes'],\n",
    "#     'Fitting time': [LR_fit_time, dtree_fit_time, LDA_fit_time, QDA_fit_time, forest_fit_time, KNN_fit_time, bayes_fit_time],\n",
    "#     'Scoring time': [LR_score_time, dtree_score_time, LDA_score_time, QDA_score_time, forest_score_time, KNN_score_time, bayes_score_time],\n",
    "#     'Accuracy'    : [LR_accuracy, dtree_accuracy, LDA_accuracy, QDA_accuracy, forest_accuracy, KNN_accuracy, bayes_accuracy],\n",
    "#     'Precision'   : [LR_precision, dtree_precision, LDA_precision, QDA_precision, forest_precision, KNN_precision, bayes_precision],\n",
    "#     'Recall/Sensitivity' : [LR_recall, dtree_recall, LDA_recall, QDA_recall, forest_recall, KNN_recall, bayes_recall],\n",
    "#     'Specificity' : [LR_specificity, dtree_specificity, LDA_specificity, QDA_specificity, forest_specificity, KNN_specificity, bayes_specificity],\n",
    "#     'F1_score'    : [LR_f1, dtree_f1, LDA_f1, QDA_f1, forest_f1, KNN_f1, bayes_f1],\n",
    "#     'AUC_ROC'     : [LR_roc, dtree_roc, LDA_roc, QDA_roc, forest_roc, KNN_roc, bayes_roc],\n",
    "#     }, columns = ['Model', 'Fitting time', 'Scoring time', 'Accuracy', 'Precision', 'Recall/Sensitivity', 'Specificity', 'F1_score', 'AUC_ROC'])\n",
    "# models_tree.sort_values(by='Accuracy', ascending=False)"
   ]
  },
  {
   "cell_type": "code",
   "execution_count": 56,
   "metadata": {
    "execution": {
     "iopub.execute_input": "2020-10-12T19:20:00.031261Z",
     "iopub.status.busy": "2020-10-12T19:20:00.030394Z",
     "iopub.status.idle": "2020-10-12T19:20:00.034089Z",
     "shell.execute_reply": "2020-10-12T19:20:00.033220Z"
    },
    "papermill": {
     "duration": 0.123728,
     "end_time": "2020-10-12T19:20:00.034246",
     "exception": false,
     "start_time": "2020-10-12T19:19:59.910518",
     "status": "completed"
    },
    "tags": []
   },
   "outputs": [],
   "source": [
    "# feat_imp = pd.Series(random_forest.feature_importances_, index=train_cols)\n",
    "# feat_imp.sort_values(ascending=True).iloc[:20].plot(kind='barh', title='Feature Importances')\n",
    "# plt.ylabel('Feature Importance Score')"
   ]
  },
  {
   "cell_type": "code",
   "execution_count": 57,
   "metadata": {
    "execution": {
     "iopub.execute_input": "2020-10-12T19:20:00.272168Z",
     "iopub.status.busy": "2020-10-12T19:20:00.271229Z",
     "iopub.status.idle": "2020-10-12T19:20:00.274639Z",
     "shell.execute_reply": "2020-10-12T19:20:00.273867Z"
    },
    "papermill": {
     "duration": 0.127699,
     "end_time": "2020-10-12T19:20:00.274786",
     "exception": false,
     "start_time": "2020-10-12T19:20:00.147087",
     "status": "completed"
    },
    "tags": []
   },
   "outputs": [],
   "source": [
    "# #Logistic Regression\n",
    "\n",
    "# LR = LogisticRegression()\n",
    "# scoring = ['accuracy', 'precision_macro', 'recall_macro' , 'f1_weighted', 'roc_auc']\n",
    "# scores = cross_validate(LR, X_train[train_cols], y_train[target], scoring=scoring, cv=5)\n",
    "# sorted(scores.keys())\n",
    "# LR_fit_time = scores['fit_time'].mean()\n",
    "# LR_score_time = scores['score_time'].mean()\n",
    "# LR_accuracy = scores['test_accuracy'].mean()\n",
    "# LR_precision = scores['test_precision_macro'].mean()\n",
    "# LR_recall = scores['test_recall_macro'].mean()\n",
    "# LR_f1 = scores['test_f1_weighted'].mean()\n",
    "# LR_roc = scores['test_roc_auc'].mean()\n",
    "# LR.fit(X_train[train_cols],y_train[target])\n",
    "# LR_predict = LR.predict(X_test[train_cols])\n",
    "# LR_CM = confusion_matrix(y_test, LR_predict)\n",
    "# LR_specificity = LR_CM[0][0]/(LR_CM[0][0]+LR_CM[0][1])\n",
    "\n",
    "\n",
    "# #Decision Tree\n",
    "\n",
    "# decision_tree = DecisionTreeClassifier()\n",
    "# scoring = ['accuracy', 'precision_macro', 'recall_macro' , 'f1_weighted', 'roc_auc']\n",
    "# scores = cross_validate(decision_tree, X_train[train_cols], y_train[target], scoring=scoring, cv=5)\n",
    "# sorted(scores.keys())\n",
    "# dtree_fit_time = scores['fit_time'].mean()\n",
    "# dtree_score_time = scores['score_time'].mean()\n",
    "# dtree_accuracy = scores['test_accuracy'].mean()\n",
    "# dtree_precision = scores['test_precision_macro'].mean()\n",
    "# dtree_recall = scores['test_recall_macro'].mean()\n",
    "# dtree_f1 = scores['test_f1_weighted'].mean()\n",
    "# dtree_roc = scores['test_roc_auc'].mean()\n",
    "# decision_tree.fit(X_train[train_cols],y_train[target])\n",
    "# dtree_predict = decision_tree.predict(X_test[train_cols])\n",
    "# dtree_CM = confusion_matrix(y_test, dtree_predict)\n",
    "# dtree_specificity = dtree_CM[0][0]/(dtree_CM[0][0]+dtree_CM[0][1])\n",
    "\n",
    "\n",
    "# #Support Vector Machine\n",
    "\n",
    "# #SVM = SVC(probability = True)\n",
    "# #scoring = ['accuracy','precision_macro', 'recall_macro' , 'f1_weighted', 'roc_auc']\n",
    "# #scores = cross_validate(SVM, X_train[train_cols], y_train[target], scoring=scoring, cv=5)\n",
    "# #sorted(scores.keys())\n",
    "# #SVM_fit_time = scores['fit_time'].mean()\n",
    "# #SVM_score_time = scores['score_time'].mean()\n",
    "# #SVM_accuracy = scores['test_accuracy'].mean()\n",
    "# #SVM_precision = scores['test_precision_macro'].mean()\n",
    "# #SVM_recall = scores['test_recall_macro'].mean()\n",
    "# #SVM_f1 = scores['test_f1_weighted'].mean()\n",
    "# #SVM_roc = scores['test_roc_auc'].mean()\n",
    "# #SVM.fit(X_train[train_cols],y_train[target])\n",
    "# #SVM_predict = SVM.predict(X_test[train_cols])\n",
    "# #SVM_CM = confusion_matrix(y_test, SVM_predict)\n",
    "# #SVM_specificity = SVM_CM[0][0]/(SVM_CM[0][0]+SVM_CM[0][1])\n",
    "\n",
    "# #Linear Discriminant Analysis\n",
    "\n",
    "# LDA = LinearDiscriminantAnalysis()\n",
    "# scoring = ['accuracy', 'precision_macro', 'recall_macro' , 'f1_weighted', 'roc_auc']\n",
    "# scores = cross_validate(LDA, X_train[train_cols], y_train[target], scoring=scoring, cv=5)\n",
    "# sorted(scores.keys())\n",
    "# LDA_fit_time = scores['fit_time'].mean()\n",
    "# LDA_score_time = scores['score_time'].mean()\n",
    "# LDA_accuracy = scores['test_accuracy'].mean()\n",
    "# LDA_precision = scores['test_precision_macro'].mean()\n",
    "# LDA_recall = scores['test_recall_macro'].mean()\n",
    "# LDA_f1 = scores['test_f1_weighted'].mean()\n",
    "# LDA_roc = scores['test_roc_auc'].mean()\n",
    "# LDA.fit(X_train[train_cols],y_train[target])\n",
    "# LDA_predict = LDA.predict(X_test[train_cols])\n",
    "# LDA_CM = confusion_matrix(y_test, LDA_predict)\n",
    "# LDA_specificity = LDA_CM[0][0]/(LDA_CM[0][0]+LDA_CM[0][1])\n",
    "\n",
    "# #Quadratic Discriminant Analysis\n",
    "\n",
    "# QDA = QuadraticDiscriminantAnalysis()\n",
    "# scoring = ['accuracy', 'precision_macro', 'recall_macro' , 'f1_weighted', 'roc_auc']\n",
    "# scores = cross_validate(QDA, X_train[train_cols], y_train[target], scoring=scoring, cv=5)\n",
    "# sorted(scores.keys())\n",
    "# QDA_fit_time = scores['fit_time'].mean()\n",
    "# QDA_score_time = scores['score_time'].mean()\n",
    "# QDA_accuracy = scores['test_accuracy'].mean()\n",
    "# QDA_precision = scores['test_precision_macro'].mean()\n",
    "# QDA_recall = scores['test_recall_macro'].mean()\n",
    "# QDA_f1 = scores['test_f1_weighted'].mean()\n",
    "# QDA_roc = scores['test_roc_auc'].mean()\n",
    "# QDA.fit(X_train[train_cols],y_train[target])\n",
    "# QDA_predict = QDA.predict(X_test[train_cols])\n",
    "# QDA_CM = confusion_matrix(y_test, QDA_predict)\n",
    "# QDA_specificity = QDA_CM[0][0]/(QDA_CM[0][0]+QDA_CM[0][1])\n",
    "\n",
    "# #Random Forest Classifier\n",
    "\n",
    "# random_forest = RandomForestClassifier()\n",
    "# scoring = ['accuracy', 'precision_macro', 'recall_macro' , 'f1_weighted', 'roc_auc']\n",
    "# scores = cross_validate(random_forest, X_train[train_cols], y_train[target], scoring=scoring, cv=5)\n",
    "# sorted(scores.keys())\n",
    "# forest_fit_time = scores['fit_time'].mean()\n",
    "# forest_score_time = scores['score_time'].mean()\n",
    "# forest_accuracy = scores['test_accuracy'].mean()\n",
    "# forest_precision = scores['test_precision_macro'].mean()\n",
    "# forest_recall = scores['test_recall_macro'].mean()\n",
    "# forest_f1 = scores['test_f1_weighted'].mean()\n",
    "# forest_roc = scores['test_roc_auc'].mean()\n",
    "# random_forest.fit(X_train[train_cols],y_train[target])\n",
    "# forest_predict = random_forest.predict(X_test[train_cols])\n",
    "# forest_CM = confusion_matrix(y_test, forest_predict)\n",
    "# forest_specificity = forest_CM[0][0]/(forest_CM[0][0]+forest_CM[0][1])\n",
    "\n",
    "# #K-Nearest Neighbors\n",
    "\n",
    "# KNN = KNeighborsClassifier()\n",
    "# scoring = ['accuracy', 'precision_macro', 'recall_macro' , 'f1_weighted', 'roc_auc']\n",
    "# scores = cross_validate(KNN, X_train[train_cols], y_train[target], scoring=scoring, cv=5)\n",
    "# sorted(scores.keys())\n",
    "# KNN_fit_time = scores['fit_time'].mean()\n",
    "# KNN_score_time = scores['score_time'].mean()\n",
    "# KNN_accuracy = scores['test_accuracy'].mean()\n",
    "# KNN_precision = scores['test_precision_macro'].mean()\n",
    "# KNN_recall = scores['test_recall_macro'].mean()\n",
    "# KNN_f1 = scores['test_f1_weighted'].mean()\n",
    "# KNN_roc = scores['test_roc_auc'].mean()\n",
    "# KNN.fit(X_train[train_cols],y_train[target])\n",
    "# KNN_predict = KNN.predict(X_test[train_cols])\n",
    "# KNN_CM = confusion_matrix(y_test, KNN_predict)\n",
    "# KNN_specificity = KNN_CM[0][0]/(KNN_CM[0][0]+KNN_CM[0][1])\n",
    "\n",
    "# #Naive Bayes\n",
    "\n",
    "# scoring\n",
    "# bayes = GaussianNB()\n",
    "# scoring = ['accuracy', 'precision_macro', 'recall_macro' , 'f1_weighted', 'roc_auc']\n",
    "# scores = cross_validate(bayes, X_train[train_cols], y_train[target], scoring=scoring, cv=5)\n",
    "# sorted(scores.keys())\n",
    "# bayes_fit_time = scores['fit_time'].mean()\n",
    "# bayes_score_time = scores['score_time'].mean()\n",
    "# bayes_accuracy = scores['test_accuracy'].mean()\n",
    "# bayes_precision = scores['test_precision_macro'].mean()\n",
    "# bayes_recall = scores['test_recall_macro'].mean()\n",
    "# bayes_f1 = scores['test_f1_weighted'].mean()\n",
    "# bayes_roc = scores['test_roc_auc'].mean()\n",
    "# bayes.fit(X_train[train_cols],y_train[target])\n",
    "# bayes_predict = bayes.predict(X_test[train_cols])\n",
    "# bayes_CM = confusion_matrix(y_test, bayes_predict)\n",
    "# bayes_specificity = bayes_CM[0][0]/(bayes_CM[0][0]+bayes_CM[0][1])\n",
    "\n",
    "\n",
    "# ## Comparison\n",
    "\n",
    "# models_tree = pd.DataFrame({\n",
    "#     'Model'       : ['Logistic Regression', 'Decision Tree', 'Linear Discriminant Analysis', 'Quadratic Discriminant Analysis', 'Random Forest', 'K-Nearest Neighbors', 'Bayes'],\n",
    "#     'Fitting time': [LR_fit_time, dtree_fit_time, LDA_fit_time, QDA_fit_time, forest_fit_time, KNN_fit_time, bayes_fit_time],\n",
    "#     'Scoring time': [LR_score_time, dtree_score_time, LDA_score_time, QDA_score_time, forest_score_time, KNN_score_time, bayes_score_time],\n",
    "#     'Accuracy'    : [LR_accuracy, dtree_accuracy, LDA_accuracy, QDA_accuracy, forest_accuracy, KNN_accuracy, bayes_accuracy],\n",
    "#     'Precision'   : [LR_precision, dtree_precision, LDA_precision, QDA_precision, forest_precision, KNN_precision, bayes_precision],\n",
    "#     'Recall/Sensitivity'      : [LR_recall, dtree_recall, LDA_recall, QDA_recall, forest_recall, KNN_recall, bayes_recall],\n",
    "#     'Specifivity' : [LR_specificity, dtree_specificity, LDA_specificity, QDA_specificity, forest_specificity, KNN_specificity, bayes_specificity],\n",
    "#     'F1_score'    : [LR_f1, dtree_f1, LDA_f1, QDA_f1, forest_f1, KNN_f1, bayes_f1],\n",
    "#     'AUC_ROC'     : [LR_roc, dtree_roc, LDA_roc, QDA_roc, forest_roc, KNN_roc, bayes_roc],\n",
    "#     }, columns = ['Model', 'Fitting time', 'Scoring time', 'Accuracy', 'Precision', 'Recall/Sensitivity', 'Specifivity', 'F1_score', 'AUC_ROC'])\n",
    "# models_tree.sort_values(by='Accuracy', ascending=False)"
   ]
  },
  {
   "cell_type": "code",
   "execution_count": 58,
   "metadata": {
    "execution": {
     "iopub.execute_input": "2020-10-12T19:20:00.503625Z",
     "iopub.status.busy": "2020-10-12T19:20:00.502650Z",
     "iopub.status.idle": "2020-10-12T19:20:00.506596Z",
     "shell.execute_reply": "2020-10-12T19:20:00.505778Z"
    },
    "papermill": {
     "duration": 0.119816,
     "end_time": "2020-10-12T19:20:00.506754",
     "exception": false,
     "start_time": "2020-10-12T19:20:00.386938",
     "status": "completed"
    },
    "tags": []
   },
   "outputs": [],
   "source": [
    "# feat_imp = pd.Series(random_forest.feature_importances_, index=train_cols)\n",
    "# feat_imp.sort_values(ascending=True).iloc[:20].plot(kind='barh', title='Feature Importances')\n",
    "# plt.ylabel('Feature Importance Score')"
   ]
  },
  {
   "cell_type": "code",
   "execution_count": 59,
   "metadata": {
    "execution": {
     "iopub.execute_input": "2020-10-12T19:20:00.736546Z",
     "iopub.status.busy": "2020-10-12T19:20:00.735409Z",
     "iopub.status.idle": "2020-10-12T19:20:00.739352Z",
     "shell.execute_reply": "2020-10-12T19:20:00.738567Z"
    },
    "papermill": {
     "duration": 0.121181,
     "end_time": "2020-10-12T19:20:00.739494",
     "exception": false,
     "start_time": "2020-10-12T19:20:00.618313",
     "status": "completed"
    },
    "tags": []
   },
   "outputs": [],
   "source": [
    "# make_submission(LR_predict_dummy_down,\"LR_predict_dummy_down\")\n",
    "# make_submission(dtree_predict_dummy_down,\"dtree_predict_dummy_down\")\n",
    "# make_submission(LDA_predict_dummy_down,\"LDA_predict_dummy_down\")\n",
    "# make_submission(QDA_predict_dummy_down,\"QDA_predict_dummy_down\")\n",
    "# make_submission(forest_predict_dummy_down,\"forest_predict_dummy_down\")\n",
    "# make_submission(KNN_predict_dummy_down,\"KNN_predict_dummy_down\")\n",
    "# make_submission(bayes_predict_dummy_down,\"bayes_predict_dummy_down\")"
   ]
  },
  {
   "cell_type": "code",
   "execution_count": 60,
   "metadata": {
    "execution": {
     "iopub.execute_input": "2020-10-12T19:20:00.970044Z",
     "iopub.status.busy": "2020-10-12T19:20:00.968649Z",
     "iopub.status.idle": "2020-10-12T19:20:00.972934Z",
     "shell.execute_reply": "2020-10-12T19:20:00.972149Z"
    },
    "papermill": {
     "duration": 0.122641,
     "end_time": "2020-10-12T19:20:00.973075",
     "exception": false,
     "start_time": "2020-10-12T19:20:00.850434",
     "status": "completed"
    },
    "tags": []
   },
   "outputs": [],
   "source": [
    "# models_tree = pd.DataFrame({\n",
    "#     'Model'       : ['Logistic Regression', 'Decision Tree', 'Linear Discriminant Analysis', 'Quadratic Discriminant Analysis', 'Random Forest', 'K-Nearest Neighbors', 'Bayes'],\n",
    "#     'Fitting time': [LR_fit_time, dtree_fit_time, LDA_fit_time, QDA_fit_time, forest_fit_time, KNN_fit_time, bayes_fit_time],\n",
    "#     'Scoring time': [LR_score_time, dtree_score_time, LDA_score_time, QDA_score_time, forest_score_time, KNN_score_time, bayes_score_time],\n",
    "#     'Accuracy'    : [LR_accuracy, dtree_accuracy, LDA_accuracy, QDA_accuracy, forest_accuracy, KNN_accuracy, bayes_accuracy],\n",
    "#     'Precision'   : [LR_precision, dtree_precision, LDA_precision, QDA_precision, forest_precision, KNN_precision, bayes_precision],\n",
    "#     'Recall/Sensitivity'      : [LR_recall, dtree_recall, LDA_recall, QDA_recall, forest_recall, KNN_recall, bayes_recall],\n",
    "#     'Specifivity' : [LR_specificity, dtree_specificity, LDA_specificity, QDA_specificity, forest_specificity, KNN_specificity, bayes_specificity],\n",
    "#     'F1_score'    : [LR_f1, dtree_f1, LDA_f1, QDA_f1, forest_f1, KNN_f1, bayes_f1],\n",
    "#     'AUC_ROC'     : [LR_roc, dtree_roc, LDA_roc, QDA_roc, forest_roc, KNN_roc, bayes_roc],\n",
    "#     }, columns = ['Model', 'Fitting time', 'Scoring time', 'Accuracy', 'Precision', 'Recall/Sensitivity', 'Specifivity', 'F1_score', 'AUC_ROC'])\n",
    "# models_tree.sort_values(by='Accuracy', ascending=False)"
   ]
  },
  {
   "cell_type": "code",
   "execution_count": null,
   "metadata": {
    "papermill": {
     "duration": 0.112777,
     "end_time": "2020-10-12T19:20:01.196668",
     "exception": false,
     "start_time": "2020-10-12T19:20:01.083891",
     "status": "completed"
    },
    "tags": []
   },
   "outputs": [],
   "source": []
  }
 ],
 "metadata": {
  "kernelspec": {
   "display_name": "Python 3",
   "language": "python",
   "name": "python3"
  },
  "language_info": {
   "codemirror_mode": {
    "name": "ipython",
    "version": 3
   },
   "file_extension": ".py",
   "mimetype": "text/x-python",
   "name": "python",
   "nbconvert_exporter": "python",
   "pygments_lexer": "ipython3",
   "version": "3.7.6"
  },
  "papermill": {
   "duration": 111.754501,
   "end_time": "2020-10-12T19:20:01.421993",
   "environment_variables": {},
   "exception": null,
   "input_path": "__notebook__.ipynb",
   "output_path": "__notebook__.ipynb",
   "parameters": {},
   "start_time": "2020-10-12T19:18:09.667492",
   "version": "2.1.0"
  }
 },
 "nbformat": 4,
 "nbformat_minor": 4
}
